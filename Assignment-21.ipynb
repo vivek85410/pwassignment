{
 "cells": [
  {
   "cell_type": "code",
   "execution_count": 2,
   "id": "46ed2385-4b8c-4ba0-ab78-84076861e1e6",
   "metadata": {},
   "outputs": [],
   "source": [
    "#                                                              ques - 1"
   ]
  },
  {
   "cell_type": "code",
   "execution_count": 3,
   "id": "e4806d19-35aa-419b-98f8-d342ad4bb80d",
   "metadata": {},
   "outputs": [
    {
     "data": {
      "text/html": [
       "<div>\n",
       "<style scoped>\n",
       "    .dataframe tbody tr th:only-of-type {\n",
       "        vertical-align: middle;\n",
       "    }\n",
       "\n",
       "    .dataframe tbody tr th {\n",
       "        vertical-align: top;\n",
       "    }\n",
       "\n",
       "    .dataframe thead th {\n",
       "        text-align: right;\n",
       "    }\n",
       "</style>\n",
       "<table border=\"1\" class=\"dataframe\">\n",
       "  <thead>\n",
       "    <tr style=\"text-align: right;\">\n",
       "      <th></th>\n",
       "      <th>0</th>\n",
       "    </tr>\n",
       "  </thead>\n",
       "  <tbody>\n",
       "    <tr>\n",
       "      <th>2</th>\n",
       "      <td>Data Science</td>\n",
       "    </tr>\n",
       "    <tr>\n",
       "      <th>3</th>\n",
       "      <td>Machine Learning</td>\n",
       "    </tr>\n",
       "    <tr>\n",
       "      <th>6</th>\n",
       "      <td>Big Data</td>\n",
       "    </tr>\n",
       "    <tr>\n",
       "      <th>4</th>\n",
       "      <td>Data Engineer</td>\n",
       "    </tr>\n",
       "  </tbody>\n",
       "</table>\n",
       "</div>"
      ],
      "text/plain": [
       "                  0\n",
       "2      Data Science\n",
       "3  Machine Learning\n",
       "6          Big Data\n",
       "4     Data Engineer"
      ]
     },
     "execution_count": 3,
     "metadata": {},
     "output_type": "execute_result"
    }
   ],
   "source": [
    "import pandas as pd\n",
    "course_name = ['Data Science', 'Machine Learning', 'Big Data', 'Data Engineer']\n",
    "duration = [2,3,6,4]\n",
    "df = pd.DataFrame(course_name,duration)\n",
    "df"
   ]
  },
  {
   "cell_type": "code",
   "execution_count": 4,
   "id": "13e65dc0-69c1-430c-bd5f-8c0948a75607",
   "metadata": {},
   "outputs": [],
   "source": [
    "#                                                             ques - 2"
   ]
  },
  {
   "cell_type": "code",
   "execution_count": 5,
   "id": "f2652c43-962a-4fb6-a572-cce2f0b0b639",
   "metadata": {},
   "outputs": [
    {
     "data": {
      "text/plain": [
       "' The loc() function is label based data selecting method which means that we have to pass the name of the row or column which \\n    we want to select. \\n    The iloc() function is an indexed-based selecting method which means that we have to pass an integer index in the method \\n    to select a specific row/column. \\n    \\n'"
      ]
     },
     "execution_count": 5,
     "metadata": {},
     "output_type": "execute_result"
    }
   ],
   "source": [
    "\"\"\" The loc() function is label based data selecting method which means that we have to pass the name of the row or column which \n",
    "    we want to select. \n",
    "    The iloc() function is an indexed-based selecting method which means that we have to pass an integer index in the method \n",
    "    to select a specific row/column. \n",
    "    \n",
    "\"\"\""
   ]
  },
  {
   "cell_type": "code",
   "execution_count": 6,
   "id": "6ec81077-714d-47f7-a6bb-1905f69482e2",
   "metadata": {},
   "outputs": [],
   "source": [
    "#                                                             ques - 3"
   ]
  },
  {
   "cell_type": "code",
   "execution_count": 7,
   "id": "e043c7fb-980c-4253-8dfd-8dd0c445ec79",
   "metadata": {},
   "outputs": [
    {
     "data": {
      "text/html": [
       "<div>\n",
       "<style scoped>\n",
       "    .dataframe tbody tr th:only-of-type {\n",
       "        vertical-align: middle;\n",
       "    }\n",
       "\n",
       "    .dataframe tbody tr th {\n",
       "        vertical-align: top;\n",
       "    }\n",
       "\n",
       "    .dataframe thead th {\n",
       "        text-align: right;\n",
       "    }\n",
       "</style>\n",
       "<table border=\"1\" class=\"dataframe\">\n",
       "  <thead>\n",
       "    <tr style=\"text-align: right;\">\n",
       "      <th></th>\n",
       "      <th>Course_name</th>\n",
       "      <th>duration</th>\n",
       "    </tr>\n",
       "  </thead>\n",
       "  <tbody>\n",
       "    <tr>\n",
       "      <th>3</th>\n",
       "      <td>Data Engineer</td>\n",
       "      <td>4</td>\n",
       "    </tr>\n",
       "    <tr>\n",
       "      <th>0</th>\n",
       "      <td>Data Science</td>\n",
       "      <td>2</td>\n",
       "    </tr>\n",
       "    <tr>\n",
       "      <th>1</th>\n",
       "      <td>Machine Learning</td>\n",
       "      <td>3</td>\n",
       "    </tr>\n",
       "    <tr>\n",
       "      <th>2</th>\n",
       "      <td>Big Data</td>\n",
       "      <td>6</td>\n",
       "    </tr>\n",
       "  </tbody>\n",
       "</table>\n",
       "</div>"
      ],
      "text/plain": [
       "        Course_name  duration\n",
       "3     Data Engineer         4\n",
       "0      Data Science         2\n",
       "1  Machine Learning         3\n",
       "2          Big Data         6"
      ]
     },
     "execution_count": 7,
     "metadata": {},
     "output_type": "execute_result"
    }
   ],
   "source": [
    "df = pd.DataFrame({'Course_name':['Data Science', 'Machine Learning', 'Big Data', 'Data Engineer'],'duration':[2,3,6,4]})\n",
    "reindex = [3,0,1,2]\n",
    "new_df = df.reindex(reindex)\n",
    "new_df"
   ]
  },
  {
   "cell_type": "code",
   "execution_count": 8,
   "id": "2892b2ed-baba-4fcc-a7f2-9403879e941e",
   "metadata": {},
   "outputs": [
    {
     "data": {
      "text/plain": [
       "Course_name    Big Data\n",
       "duration              6\n",
       "Name: 2, dtype: object"
      ]
     },
     "execution_count": 8,
     "metadata": {},
     "output_type": "execute_result"
    }
   ],
   "source": [
    "new_df.loc[2]"
   ]
  },
  {
   "cell_type": "code",
   "execution_count": 9,
   "id": "3b3c862e-8b9d-4dd6-a10a-fc750ddcccf2",
   "metadata": {},
   "outputs": [
    {
     "data": {
      "text/plain": [
       "Course_name    Machine Learning\n",
       "duration                      3\n",
       "Name: 1, dtype: object"
      ]
     },
     "execution_count": 9,
     "metadata": {},
     "output_type": "execute_result"
    }
   ],
   "source": [
    "new_df.iloc[2]"
   ]
  },
  {
   "cell_type": "code",
   "execution_count": 10,
   "id": "c898f6ad-a6f6-48a1-ab92-3236921cd0fb",
   "metadata": {},
   "outputs": [
    {
     "data": {
      "text/plain": [
       "\" Yes there is difference between both the functions output as first one(.loc()) gives the output as Big data because\\n    .loc() function gives the output on the basis of name and as per name index 2 is of Big Data. but in case of \\n    .iloc() function , it gives the output as Machine learning because as per the original index no 2 is of machine learning\\n    only we have reindexed the data that's why it's output is Machine Learning.\\n\""
      ]
     },
     "execution_count": 10,
     "metadata": {},
     "output_type": "execute_result"
    }
   ],
   "source": [
    "\"\"\" Yes there is difference between both the functions output as first one(.loc()) gives the output as Big data because\n",
    "    .loc() function gives the output on the basis of name and as per name index 2 is of Big Data. but in case of \n",
    "    .iloc() function , it gives the output as Machine learning because as per the original index no 2 is of machine learning\n",
    "    only we have reindexed the data that's why it's output is Machine Learning.\n",
    "\"\"\""
   ]
  },
  {
   "cell_type": "code",
   "execution_count": 11,
   "id": "55bdecc1-a89d-495f-baf7-53f19285ca85",
   "metadata": {},
   "outputs": [],
   "source": [
    "#                                                            ques - 4"
   ]
  },
  {
   "cell_type": "code",
   "execution_count": 12,
   "id": "6723bd41-ce86-44bf-b1c3-4be4a6cc894f",
   "metadata": {},
   "outputs": [
    {
     "data": {
      "text/html": [
       "<div>\n",
       "<style scoped>\n",
       "    .dataframe tbody tr th:only-of-type {\n",
       "        vertical-align: middle;\n",
       "    }\n",
       "\n",
       "    .dataframe tbody tr th {\n",
       "        vertical-align: top;\n",
       "    }\n",
       "\n",
       "    .dataframe thead th {\n",
       "        text-align: right;\n",
       "    }\n",
       "</style>\n",
       "<table border=\"1\" class=\"dataframe\">\n",
       "  <thead>\n",
       "    <tr style=\"text-align: right;\">\n",
       "      <th></th>\n",
       "      <th>column_1</th>\n",
       "      <th>column_2</th>\n",
       "      <th>column_3</th>\n",
       "      <th>column_4</th>\n",
       "      <th>column_5</th>\n",
       "      <th>column_6</th>\n",
       "    </tr>\n",
       "  </thead>\n",
       "  <tbody>\n",
       "    <tr>\n",
       "      <th>1</th>\n",
       "      <td>0.652575</td>\n",
       "      <td>0.229715</td>\n",
       "      <td>0.242551</td>\n",
       "      <td>0.639446</td>\n",
       "      <td>0.483401</td>\n",
       "      <td>0.785339</td>\n",
       "    </tr>\n",
       "    <tr>\n",
       "      <th>2</th>\n",
       "      <td>0.674291</td>\n",
       "      <td>0.854879</td>\n",
       "      <td>0.460667</td>\n",
       "      <td>0.459245</td>\n",
       "      <td>0.518110</td>\n",
       "      <td>0.275127</td>\n",
       "    </tr>\n",
       "    <tr>\n",
       "      <th>3</th>\n",
       "      <td>0.565787</td>\n",
       "      <td>0.965516</td>\n",
       "      <td>0.710331</td>\n",
       "      <td>0.575024</td>\n",
       "      <td>0.739532</td>\n",
       "      <td>0.263252</td>\n",
       "    </tr>\n",
       "    <tr>\n",
       "      <th>4</th>\n",
       "      <td>0.525086</td>\n",
       "      <td>0.694533</td>\n",
       "      <td>0.653276</td>\n",
       "      <td>0.194321</td>\n",
       "      <td>0.015271</td>\n",
       "      <td>0.438693</td>\n",
       "    </tr>\n",
       "    <tr>\n",
       "      <th>5</th>\n",
       "      <td>0.591894</td>\n",
       "      <td>0.073833</td>\n",
       "      <td>0.716365</td>\n",
       "      <td>0.085866</td>\n",
       "      <td>0.990997</td>\n",
       "      <td>0.558496</td>\n",
       "    </tr>\n",
       "    <tr>\n",
       "      <th>6</th>\n",
       "      <td>0.498234</td>\n",
       "      <td>0.394868</td>\n",
       "      <td>0.169523</td>\n",
       "      <td>0.775773</td>\n",
       "      <td>0.996144</td>\n",
       "      <td>0.714176</td>\n",
       "    </tr>\n",
       "  </tbody>\n",
       "</table>\n",
       "</div>"
      ],
      "text/plain": [
       "   column_1  column_2  column_3  column_4  column_5  column_6\n",
       "1  0.652575  0.229715  0.242551  0.639446  0.483401  0.785339\n",
       "2  0.674291  0.854879  0.460667  0.459245  0.518110  0.275127\n",
       "3  0.565787  0.965516  0.710331  0.575024  0.739532  0.263252\n",
       "4  0.525086  0.694533  0.653276  0.194321  0.015271  0.438693\n",
       "5  0.591894  0.073833  0.716365  0.085866  0.990997  0.558496\n",
       "6  0.498234  0.394868  0.169523  0.775773  0.996144  0.714176"
      ]
     },
     "execution_count": 12,
     "metadata": {},
     "output_type": "execute_result"
    }
   ],
   "source": [
    "import pandas as pd\n",
    "import numpy as np\n",
    "columns = ['column_1', 'column_2', 'column_3', 'column_4', 'column_5', 'column_6']\n",
    "indices = [1,2,3,4,5,6]\n",
    "#Creating a dataframe:\n",
    "df1 = pd.DataFrame(np.random.rand(6,6), columns = columns, index = indices)\n",
    "df1"
   ]
  },
  {
   "cell_type": "code",
   "execution_count": 13,
   "id": "e77d4b23-79ea-4e65-8387-84af282bff8b",
   "metadata": {},
   "outputs": [
    {
     "data": {
      "text/plain": [
       "column_1    0.584644\n",
       "column_2    0.535557\n",
       "column_3    0.492119\n",
       "column_4    0.454946\n",
       "column_5    0.623909\n",
       "column_6    0.505847\n",
       "dtype: float64"
      ]
     },
     "execution_count": 13,
     "metadata": {},
     "output_type": "execute_result"
    }
   ],
   "source": [
    "df1.mean()"
   ]
  },
  {
   "cell_type": "code",
   "execution_count": 14,
   "id": "e895f7c4-bea0-4f27-94f2-87e6b8160d9d",
   "metadata": {},
   "outputs": [
    {
     "data": {
      "text/plain": [
       "0.3573869247357518"
      ]
     },
     "execution_count": 14,
     "metadata": {},
     "output_type": "execute_result"
    }
   ],
   "source": [
    "df1['column_2'].std()"
   ]
  },
  {
   "cell_type": "code",
   "execution_count": 15,
   "id": "bda187ea-c411-4295-b00e-f3c7b37e7a6f",
   "metadata": {},
   "outputs": [],
   "source": [
    "#                                                            ques - 5   "
   ]
  },
  {
   "cell_type": "code",
   "execution_count": 16,
   "id": "c830417b-29b2-4348-9e47-ffc69be9a822",
   "metadata": {},
   "outputs": [
    {
     "ename": "KeyError",
     "evalue": "'False: boolean label can not be used without a boolean index'",
     "output_type": "error",
     "traceback": [
      "\u001b[0;31m---------------------------------------------------------------------------\u001b[0m",
      "\u001b[0;31mKeyError\u001b[0m                                  Traceback (most recent call last)",
      "Cell \u001b[0;32mIn[16], line 1\u001b[0m\n\u001b[0;32m----> 1\u001b[0m \u001b[43mdf1\u001b[49m\u001b[38;5;241;43m.\u001b[39;49m\u001b[43mloc\u001b[49m\u001b[43m[\u001b[49m\u001b[43mdf1\u001b[49m\u001b[43m[\u001b[49m\u001b[38;5;124;43m'\u001b[39;49m\u001b[38;5;124;43mcolumn_2\u001b[39;49m\u001b[38;5;124;43m'\u001b[39;49m\u001b[43m]\u001b[49m\u001b[43m[\u001b[49m\u001b[38;5;241;43m2\u001b[39;49m\u001b[43m]\u001b[49m\u001b[43m \u001b[49m\u001b[38;5;241;43m==\u001b[39;49m\u001b[43m \u001b[49m\u001b[38;5;124;43m'\u001b[39;49m\u001b[38;5;124;43m53.6225\u001b[39;49m\u001b[38;5;124;43m'\u001b[39;49m\u001b[43m]\u001b[49m\n",
      "File \u001b[0;32m/opt/conda/lib/python3.10/site-packages/pandas/core/indexing.py:1073\u001b[0m, in \u001b[0;36m_LocationIndexer.__getitem__\u001b[0;34m(self, key)\u001b[0m\n\u001b[1;32m   1070\u001b[0m axis \u001b[38;5;241m=\u001b[39m \u001b[38;5;28mself\u001b[39m\u001b[38;5;241m.\u001b[39maxis \u001b[38;5;129;01mor\u001b[39;00m \u001b[38;5;241m0\u001b[39m\n\u001b[1;32m   1072\u001b[0m maybe_callable \u001b[38;5;241m=\u001b[39m com\u001b[38;5;241m.\u001b[39mapply_if_callable(key, \u001b[38;5;28mself\u001b[39m\u001b[38;5;241m.\u001b[39mobj)\n\u001b[0;32m-> 1073\u001b[0m \u001b[38;5;28;01mreturn\u001b[39;00m \u001b[38;5;28;43mself\u001b[39;49m\u001b[38;5;241;43m.\u001b[39;49m\u001b[43m_getitem_axis\u001b[49m\u001b[43m(\u001b[49m\u001b[43mmaybe_callable\u001b[49m\u001b[43m,\u001b[49m\u001b[43m \u001b[49m\u001b[43maxis\u001b[49m\u001b[38;5;241;43m=\u001b[39;49m\u001b[43maxis\u001b[49m\u001b[43m)\u001b[49m\n",
      "File \u001b[0;32m/opt/conda/lib/python3.10/site-packages/pandas/core/indexing.py:1311\u001b[0m, in \u001b[0;36m_LocIndexer._getitem_axis\u001b[0;34m(self, key, axis)\u001b[0m\n\u001b[1;32m   1308\u001b[0m         \u001b[38;5;28;01mreturn\u001b[39;00m \u001b[38;5;28mself\u001b[39m\u001b[38;5;241m.\u001b[39mobj\u001b[38;5;241m.\u001b[39miloc[\u001b[38;5;28mtuple\u001b[39m(indexer)]\n\u001b[1;32m   1310\u001b[0m \u001b[38;5;66;03m# fall thru to straight lookup\u001b[39;00m\n\u001b[0;32m-> 1311\u001b[0m \u001b[38;5;28;43mself\u001b[39;49m\u001b[38;5;241;43m.\u001b[39;49m\u001b[43m_validate_key\u001b[49m\u001b[43m(\u001b[49m\u001b[43mkey\u001b[49m\u001b[43m,\u001b[49m\u001b[43m \u001b[49m\u001b[43maxis\u001b[49m\u001b[43m)\u001b[49m\n\u001b[1;32m   1312\u001b[0m \u001b[38;5;28;01mreturn\u001b[39;00m \u001b[38;5;28mself\u001b[39m\u001b[38;5;241m.\u001b[39m_get_label(key, axis\u001b[38;5;241m=\u001b[39maxis)\n",
      "File \u001b[0;32m/opt/conda/lib/python3.10/site-packages/pandas/core/indexing.py:1118\u001b[0m, in \u001b[0;36m_LocIndexer._validate_key\u001b[0;34m(self, key, axis)\u001b[0m\n\u001b[1;32m   1108\u001b[0m \u001b[38;5;129m@doc\u001b[39m(_LocationIndexer\u001b[38;5;241m.\u001b[39m_validate_key)\n\u001b[1;32m   1109\u001b[0m \u001b[38;5;28;01mdef\u001b[39;00m \u001b[38;5;21m_validate_key\u001b[39m(\u001b[38;5;28mself\u001b[39m, key, axis: \u001b[38;5;28mint\u001b[39m):\n\u001b[1;32m   1110\u001b[0m     \u001b[38;5;66;03m# valid for a collection of labels (we check their presence later)\u001b[39;00m\n\u001b[1;32m   1111\u001b[0m     \u001b[38;5;66;03m# slice of labels (where start-end in labels)\u001b[39;00m\n\u001b[1;32m   1112\u001b[0m     \u001b[38;5;66;03m# slice of integers (only if in the labels)\u001b[39;00m\n\u001b[1;32m   1113\u001b[0m     \u001b[38;5;66;03m# boolean not in slice and with boolean index\u001b[39;00m\n\u001b[1;32m   1114\u001b[0m     \u001b[38;5;28;01mif\u001b[39;00m \u001b[38;5;28misinstance\u001b[39m(key, \u001b[38;5;28mbool\u001b[39m) \u001b[38;5;129;01mand\u001b[39;00m \u001b[38;5;129;01mnot\u001b[39;00m (\n\u001b[1;32m   1115\u001b[0m         is_bool_dtype(\u001b[38;5;28mself\u001b[39m\u001b[38;5;241m.\u001b[39mobj\u001b[38;5;241m.\u001b[39m_get_axis(axis))\n\u001b[1;32m   1116\u001b[0m         \u001b[38;5;129;01mor\u001b[39;00m \u001b[38;5;28mself\u001b[39m\u001b[38;5;241m.\u001b[39mobj\u001b[38;5;241m.\u001b[39m_get_axis(axis)\u001b[38;5;241m.\u001b[39mdtype\u001b[38;5;241m.\u001b[39mname \u001b[38;5;241m==\u001b[39m \u001b[38;5;124m\"\u001b[39m\u001b[38;5;124mboolean\u001b[39m\u001b[38;5;124m\"\u001b[39m\n\u001b[1;32m   1117\u001b[0m     ):\n\u001b[0;32m-> 1118\u001b[0m         \u001b[38;5;28;01mraise\u001b[39;00m \u001b[38;5;167;01mKeyError\u001b[39;00m(\n\u001b[1;32m   1119\u001b[0m             \u001b[38;5;124mf\u001b[39m\u001b[38;5;124m\"\u001b[39m\u001b[38;5;132;01m{\u001b[39;00mkey\u001b[38;5;132;01m}\u001b[39;00m\u001b[38;5;124m: boolean label can not be used without a boolean index\u001b[39m\u001b[38;5;124m\"\u001b[39m\n\u001b[1;32m   1120\u001b[0m         )\n\u001b[1;32m   1122\u001b[0m     \u001b[38;5;28;01mif\u001b[39;00m \u001b[38;5;28misinstance\u001b[39m(key, \u001b[38;5;28mslice\u001b[39m) \u001b[38;5;129;01mand\u001b[39;00m (\n\u001b[1;32m   1123\u001b[0m         \u001b[38;5;28misinstance\u001b[39m(key\u001b[38;5;241m.\u001b[39mstart, \u001b[38;5;28mbool\u001b[39m) \u001b[38;5;129;01mor\u001b[39;00m \u001b[38;5;28misinstance\u001b[39m(key\u001b[38;5;241m.\u001b[39mstop, \u001b[38;5;28mbool\u001b[39m)\n\u001b[1;32m   1124\u001b[0m     ):\n\u001b[1;32m   1125\u001b[0m         \u001b[38;5;28;01mraise\u001b[39;00m \u001b[38;5;167;01mTypeError\u001b[39;00m(\u001b[38;5;124mf\u001b[39m\u001b[38;5;124m\"\u001b[39m\u001b[38;5;132;01m{\u001b[39;00mkey\u001b[38;5;132;01m}\u001b[39;00m\u001b[38;5;124m: boolean values can not be used in a slice\u001b[39m\u001b[38;5;124m\"\u001b[39m)\n",
      "\u001b[0;31mKeyError\u001b[0m: 'False: boolean label can not be used without a boolean index'"
     ]
    }
   ],
   "source": [
    "df1.loc[df1['column_2'][2] == '53.6225']"
   ]
  },
  {
   "cell_type": "code",
   "execution_count": null,
   "id": "1237e878-ff74-4c3d-99b6-b802be58dc62",
   "metadata": {},
   "outputs": [],
   "source": [
    "\"\"\" the output of this code is generating an error as -\"false : boolean label can not be used without a  boolean index\" -\n",
    "    this error is appearing because booean indexing takes index as True or False but in this case the index of the DataFrame\n",
    "    is integer so this error is generating.\n",
    "\"\"\""
   ]
  },
  {
   "cell_type": "code",
   "execution_count": null,
   "id": "b21fd7b3-6910-4280-974d-514d64a6af8f",
   "metadata": {},
   "outputs": [],
   "source": [
    "#                                                             ques - 6"
   ]
  },
  {
   "cell_type": "code",
   "execution_count": null,
   "id": "210e2b5d-3ea7-45b9-a4fc-749f57054963",
   "metadata": {},
   "outputs": [],
   "source": [
    "\"\"\" The window functions in Pandas are used to perform some sort of calculations across a set of rows that are interrelated\n",
    "    with the current row.\n",
    "    1. Rolling window\n",
    "    2. Weighted window\n",
    "    3. Expanding window\n",
    "    4. Exponentially Weighted window\n",
    "\"\"\""
   ]
  },
  {
   "cell_type": "code",
   "execution_count": null,
   "id": "03347d6d-f76a-4b1f-99a4-ff3db6a3b780",
   "metadata": {},
   "outputs": [],
   "source": [
    "#                                                             ques - 7"
   ]
  },
  {
   "cell_type": "code",
   "execution_count": null,
   "id": "194c9bc0-c008-447e-806c-f6c53d3d4422",
   "metadata": {},
   "outputs": [],
   "source": [
    "datetime = pd.DataFrame({'date':['2023-10-30']})"
   ]
  },
  {
   "cell_type": "code",
   "execution_count": null,
   "id": "13af34f4-bef2-4301-b5cd-12809720b4f0",
   "metadata": {},
   "outputs": [],
   "source": [
    "datetime['updated_time'] = pd.to_datetime(datetime['date'])"
   ]
  },
  {
   "cell_type": "code",
   "execution_count": null,
   "id": "beb5a82d-9786-4b74-bc58-720b13afaad5",
   "metadata": {},
   "outputs": [],
   "source": [
    "datetime"
   ]
  },
  {
   "cell_type": "code",
   "execution_count": null,
   "id": "d39a8e04-a366-46a0-873e-b67b7f3d56d2",
   "metadata": {},
   "outputs": [],
   "source": [
    "datetime['month'] = datetime['updated_time'].dt.month"
   ]
  },
  {
   "cell_type": "code",
   "execution_count": null,
   "id": "37ac604d-e20e-4b48-9dea-edf42b71ec69",
   "metadata": {},
   "outputs": [],
   "source": [
    "datetime"
   ]
  },
  {
   "cell_type": "code",
   "execution_count": null,
   "id": "617e218b-ae1f-41ed-b761-d5e488df0169",
   "metadata": {},
   "outputs": [],
   "source": [
    "datetime['year'] = datetime['updated_time'].dt.year"
   ]
  },
  {
   "cell_type": "code",
   "execution_count": null,
   "id": "93672549-8160-478e-947c-4e8cbfd3e37c",
   "metadata": {},
   "outputs": [],
   "source": [
    "datetime"
   ]
  },
  {
   "cell_type": "code",
   "execution_count": null,
   "id": "0e91e3da-27d5-4c76-9986-aa8a28475af3",
   "metadata": {},
   "outputs": [],
   "source": [
    "#                                                            ques - 8"
   ]
  },
  {
   "cell_type": "code",
   "execution_count": null,
   "id": "c811efec-38c0-4152-990c-d8df8c77021e",
   "metadata": {},
   "outputs": [],
   "source": [
    "from datetime import date, datetime\n",
    "print(\"enter both the dates : \")\n",
    "date1 = date(2023,10,20)\n",
    "date2 = date(2023,10,30)\n",
    "\n",
    "def datediffer(date1,date2):\n",
    "    return(date2-date1).days\n",
    "\n",
    "print(pd.Timedelta(datediffer(date1,date2)))"
   ]
  },
  {
   "cell_type": "code",
   "execution_count": null,
   "id": "9f5e6394-4361-4ba8-bbc0-6caef56f2561",
   "metadata": {},
   "outputs": [],
   "source": [
    "#                                                           ques - 9"
   ]
  },
  {
   "cell_type": "code",
   "execution_count": null,
   "id": "f6884d8e-1dc1-4886-bd57-b0e6fbce39aa",
   "metadata": {},
   "outputs": [],
   "source": [
    "file_path = input(\"enter the file path : \")\n",
    "column_name = input(\"enter the column name : \")\n",
    "categorical_order = input(\"enter the categorical order : \")  \n",
    "categorical_files = pd.read_csv(\"file_path\")\n",
    "new_df = pd.DataFrame(categorical_files,dtypes = \"category\")\n",
    "categorical_files[column_name] = new_df.sort_values(by = [categorical_order])"
   ]
  },
  {
   "cell_type": "code",
   "execution_count": null,
   "id": "e4daf7e4-7118-410d-a31f-d104ea210b06",
   "metadata": {},
   "outputs": [],
   "source": []
  }
 ],
 "metadata": {
  "kernelspec": {
   "display_name": "Python 3 (ipykernel)",
   "language": "python",
   "name": "python3"
  },
  "language_info": {
   "codemirror_mode": {
    "name": "ipython",
    "version": 3
   },
   "file_extension": ".py",
   "mimetype": "text/x-python",
   "name": "python",
   "nbconvert_exporter": "python",
   "pygments_lexer": "ipython3",
   "version": "3.10.8"
  }
 },
 "nbformat": 4,
 "nbformat_minor": 5
}
