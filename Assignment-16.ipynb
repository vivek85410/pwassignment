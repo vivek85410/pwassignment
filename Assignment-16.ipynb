{
 "cells": [
  {
   "cell_type": "code",
   "execution_count": 1,
   "id": "7b4977d1-2fb0-4a69-8d1e-a6f459482cff",
   "metadata": {},
   "outputs": [],
   "source": [
    "#                                                                ques - 1"
   ]
  },
  {
   "cell_type": "code",
   "execution_count": null,
   "id": "fab3c101-8044-4b31-984b-27e6c0797db4",
   "metadata": {},
   "outputs": [],
   "source": [
    "\"\"\" GET method : In GET method we can not send large amount of data rather limited data is sent because the request parameter is appended into the URL. \n",
    "    which means we send data through url. GET request is comparatively less secure because the data is exposed in the URL bar.In GET method only ASCII\n",
    "    characters are allowed.\n",
    "    \n",
    "    POST method : In POST method large amount of data can be sent because the request parameter is appended into the body. which means we send data through \n",
    "    the body.POST request is comparatively more secure because the data is not exposed in the URL bar.In POST method all types of data is allowed.\n",
    "\"\"\""
   ]
  },
  {
   "cell_type": "code",
   "execution_count": null,
   "id": "388c73a1-4564-45be-8da2-7c83c533fc41",
   "metadata": {},
   "outputs": [],
   "source": [
    "#                                                                ques - 2"
   ]
  },
  {
   "cell_type": "code",
   "execution_count": null,
   "id": "b192ae2e-7f4b-48a9-8e6c-65076124a1ff",
   "metadata": {},
   "outputs": [],
   "source": [
    "\"\"\" request is used in flask to send the data from the client side to server side in client - server architecture. we makes a object for request\n",
    "    and through which we send the data in the form of different types likes form , args , method , cookies and files. \n",
    "    request gives the data to the server and through the data the server exectues the function and dispaly the output.\n",
    "\"\"\" "
   ]
  },
  {
   "cell_type": "code",
   "execution_count": null,
   "id": "8301ec11-c512-4083-aac2-290ad09afc55",
   "metadata": {},
   "outputs": [],
   "source": [
    "#                                                                ques - 3"
   ]
  },
  {
   "cell_type": "code",
   "execution_count": null,
   "id": "99c03220-0fc1-4160-bf34-50c7154f4a97",
   "metadata": {},
   "outputs": [],
   "source": [
    "\"\"\" A redirect is used in the Flask class to send the user to a particular URL with the status code. which means redirect sends the user to a \n",
    "    another url if the condition of the function satisfies. to use the redirect function , we have to import the redirect library. \n",
    "    syntax : \n",
    "    flask.redirect(location,code=302)\n",
    "\"\"\""
   ]
  },
  {
   "cell_type": "code",
   "execution_count": null,
   "id": "bc171186-afbd-4960-94c7-c86c61707544",
   "metadata": {},
   "outputs": [],
   "source": [
    "#                                                                ques - 4"
   ]
  },
  {
   "cell_type": "code",
   "execution_count": null,
   "id": "d32498cc-1e51-4a3f-a2cc-b623f3022d81",
   "metadata": {},
   "outputs": [],
   "source": [
    "\"\"\" Templates are files that contain static data as well as placeholders for dynamic data. A template is rendered with specific data to produce a final document\n",
    "    Flask facilitates us to render the external HTML file instead of hardcoding the HTML in the view function. Flask uses the Jinja template library to\n",
    "    render templates. \n",
    "    \n",
    "    Flask provides us the render_template() function which can be used to render the external HTML file to be returned as the response from the view function.\n",
    "    so throught the help of render_template() function wwe can return some HTML pages/files as a response.\n",
    "\"\"\""
   ]
  },
  {
   "cell_type": "code",
   "execution_count": null,
   "id": "d290804d-adcb-40e3-9633-a541b97638e3",
   "metadata": {},
   "outputs": [],
   "source": [
    "#                                                                ques - 5"
   ]
  },
  {
   "cell_type": "code",
   "execution_count": 1,
   "id": "ce5363ff-3ef2-4792-be2f-6ed476fc7117",
   "metadata": {},
   "outputs": [
    {
     "data": {
      "text/html": [
       "<img src=\"https://user-images.githubusercontent.com/104557123/265287737-c3f1c8fd-2de8-426e-82ea-cd966e5ed51a.png\" width=\"500\" height=\"500\"/>"
      ],
      "text/plain": [
       "<IPython.core.display.Image object>"
      ]
     },
     "execution_count": 1,
     "metadata": {},
     "output_type": "execute_result"
    }
   ],
   "source": [
    "from IPython import display\n",
    "display.Image(url = \"https://user-images.githubusercontent.com/104557123/265287737-c3f1c8fd-2de8-426e-82ea-cd966e5ed51a.png\",height = 500 ,width = 500)"
   ]
  },
  {
   "cell_type": "code",
   "execution_count": null,
   "id": "f9bb7f8c-977a-4a58-8ad4-58c3deb8e30e",
   "metadata": {},
   "outputs": [],
   "source": []
  }
 ],
 "metadata": {
  "kernelspec": {
   "display_name": "Python 3 (ipykernel)",
   "language": "python",
   "name": "python3"
  },
  "language_info": {
   "codemirror_mode": {
    "name": "ipython",
    "version": 3
   },
   "file_extension": ".py",
   "mimetype": "text/x-python",
   "name": "python",
   "nbconvert_exporter": "python",
   "pygments_lexer": "ipython3",
   "version": "3.10.8"
  }
 },
 "nbformat": 4,
 "nbformat_minor": 5
}
