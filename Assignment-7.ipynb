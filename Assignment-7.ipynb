{
 "cells": [
  {
   "cell_type": "code",
   "execution_count": null,
   "id": "1d77a404-a8eb-4aac-a819-160f0c02cb92",
   "metadata": {},
   "outputs": [],
   "source": [
    "#                                                                 ques - 1"
   ]
  },
  {
   "cell_type": "code",
   "execution_count": null,
   "id": "f4f32e38-39a8-4058-af46-e675c3a139d3",
   "metadata": {},
   "outputs": [],
   "source": [
    "\"\"\" Abstraction in oops(object oriented programming system) is a piller. In abstraction ,the unnecessary data is kept hidden and only \n",
    "    the important data(for user) is shown to the user. \"\"\"\n",
    "\n",
    "\"\"\" example of abstraction : In our house , for every T.V(television) there is a remote through which we can perform many actions, like\n",
    "    increse/decrease volume , change the channel, menu button ,etc. so as a user we only know the information about the function of different\n",
    "    button that what the buttons does, but he thing is we actually don't know how the functions is performed. so that's the method of abstraction.\n",
    "\"\"\""
   ]
  },
  {
   "cell_type": "code",
   "execution_count": null,
   "id": "9165faf5-61f8-4cc1-ac73-cb4a4f521ce3",
   "metadata": {},
   "outputs": [],
   "source": [
    "#                                                                 ques - 2"
   ]
  },
  {
   "cell_type": "code",
   "execution_count": null,
   "id": "eea0af82-26e5-48dc-aadf-587065953cfd",
   "metadata": {},
   "outputs": [],
   "source": [
    "\"\"\" the major difference between abstractipon and encapsulation is that , In abstraction the unnecessary data is kept hidden and necessary data \n",
    "    is shown but In encapsulation all the methods are kept private and wraps in to a single unit, and no any class other than the original class\n",
    "    can access those methods or data. but it can be accessed indirectly by help of different methods.\"\"\" \n",
    "\"\"\" example of abstraction is given above for remote as we don't know the working of the button but we know that what will be done the buttons.\n",
    "    exapmle of encapuslation is medicine . as all the medicines are wrapped into a sinle unit to soluable material that protects the medicine \n",
    "    from the outer atmosphere like air or different chemicals that can damage the medicine. \"\"\""
   ]
  },
  {
   "cell_type": "code",
   "execution_count": null,
   "id": "0c0b26ba-4aa4-4580-bcfb-5fbe4e5dd320",
   "metadata": {},
   "outputs": [],
   "source": [
    "#                                                                 ques - 3"
   ]
  },
  {
   "cell_type": "code",
   "execution_count": null,
   "id": "b9e0b0c7-070e-48c5-8689-f2dfc29f98ef",
   "metadata": {},
   "outputs": [],
   "source": [
    "\"\"\" the 'abc' module stands for abstract base classes. The ‘abc’ module in the Python library provides the infrastructure for defining custom \n",
    "    abstract base classes. Abstract class cannot be instantiated in python. An Abstract method can be call by its subclasses.\n",
    "    @abstractmethod:\n",
    "    It is used to make the method of the abstract class as an abstract method.\n",
    "    The abc module provides us the following,\n",
    "\n",
    "    ABCMeta\n",
    "    ABC ( helper class )\n",
    "    \"\"\""
   ]
  },
  {
   "cell_type": "code",
   "execution_count": null,
   "id": "0a12afd4-a75c-40b9-8df1-60376c6d522a",
   "metadata": {},
   "outputs": [],
   "source": [
    "#                                                                ques - 4"
   ]
  },
  {
   "cell_type": "code",
   "execution_count": null,
   "id": "997b46bf-778f-4924-97e1-85f8ef62c7a4",
   "metadata": {},
   "outputs": [],
   "source": [
    "\"\"\" Data Abstraction in Python can be achieved through creating abstract classes and inheriting them later. As abstraction in python is \n",
    "    not initiated so we cannot create any object for this abstract class the only thing we can do is we can inherit them in subclass or\n",
    "    derived class .\"\"\""
   ]
  },
  {
   "cell_type": "code",
   "execution_count": null,
   "id": "f494c55e-382e-4dde-b728-23cd2ea5251f",
   "metadata": {},
   "outputs": [],
   "source": [
    "#                                                                ques - 5"
   ]
  },
  {
   "cell_type": "code",
   "execution_count": null,
   "id": "2b0356ef-07d3-4cd3-bac3-c378450fe8b3",
   "metadata": {},
   "outputs": [],
   "source": [
    "\"\"\" We cannot create an Instance of an abstract class but we can create a subclass for that abstract class and can inherit and override\n",
    "    the methods as per use and then we can create an object for that sub class and through which we can achieve the abstract class data\n",
    "    or methods.\n",
    "    so there is no any options available for directly making an instance for abstract class. and can only be achieved by the help of subclass.\"\"\""
   ]
  }
 ],
 "metadata": {
  "kernelspec": {
   "display_name": "Python 3 (ipykernel)",
   "language": "python",
   "name": "python3"
  },
  "language_info": {
   "codemirror_mode": {
    "name": "ipython",
    "version": 3
   },
   "file_extension": ".py",
   "mimetype": "text/x-python",
   "name": "python",
   "nbconvert_exporter": "python",
   "pygments_lexer": "ipython3",
   "version": "3.10.8"
  }
 },
 "nbformat": 4,
 "nbformat_minor": 5
}
