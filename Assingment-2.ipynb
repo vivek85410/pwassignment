{
 "cells": [
  {
   "cell_type": "code",
   "execution_count": null,
   "id": "f3bc6a30-5f9b-44b0-8743-2be826723ceb",
   "metadata": {},
   "outputs": [],
   "source": [
    "#                                                                    ques - 1"
   ]
  },
  {
   "cell_type": "code",
   "execution_count": null,
   "id": "8c7bc2a2-1117-4790-af8f-b3b348bf4419",
   "metadata": {},
   "outputs": [],
   "source": [
    "''' comments in python is done to add readability to the code. it make the reader or other programmer to read the code\n",
    "    and understand it easily ''' \n",
    "\n",
    "''' there are two methods to comment in code in python \n",
    "    1 . single line comment  - (#) we use this symbol to comment a single line in the code\n",
    "    2 . multi line comment  - (''' ...... ''') we use this symbol to write a paragraph of the code with using (#) this symbol in\n",
    "        every line of comment."
   ]
  },
  {
   "cell_type": "code",
   "execution_count": null,
   "id": "686d1cb0-60a6-4c3d-81bb-d5edb512e63b",
   "metadata": {},
   "outputs": [],
   "source": [
    "#                                                                    ques - 2"
   ]
  },
  {
   "cell_type": "code",
   "execution_count": null,
   "id": "92d515cf-a9a8-4e39-a3a4-bea9a701578e",
   "metadata": {},
   "outputs": [],
   "source": [
    "''' variables in python are the reference in which the data is stored. it stores some specific type of data or mixture of different\n",
    "    types of data. '''\n",
    "''' In python declaring the variable and assigning the data is very easy as programmer doesnot need to specify the data type of the \n",
    "    variable that which type of data will it hold. '''\n",
    "\n",
    "# syntax : variable_name = value\n",
    "\n",
    "''' example - var_1 = 23\n",
    "              vivek = \"this is example\"\n",
    "              _var_2 = True         , etc"
   ]
  },
  {
   "cell_type": "code",
   "execution_count": null,
   "id": "18349a45-7630-44d0-8923-ebbb186d388e",
   "metadata": {},
   "outputs": [],
   "source": [
    "#                                                                    ques - 3"
   ]
  },
  {
   "cell_type": "code",
   "execution_count": null,
   "id": "a6992a49-0516-4f8b-9e1f-f537c4d5408b",
   "metadata": {},
   "outputs": [],
   "source": [
    "''' To convert one data type into another , we use the typecasting method in python \n",
    "    example - to convert int into float data type \n",
    "                var_1 = 56\n",
    "                by typecasting, it will be \n",
    "                flaot(var_1)\n",
    "                answer will be 56.00"
   ]
  },
  {
   "cell_type": "code",
   "execution_count": null,
   "id": "2690fcf4-ca0e-44c5-963f-42bcc782967f",
   "metadata": {},
   "outputs": [],
   "source": [
    "#                                                                    ques - 4"
   ]
  },
  {
   "cell_type": "code",
   "execution_count": null,
   "id": "5f1be843-e8cf-4a76-b666-f8aecdc704ae",
   "metadata": {},
   "outputs": [],
   "source": [
    "''' For writting and executing code in python by the help of command line ,\n",
    "    we first create a file  using \"vim\" command in command line and save the file by using the extension (.py). then we \n",
    "    switch the mode to insert by using the command (i) .\n",
    "    now we can write the code in python.'''\n",
    "\n",
    "''' For executing the written code in command line , we first write the keyword python followed by the file name and \n",
    "    then press the enter button so that the python file executes and the outputvappears on the screen.\n",
    "     \n",
    "    example - python hello.py '''"
   ]
  },
  {
   "cell_type": "code",
   "execution_count": null,
   "id": "9adc396b-5917-4245-9ea9-124e6582e02d",
   "metadata": {},
   "outputs": [],
   "source": [
    "#                                                                    ques - 5"
   ]
  },
  {
   "cell_type": "code",
   "execution_count": 5,
   "id": "767eddd7-e288-4750-a5cb-dc51d0e87078",
   "metadata": {},
   "outputs": [
    {
     "data": {
      "text/plain": [
       "[2, 3]"
      ]
     },
     "execution_count": 5,
     "metadata": {},
     "output_type": "execute_result"
    }
   ],
   "source": [
    "my_list = [1, 2, 3, 4, 5]\n",
    "my_list[1:3]"
   ]
  },
  {
   "cell_type": "code",
   "execution_count": null,
   "id": "a3daab98-9da4-4c4c-8da6-fde945c2e4f4",
   "metadata": {},
   "outputs": [],
   "source": [
    "#                                                                    ques - 6"
   ]
  },
  {
   "cell_type": "code",
   "execution_count": null,
   "id": "f6e7f0f6-1333-4936-b115-d16ef5f3a5ba",
   "metadata": {},
   "outputs": [],
   "source": [
    "''' complex number is a number which is the combination of real numbers as well as imaginary numbers.\n",
    "    for example - 2+3I\n",
    "                  58 - 7I, etc\n",
    "    there are two ways in which complex number is initialized \n",
    "    1 :  z = 3+7i\n",
    "    2 :  complex(x,y) by using the complex function"
   ]
  },
  {
   "cell_type": "code",
   "execution_count": null,
   "id": "9faa1ae1-30c1-47c9-bd4d-8c81b996fbd9",
   "metadata": {},
   "outputs": [],
   "source": [
    "#                                                                    ques - 7"
   ]
  },
  {
   "cell_type": "code",
   "execution_count": null,
   "id": "d03e2af1-5e0e-4ddb-934e-c6dfa3e2adb6",
   "metadata": {},
   "outputs": [],
   "source": [
    "age = 23"
   ]
  },
  {
   "cell_type": "code",
   "execution_count": null,
   "id": "7c2cc712-0808-432a-ae1d-d16eb071f684",
   "metadata": {},
   "outputs": [],
   "source": [
    "#                                                                    ques - 8"
   ]
  },
  {
   "cell_type": "code",
   "execution_count": 8,
   "id": "5a10733f-f7d2-46e5-93c0-b268577608ed",
   "metadata": {},
   "outputs": [
    {
     "data": {
      "text/plain": [
       "float"
      ]
     },
     "execution_count": 8,
     "metadata": {},
     "output_type": "execute_result"
    }
   ],
   "source": [
    "price = 9.99 # it will be of float data type\n",
    "type(price)"
   ]
  },
  {
   "cell_type": "code",
   "execution_count": null,
   "id": "852824d4-f23e-4282-a6bb-77cd40812678",
   "metadata": {},
   "outputs": [],
   "source": [
    "#                                                                    ques - 9"
   ]
  },
  {
   "cell_type": "code",
   "execution_count": 9,
   "id": "9a937026-ba5b-45a6-be67-6531f353c6f8",
   "metadata": {},
   "outputs": [
    {
     "name": "stdout",
     "output_type": "stream",
     "text": [
      "vivek\n"
     ]
    }
   ],
   "source": [
    "name = \"vivek\"\n",
    "print(name)"
   ]
  },
  {
   "cell_type": "code",
   "execution_count": null,
   "id": "d61cda25-09db-4664-ae80-b24d8e9f620b",
   "metadata": {},
   "outputs": [],
   "source": [
    "#                                                                    ques - 10"
   ]
  },
  {
   "cell_type": "code",
   "execution_count": 10,
   "id": "6532b367-3e9f-458a-9318-616635381f1d",
   "metadata": {},
   "outputs": [
    {
     "data": {
      "text/plain": [
       "'World'"
      ]
     },
     "execution_count": 10,
     "metadata": {},
     "output_type": "execute_result"
    }
   ],
   "source": [
    "given = \"Hello, World!\"\n",
    "given[7:12]"
   ]
  },
  {
   "cell_type": "code",
   "execution_count": null,
   "id": "44474ff6-64e4-4a80-89a7-978c6f85771c",
   "metadata": {},
   "outputs": [],
   "source": [
    "#                                                                    ques - 11"
   ]
  },
  {
   "cell_type": "code",
   "execution_count": 11,
   "id": "f46e5fd7-07d2-4a96-9564-f4a7368350c0",
   "metadata": {},
   "outputs": [],
   "source": [
    "is_student = True"
   ]
  }
 ],
 "metadata": {
  "kernelspec": {
   "display_name": "Python 3 (ipykernel)",
   "language": "python",
   "name": "python3"
  },
  "language_info": {
   "codemirror_mode": {
    "name": "ipython",
    "version": 3
   },
   "file_extension": ".py",
   "mimetype": "text/x-python",
   "name": "python",
   "nbconvert_exporter": "python",
   "pygments_lexer": "ipython3",
   "version": "3.10.8"
  }
 },
 "nbformat": 4,
 "nbformat_minor": 5
}
