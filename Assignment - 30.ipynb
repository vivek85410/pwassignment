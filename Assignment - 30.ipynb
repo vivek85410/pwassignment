{
 "cells": [
  {
   "cell_type": "markdown",
   "id": "261dc8e8-5cee-45ad-847e-161779da7d0e",
   "metadata": {},
   "source": [
    "# ques - 1"
   ]
  },
  {
   "cell_type": "code",
   "execution_count": null,
   "id": "f426fe2a-a40b-4452-b1bd-d4636af03d25",
   "metadata": {},
   "outputs": [],
   "source": [
    "\"\"\" The probability mass function (PMF) is a function that describes the probability of a discrete random variable\n",
    "    taking on a certain value. It is a mathematical function that describes the probability that a random variable\n",
    "    will take on a specific value rather than falling within a range of values. \n",
    "                                                                        for example : Suppose a fair coin is tossed \n",
    "    twice and the sample space is recorded as S = [HH, HT, TH, TT].The probability of getting heads needs to be \n",
    "    determined. Let X be the random variable that shows how many heads are obtained. X can take on the values 0, 1, 2.\n",
    "    The probability that X will be equal to 1 is 0.5. Thus, it can be said that the probability mass function of X\n",
    "    evaluated at 1 will be 0.5.\n",
    "\n",
    "    The probability density function (PDF) is a function that describes the probability of a continuous random variable\n",
    "    taking on a certain value. It is a mathematical function that describes the probability that a random variable will\n",
    "    fall within a certain range of values.\n",
    "                                    for example : The probability density function is used in modelling the annual data \n",
    "    of atmospheric NOx temporal concentration , also It is used to model the diesel engine combustion.\n",
    "\"\"\""
   ]
  },
  {
   "cell_type": "markdown",
   "id": "284ab179-75f7-414d-8a52-86d3b30c81bd",
   "metadata": {},
   "source": [
    "##  ques - 2"
   ]
  },
  {
   "cell_type": "code",
   "execution_count": null,
   "id": "f3f3e3db-f66c-4b46-abc9-ffcd482bd115",
   "metadata": {},
   "outputs": [],
   "source": [
    "\"\"\" The cumulative distribution function(CDF) is a function that describes the probability that a random variable \n",
    "    (continuous or discrete) will take on a value less than or equal to a certain value. It is a mathematical \n",
    "    function that describes the probability that a random variable will fall within a certain range of values, up to\n",
    "    and including a specific value.\n",
    "                                for example : consider the height of an adult male in the United States. We can use \n",
    "    the cumulative distribution function to find the probability that a  person is less than or equal to 6 feet tall.\n",
    "    Adult males in the U.S. have heights that follow a normal distribution with a mean of 69.2 inches and a standard \n",
    "    deviation of 2.66 inches. Consequently, we’ll need to use a normal CDF with these parameters to answer our question.\n",
    "    Because we’re working in inches, I’ll enter 72 inches for 6 feet.\n",
    "    \n",
    "    Use of CDF : \n",
    "    the cumulative distribution function(CDF) is used in statical analysis in major two ways : \n",
    "    \n",
    "    1. Finding the frequency of occurrence of values for the given phenomena using cumulative frequency analysis.\n",
    "    \n",
    "    2. To derive some simple statistics properties, by using an empirical distribution function, that uses a formal direct estimate of CDFs.\n",
    "\"\"\""
   ]
  },
  {
   "cell_type": "markdown",
   "id": "73bcac9d-d017-45fd-bdc8-c9017d7273f3",
   "metadata": {},
   "source": [
    "# ques - 3"
   ]
  },
  {
   "cell_type": "code",
   "execution_count": null,
   "id": "073a1958-0d4a-42ea-bdc0-f1301ca56e8e",
   "metadata": {},
   "outputs": [],
   "source": [
    "\"\"\" The example of situation where the normal distribution is used as model are :\n",
    "    1. sample mean - used in height and weight of the people.\n",
    "    2. sample proportion \n",
    "    3. Sales forecasting: Companies can use historical sales data to estimate future sales using a normal distribution.\n",
    "       By estimating the mean and standard deviation of sales, companies can calculate the probability of achieving different\n",
    "       levels of sales and set sales targets accordingly.\n",
    "    4. Financial analysis: Many financial variables, such as stock prices and returns, also follow a normal distribution.\n",
    "       Financial analysts can use the normal distribution to estimate the expected return and risk of different investments.\n",
    "       \n",
    "    The two main parameters of a (normal) distribution are the mean and standard deviation. The parameters determine the shape \n",
    "    and probabilities of the distribution. The shape of the distribution changes as the parameter values change.\n",
    "    \n",
    "    1. Mean :  In a normal distribution graph, the mean defines the location of the peak, and most of the data points are \n",
    "       clustered around the mean. Any changes made to the value of the mean move the curve either to the left or right along \n",
    "       the X-axis.\n",
    "       \n",
    "    2. Standard deviation : On the graph, the standard deviation determines the width of the curve, and it tightens or expands\n",
    "       the width of the distribution along the x-axis. Typically, a small standard deviation relative to the mean produces a \n",
    "       steep curve, while a large standard deviation relative to the mean produces a flatter curve.\n",
    "\"\"\""
   ]
  },
  {
   "cell_type": "markdown",
   "id": "1789e758-e919-403c-9e59-20641c87a4df",
   "metadata": {},
   "source": [
    "# ques - 4"
   ]
  },
  {
   "cell_type": "code",
   "execution_count": null,
   "id": "6825a086-6fdb-482d-9f56-b63b1ec14188",
   "metadata": {},
   "outputs": [],
   "source": [
    "\"\"\" The importance of Normal distribution :-\n",
    "\n",
    "    1. It has one of the important properties called central theorem. Central theorem means relationship between shape\n",
    "       of population distribution and shape of sampling distribution of mean. This means that sampling distribution of mean\n",
    "       approaches normal as sample size increase.\n",
    "       \n",
    "    2. In case the sample size is large the normal distribution serves as good approximation.\n",
    "    \n",
    "    3. Due to its mathematical properties it is more popular and easy to calculate.\n",
    "    \n",
    "    4. It is used in statistical quality control in setting up of control limits.\n",
    "    \n",
    "    5. The whole theory of sample tests t, f and chi-square test is based on the normal distribution.\n",
    "    \n",
    "    Real life examples : \n",
    "    \n",
    "    1. Height - The height of people is an example of normal distribution.\n",
    "    \n",
    "    2. Rolling a dice : A fair rolling of dice is also a good example of normal distribution.\n",
    "    \n",
    "    3. Tossing a coin : Flipping a coin is one of the oldest methods for settling disputes.\n",
    "    \n",
    "    4. Blood pressure : Blood pressure generally follows a Gaussian distribution (normal) in the general population.\n",
    "\"\"\""
   ]
  },
  {
   "cell_type": "markdown",
   "id": "36854c6e-a608-4919-bee4-37f9f03d7d46",
   "metadata": {},
   "source": [
    "# ques - 5"
   ]
  },
  {
   "cell_type": "code",
   "execution_count": null,
   "id": "07906c02-1eac-4c2f-b13f-4cd92469777d",
   "metadata": {},
   "outputs": [],
   "source": [
    "\"\"\" Bernoulli Distribution : A discrete probability distribution wherein the random variable can only have 2 possible outcomes\n",
    "    is known as a Bernoulli Distribution. If in a Bernoulli trial the random variable takes on the value of 1, it means that \n",
    "    this is a success. The probability of success is given by p. Similarly, if the value of the random variable is 0,\n",
    "    it indicates failure. The probability of failure is q or 1 - p.\n",
    "                                                    for example : Suppose there is an experiment where you flip a coin that is fair.\n",
    "    If the outcome of the flip is heads then you will win. This means that the probability of getting heads is p = 1/2. If X is the\n",
    "    random variable following a Bernoulli Distribution, we get P(X = 1) = p = 1/2.\n",
    "    \n",
    "    The difference between bernoulli and binomial distribution is as follows : \n",
    "    \n",
    "            Bernoulli distribution                                                   Binomial distribution\n",
    "            \n",
    "    1. Bernoulli distribution is used when we want to model the                  1. If we want to model the outcome of multiple trials \n",
    "       outcome of a single trial of an event.                                       of an event, Binomial distribution is used.\n",
    "       \n",
    "    2. It is represented as X ∼ Bernoulli (p). Here, p is the probability       2. It is denoted as X ∼ Binomial (n, p). Where n is the \n",
    "       of success.                                                                  number of trials.\n",
    "\"\"\""
   ]
  },
  {
   "cell_type": "markdown",
   "id": "393b914a-ee2d-4c8d-8535-b18862f9952e",
   "metadata": {},
   "source": [
    "# ques - 6"
   ]
  },
  {
   "cell_type": "code",
   "execution_count": null,
   "id": "cb7a8bc9-0707-4d3a-a292-a1f40919ec6b",
   "metadata": {},
   "outputs": [],
   "source": [
    "\"\"\" mu = 50 , std = 10\n",
    "    As the data set is normally distributed so 50% of the data will be in the right side of the mean, and another 50% will be \n",
    "    on the left side of the mean.\n",
    "    for a random selected obeservation, the probability will be greater than 60 will be :\n",
    "    z = 60-50/10 = 1 , which means 34% = 0.3413 (from graph)\n",
    "\"\"\""
   ]
  },
  {
   "cell_type": "markdown",
   "id": "a0f5a169-5d54-4fe5-b338-3c3a44b70c1c",
   "metadata": {},
   "source": [
    "# ques - 7"
   ]
  },
  {
   "cell_type": "code",
   "execution_count": null,
   "id": "1d429651-4b26-40ef-8ebb-d740986e55d4",
   "metadata": {},
   "outputs": [],
   "source": [
    "\"\"\" Unifrom distribution : uniform distribution refers to a type of probability distribution in which all outcomes are equally likely.\n",
    "    Uniform distribution is of two types \n",
    "    1. contineous unifrom distribution : In a continuous uniform distribution, outcomes are continuous and infinite.\n",
    "    2. descrete unifrom distribution : In a discrete uniform distribution, outcomes are discrete and have the same probability.\n",
    "    \n",
    "    for example : A deck of cards has within it uniform distributions because the likelihood of drawing a heart, a club, a diamond,\n",
    "    or a spade is equally likely. \n",
    "    another example is Rolling a die and flipping a coin.\n",
    "    A good example of a continuous uniform distribution is an idealized random number generator.\n",
    "\"\"\""
   ]
  },
  {
   "cell_type": "markdown",
   "id": "5af3e6cf-9e69-49f0-a849-53176e6cec37",
   "metadata": {},
   "source": [
    "# ques - 8"
   ]
  },
  {
   "cell_type": "code",
   "execution_count": null,
   "id": "ffe98388-4318-449f-9628-8da2029f7421",
   "metadata": {},
   "outputs": [],
   "source": [
    "\"\"\" Z-score is a statistical measurement that describes a value's relationship to the mean of a group of values.\n",
    "    Z-score is measured in terms of standard deviations from the mean.If a Z-score is 0, it indicates that the data\n",
    "    point's score is identical to the mean score. A Z-score of 1.0 would indicate a value that is one standard deviation\n",
    "    from the mean. Z-scores may be positive or negative, with a positive value indicating the score is above the mean \n",
    "    and a negative score indicating it is below the mean.\n",
    "    \n",
    "    formula of z - score : \n",
    "    z = ( x - μ ) / σ\n",
    "    where z = Z - score\n",
    "    x = the value being evaluated\n",
    "    mu = mean of observation\n",
    "    nu = standard deviation\n",
    "    \n",
    "    importance of Z - score :\n",
    "    \n",
    "    a. it allows us to calculate the probability of a score occurring within our normal distribution.\n",
    "    \n",
    "    b. it enables us to compare two scores that are from different normal distributions.\n",
    "\"\"\""
   ]
  },
  {
   "cell_type": "markdown",
   "id": "58a65be4-47b2-40c3-be53-9ddbad7efaa6",
   "metadata": {},
   "source": [
    "# ques - 9"
   ]
  },
  {
   "cell_type": "code",
   "execution_count": null,
   "id": "0795aeb4-bf9c-4200-a2ca-022f471ca76e",
   "metadata": {},
   "outputs": [],
   "source": [
    "\"\"\" the central limit theorem (CLT) states that the distribution of a sample variable approximates a normal distribution \n",
    "    (i.e., a “bell curve”) as the sample size becomes larger, assuming that all samples are identical in size, and regardless\n",
    "    of the population's actual distribution shape.\n",
    "    Sample sizes equal to or greater than 30 are often considered sufficient for the CLT to hold\n",
    "    A key aspect of CLT is that the average of the sample means and standard deviations will equal the population mean and \n",
    "    standard deviation.\n",
    "    \n",
    "    Significance of central limit theorem : \n",
    "    \n",
    "    1. Political/election polling is a great example of how you can use CLT. These polls are used to estimate the number of people\n",
    "       who support a specific candidate. You may have seen these results with confidence intervals on news channels. The CLT aids\n",
    "       in this calculation. \n",
    "       \n",
    "    2. You use the CLT in various census fields to calculate various population details, such as family income, electricity \n",
    "       consumption, individual salaries, and so on.\n",
    "\"\"\""
   ]
  },
  {
   "cell_type": "markdown",
   "id": "effad295-23f8-4a25-ae70-b3054d927953",
   "metadata": {},
   "source": [
    "# ques - 10"
   ]
  },
  {
   "cell_type": "code",
   "execution_count": null,
   "id": "d13ecdf4-8cce-4b78-be73-9c5825863a00",
   "metadata": {},
   "outputs": [],
   "source": [
    "\"\"\" Assumptions of central limit theorem : \n",
    "    \n",
    "    1. The data must adhere to the randomization rule. It needs to be sampled at random.\n",
    "    2. The samples should be unrelated to one another. One sample should not impact the others.\n",
    "    3. When taking samples without replacement, the sample size should not exceed 10% of the population.\n",
    "\"\"\""
   ]
  }
 ],
 "metadata": {
  "kernelspec": {
   "display_name": "Python 3 (ipykernel)",
   "language": "python",
   "name": "python3"
  },
  "language_info": {
   "codemirror_mode": {
    "name": "ipython",
    "version": 3
   },
   "file_extension": ".py",
   "mimetype": "text/x-python",
   "name": "python",
   "nbconvert_exporter": "python",
   "pygments_lexer": "ipython3",
   "version": "3.10.8"
  }
 },
 "nbformat": 4,
 "nbformat_minor": 5
}
