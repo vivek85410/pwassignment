{
 "cells": [
  {
   "cell_type": "markdown",
   "id": "455ee233-64c6-46b1-b085-988cbb92d4e5",
   "metadata": {},
   "source": [
    "# Ques - 1"
   ]
  },
  {
   "cell_type": "code",
   "execution_count": null,
   "id": "1515fbcb-3520-4fb4-afd5-3ea29bb48e48",
   "metadata": {},
   "outputs": [],
   "source": [
    "\"\"\" 1. Artificial intelligence : \n",
    "     the ability of a digital computer or computer-controlled robot to perform tasks commonly\n",
    "     associated with intelligent beings. The term is frequently applied to the project of \n",
    "     developing systems endowed with the intellectual processes characteristic of humans, \n",
    "     such as the ability to reason, discover meaning, generalize, or learn from past experience.\n",
    "     \n",
    "     Example : self driving cars is an example of artificial intelligence.\n",
    "     \n",
    "    2. Machine learning : \n",
    "     Machine learning is a subfield of artificial intelligence (AI) that uses algorithms trained\n",
    "     on data sets to create self-learning models that are capable of predicting outcomes and \n",
    "     classifying information without human intervention. \n",
    "     \n",
    "     Example : product suggestion on the basis of previous product searches.\n",
    "     \n",
    "    3. Deep learning :\n",
    "     Deep learning is a branch of machine learning that is made up of a neural network with \n",
    "     three or more layers.Neural networks attempt to model human learning by digesting and \n",
    "     analyzing massive amounts of information, also known as training data. They perform a\n",
    "     given task with that data repeatedly, improving in accuracy each time.\n",
    "     \n",
    "     Example : chatbots is an example of deep learning.\n",
    "\"\"\""
   ]
  },
  {
   "cell_type": "markdown",
   "id": "06833ebf-7f10-419c-af38-9c67b95a107a",
   "metadata": {},
   "source": [
    "# Ques - 2"
   ]
  },
  {
   "cell_type": "code",
   "execution_count": null,
   "id": "e2f455f0-8edb-4d11-bd5b-be5891b3ed88",
   "metadata": {},
   "outputs": [],
   "source": [
    "\"\"\" Supervised learning is a sub category of machine learning.It is defined by its use\n",
    "    of labeled datasets to train algorithms that to classify data or predict outcomes \n",
    "    accurately.Supervised learning uses a training set to teach models to yield the\n",
    "    desired output. This training dataset includes inputs and correct outputs, which \n",
    "    allow the model to learn over time. The algorithm measures its accuracy through \n",
    "    the loss function, adjusting until the error has been sufficiently minimized.\n",
    "    examples:\n",
    "    Image and speech recoginition , recomendation system, and Fraud detection systems\n",
    "    are some of the examples of supervised learnings.\n",
    "\"\"\""
   ]
  },
  {
   "cell_type": "markdown",
   "id": "ce6c98a7-fece-478b-aaff-2ef7a0fcf68e",
   "metadata": {},
   "source": [
    "# Ques - 3"
   ]
  },
  {
   "cell_type": "code",
   "execution_count": null,
   "id": "ac60095f-8e5d-4ee9-8b82-5ea1fb85b330",
   "metadata": {},
   "outputs": [],
   "source": [
    "\"\"\" Unsupervised learning, also known as unsupervised machine learning, uses machine learning\n",
    "    algorithms to analyze and cluster unlabeled datasets.These algorithms discover hidden \n",
    "    patterns or data groupings without the need for human intervention.\n",
    "    examples:\n",
    "    image recoginition, exploratory data analysis,customer segmentation and cross- selling stratgies.\n",
    "\"\"\""
   ]
  },
  {
   "cell_type": "markdown",
   "id": "f16b89a5-aec0-4494-9b78-05dc269ce8d9",
   "metadata": {},
   "source": [
    "# Ques - 4"
   ]
  },
  {
   "cell_type": "code",
   "execution_count": null,
   "id": "03ee455c-afa2-45f0-b55f-72053c2a6329",
   "metadata": {},
   "outputs": [],
   "source": [
    "\"\"\" difference between AI , ML , and DS:\n",
    "    1. AI - AI simulates human intelligence to perform tasks and make decisions.\n",
    "       AI may or may not require large datasets. it can use predefined rules.AI can be \n",
    "       rule-based, requiring human programming and intervention\n",
    "    \n",
    "    2. ML - ML is a subset of AI that uses algorithms to learn patterns from data.\n",
    "       ML heavily relies on labeled data for training and making predictions.\n",
    "       ML automates learning from data and requires less manual intervention.\n",
    "    \n",
    "    3. DL - DL is a subset of ML that employs artificial neural networks for complex tasks.\n",
    "       DL requires extensive labeled data and performs exceptionally with big datasets.\n",
    "       DL automates feature extraction, reducing the need for manual engineering.\n",
    "       \n",
    "    4. DS - Data Sciences uses AI (and its Machine Learning subset) to interpret historical \n",
    "       data, recognize patterns, and make predictions. In this case, AI and Machine Learning \n",
    "       help data scientists to gather data in the form of insights.\n",
    "\"\"\""
   ]
  },
  {
   "cell_type": "markdown",
   "id": "41af6c7f-29fc-47f5-9cde-bde7bafc767d",
   "metadata": {},
   "source": [
    "# Ques - 5"
   ]
  },
  {
   "cell_type": "code",
   "execution_count": null,
   "id": "e7d94f1b-61f8-4933-9d42-1383cd9a1b28",
   "metadata": {},
   "outputs": [],
   "source": [
    "\"\"\" the first and the biggest difference them is that supervised learning algorithms uses\n",
    "    labeled training data and unsupervised learning uses unlabeled training data.\n",
    "    and also supervised learning has the correct output feature available but \n",
    "    not in unsupervised learning.\n",
    "    but in case of semi-supervised learning , there is both labeled as well as unlabeled\n",
    "    data in the predictive model.\n",
    "    Semi-supervised learning uses a small amount of labeled data to train an initial model,\n",
    "    which can be used to predict labels on a larger amount of unlabeled data. \n",
    "\"\"\""
   ]
  },
  {
   "cell_type": "markdown",
   "id": "0612f952-a819-4936-8936-a7d6f8769280",
   "metadata": {},
   "source": [
    "# Ques -6"
   ]
  },
  {
   "cell_type": "code",
   "execution_count": null,
   "id": "431c5c83-d3ae-4927-8cee-f22f616d972b",
   "metadata": {},
   "outputs": [],
   "source": [
    "\"\"\" All these train, test and validate split is used to split the database for removing the baise\n",
    "    from the data so that our model will not give false output.\n",
    "    \n",
    "    Train : It is the set of data that is used to train and make the model learn the hidden \n",
    "    features/patterns in the data.The training set should have a diversified set of inputs so \n",
    "    that the model is trained in all scenarios and can predict any unseen data sample that\n",
    "    may appear in the future.\n",
    "    \n",
    "    Validation : The validation set is a set of data, separate from the training set, that \n",
    "    is used to validate our model performance during training.This validation process gives\n",
    "    information that helps us tune the model’s hyperparameters and configurations accordingly.\n",
    "    It is like a critic telling us whether the training is moving in the right direction or not.\n",
    "    \n",
    "    Test : The test set is a separate set of data used to test the model after completing the\n",
    "    training.It provides an unbiased final model performance metric in terms of accuracy, precision, etc.\n",
    "\"\"\""
   ]
  },
  {
   "cell_type": "markdown",
   "id": "aa025f6b-e3da-4bbc-b5d9-d9f24b024a46",
   "metadata": {},
   "source": [
    "# Ques - 7"
   ]
  },
  {
   "cell_type": "code",
   "execution_count": null,
   "id": "7ecea78a-e2d4-40fc-a95b-4274b691c949",
   "metadata": {},
   "outputs": [],
   "source": [
    "\"\"\" Anomalies are the data points that deviates significiantaly from expected behaviour.\n",
    "    it is also called as outliers.\n",
    "    Anomaly detection is an important technique in machine learning and data mining, as\n",
    "    it can be used to detect unusual behavior, identify errors, and discover new insights\n",
    "    in large datasets.\n",
    "    In this technique, the model learns to identify anomalies without prior knowledge of \n",
    "    what constitutes normal behavior. It is useful when there are no labeled datasets \n",
    "    available or when anomalies are rare and difficult to find.\n",
    "\"\"\""
   ]
  },
  {
   "cell_type": "markdown",
   "id": "e2e14b36-376c-47f2-87ca-305241d4a025",
   "metadata": {},
   "source": [
    "# Ques - 8"
   ]
  },
  {
   "cell_type": "code",
   "execution_count": null,
   "id": "9bd91e73-843f-49ae-b952-279fb72e97a9",
   "metadata": {},
   "outputs": [],
   "source": [
    "\"\"\" supervised learning algorithms : \n",
    "    1. support-vector machine\n",
    "    2. linear regression\n",
    "    3. naive bayes\n",
    "    4. logistic regression\n",
    "    5. decision tree\n",
    "    6. neural network\n",
    "    \n",
    "    unsupervised learning algorithms : \n",
    "    1. k-means clustering \n",
    "    2. KNN\n",
    "    3. anomaly detection\n",
    "    4. principal component analysis\n",
    "    5. independent component analysis\n",
    "    6. neural networks\n",
    "\"\"\""
   ]
  }
 ],
 "metadata": {
  "kernelspec": {
   "display_name": "Python 3 (ipykernel)",
   "language": "python",
   "name": "python3"
  },
  "language_info": {
   "codemirror_mode": {
    "name": "ipython",
    "version": 3
   },
   "file_extension": ".py",
   "mimetype": "text/x-python",
   "name": "python",
   "nbconvert_exporter": "python",
   "pygments_lexer": "ipython3",
   "version": "3.10.8"
  }
 },
 "nbformat": 4,
 "nbformat_minor": 5
}
