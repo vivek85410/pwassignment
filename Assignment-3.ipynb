{
 "cells": [
  {
   "cell_type": "code",
   "execution_count": 1,
   "id": "4724984e-0759-441a-8be0-85f6d6d30492",
   "metadata": {},
   "outputs": [],
   "source": [
    "#                                                                      ques - 1"
   ]
  },
  {
   "cell_type": "code",
   "execution_count": 2,
   "id": "b9927ec7-800b-4003-8468-5c9cf9501cd3",
   "metadata": {},
   "outputs": [
    {
     "data": {
      "text/plain": [
       "[1,\n",
       " 2,\n",
       " 3,\n",
       " 4,\n",
       " 5,\n",
       " 6,\n",
       " 7,\n",
       " 8,\n",
       " 9,\n",
       " 10,\n",
       " 11,\n",
       " 12,\n",
       " 13,\n",
       " 14,\n",
       " 15,\n",
       " 16,\n",
       " 17,\n",
       " 18,\n",
       " 19,\n",
       " 20,\n",
       " 21,\n",
       " 22,\n",
       " 23,\n",
       " 24,\n",
       " 25]"
      ]
     },
     "execution_count": 2,
     "metadata": {},
     "output_type": "execute_result"
    }
   ],
   "source": [
    "# The keyword which is used to create function is \"def\" \n",
    "\n",
    "l1 = []\n",
    "def odd_number():\n",
    "    for i in range(1,26):\n",
    "        l1.append(i)\n",
    "    return l1\n",
    "\n",
    "odd_number()"
   ]
  },
  {
   "cell_type": "code",
   "execution_count": 3,
   "id": "62f0165d-c167-42c4-b597-8dc4bd54de49",
   "metadata": {},
   "outputs": [],
   "source": [
    "#                                                                     ques - 2"
   ]
  },
  {
   "cell_type": "code",
   "execution_count": 4,
   "id": "dc943b86-1a6f-42e5-a379-ce9fca01453f",
   "metadata": {},
   "outputs": [
    {
     "name": "stdout",
     "output_type": "stream",
     "text": [
      "name  -  vivek\n",
      "age  -  19\n",
      "gender  -  male\n"
     ]
    },
    {
     "data": {
      "text/plain": [
       "15"
      ]
     },
     "execution_count": 4,
     "metadata": {},
     "output_type": "execute_result"
    }
   ],
   "source": [
    "\"\"\" The *args and **kwargs are the reserved keywords which is used in some of the function to make it flexible.\n",
    "    as *args allows the function arguments to take nonkeyworded arguments and **kwargs allows the function to \n",
    "    take arguments as keyworded arguments.\n",
    "    \n",
    "    *args arguments is of data type tuple but **kwargs is of datatype dictionary.\"\"\"\n",
    "\n",
    "def add(*n):\n",
    "    sum=0\n",
    "    for  i in n:\n",
    "        sum+=i\n",
    "    return sum\n",
    "        \n",
    "\n",
    "\n",
    "def table(**data):\n",
    "    for key,value in data.items():\n",
    "        print(key,\" - \",value)\n",
    "\n",
    "table(name=\"vivek\",age=19,gender=\"male\")\n",
    "add(5,4,3,2,1)"
   ]
  },
  {
   "cell_type": "code",
   "execution_count": 5,
   "id": "08f75a1e-53d1-4286-90c0-a8f27b115c78",
   "metadata": {},
   "outputs": [],
   "source": [
    "#                                                                      ques - 3"
   ]
  },
  {
   "cell_type": "code",
   "execution_count": 6,
   "id": "d1ff6e96-0b61-4301-9b16-b03d0bd9f6a0",
   "metadata": {},
   "outputs": [
    {
     "name": "stdout",
     "output_type": "stream",
     "text": [
      "2\n"
     ]
    }
   ],
   "source": [
    "\"\"\" iterator in python is an object that allows to iterate on the collection of data, such as list,set,dictionary,tuple.\n",
    "     iter() method is used to initialized the object for the iteration . and next() method is used for iteration. \"\"\"\n",
    "\n",
    "l1 = [2, 4, 6, 8, 10, 12, 14,16, 18, 20]\n",
    "iteration = iter(l1)\n",
    "print(next(iteration))\n",
    "\n"
   ]
  },
  {
   "cell_type": "code",
   "execution_count": 7,
   "id": "413e8f47-5582-445a-9fd9-9b337987c165",
   "metadata": {},
   "outputs": [
    {
     "name": "stdout",
     "output_type": "stream",
     "text": [
      "4\n"
     ]
    }
   ],
   "source": [
    "print(next(iteration))"
   ]
  },
  {
   "cell_type": "code",
   "execution_count": 8,
   "id": "287e4615-f37a-4cec-9e9a-2d229b8001d2",
   "metadata": {},
   "outputs": [
    {
     "name": "stdout",
     "output_type": "stream",
     "text": [
      "6\n"
     ]
    }
   ],
   "source": [
    "print(next(iteration))"
   ]
  },
  {
   "cell_type": "code",
   "execution_count": 9,
   "id": "c5e7e2c6-18fe-4383-9d82-4491a400347a",
   "metadata": {},
   "outputs": [
    {
     "name": "stdout",
     "output_type": "stream",
     "text": [
      "8\n"
     ]
    }
   ],
   "source": [
    "print(next(iteration))"
   ]
  },
  {
   "cell_type": "code",
   "execution_count": 10,
   "id": "22814b33-37db-46c0-9a62-dca6e5b1f00a",
   "metadata": {},
   "outputs": [
    {
     "name": "stdout",
     "output_type": "stream",
     "text": [
      "10\n"
     ]
    }
   ],
   "source": [
    "print(next(iteration))"
   ]
  },
  {
   "cell_type": "code",
   "execution_count": 11,
   "id": "4b25d90e-57e0-4f75-87fc-f13e56c490bb",
   "metadata": {},
   "outputs": [],
   "source": [
    "#                                                                      ques - 4"
   ]
  },
  {
   "cell_type": "code",
   "execution_count": 12,
   "id": "c61796a0-98d4-46a8-9978-c63d765d2be7",
   "metadata": {},
   "outputs": [
    {
     "name": "stdout",
     "output_type": "stream",
     "text": [
      "5\n"
     ]
    }
   ],
   "source": [
    "\"\"\" Generator function is the type of function that generates the data instead of giving the output, for exapmle \n",
    "    the range() function is the default generator function which generates the number in the given range. \"\"\"\n",
    "\"\"\" yeild keyword is used to create a generator function and return the generator function data. but the measure difference\n",
    "    between the yeild keyword and the return keyword is return keyword terminates the program whereas the yeild keyword pause the \n",
    "    program and can be resumed from the same point.\"\"\" \n",
    "\n",
    "\"\"\" exapmle of generator function:- \"\"\"\n",
    "\n",
    "def generator_fn(a):\n",
    "    yield a\n",
    "        \n",
    "        \n",
    "for i in generator_fn(5):\n",
    "    print(i)"
   ]
  },
  {
   "cell_type": "code",
   "execution_count": 13,
   "id": "7d632b47-6b97-426d-bb99-131af112b1cb",
   "metadata": {},
   "outputs": [],
   "source": [
    "#                                                                      ques - 5"
   ]
  },
  {
   "cell_type": "code",
   "execution_count": 14,
   "id": "6c60ce26-685c-4d18-90d8-82d59c0d1fac",
   "metadata": {},
   "outputs": [
    {
     "name": "stdin",
     "output_type": "stream",
     "text": [
      "Input the number of prime numbers you want to generate?  20\n"
     ]
    },
    {
     "name": "stdout",
     "output_type": "stream",
     "text": [
      "First 20 Prime numbers:\n",
      "2\n",
      "3\n",
      "5\n",
      "7\n",
      "11\n",
      "13\n",
      "17\n",
      "19\n",
      "23\n",
      "29\n",
      "31\n",
      "37\n",
      "41\n",
      "43\n",
      "47\n",
      "53\n",
      "59\n",
      "61\n",
      "67\n",
      "71\n"
     ]
    }
   ],
   "source": [
    "def is_prime(n):\n",
    "    if n <= 1:\n",
    "        return False\n",
    "    for i in range(2, int(n**0.5) + 1):\n",
    "        if n % i == 0:\n",
    "            return False\n",
    "    return True\n",
    "\n",
    "def prime_nums_generator():\n",
    "    n = 2\n",
    "    while True:\n",
    "        if is_prime(n):\n",
    "            yield n\n",
    "        n += 1\n",
    "\n",
    "# Create the generator object\n",
    "primes = prime_nums_generator()\n",
    "\n",
    "# Accept input from the user\n",
    "n = int(input(\"Input the number of prime numbers you want to generate? \"))\n",
    "\n",
    "# Generate and print the first 10 prime numbers\n",
    "print(\"First\",n,\"Prime numbers:\")\n",
    "for _ in range(n):\n",
    "    print(next(primes))"
   ]
  },
  {
   "cell_type": "code",
   "execution_count": null,
   "id": "14f75c90-7cda-4a3f-8f7b-0b23e0cff104",
   "metadata": {},
   "outputs": [],
   "source": [
    "#                                                                    ques - 6     "
   ]
  },
  {
   "cell_type": "code",
   "execution_count": 29,
   "id": "da0732a9-b813-4b16-93df-3f2cc2512f70",
   "metadata": {},
   "outputs": [
    {
     "name": "stdout",
     "output_type": "stream",
     "text": [
      "0\n",
      "1\n",
      "1\n",
      "2\n",
      "3\n",
      "5\n",
      "8\n",
      "13\n",
      "21\n",
      "34\n"
     ]
    }
   ],
   "source": [
    "def fabonacci(n):\n",
    "    a,b=0,1\n",
    "    i=0\n",
    "    while i<n:\n",
    "        print(a)\n",
    "        a,b=b,a+b\n",
    "        i+=1\n",
    "        \n",
    "fabonacci(10)       "
   ]
  },
  {
   "cell_type": "code",
   "execution_count": null,
   "id": "ba8869fa-032f-4684-8038-eb8fcbcdca64",
   "metadata": {},
   "outputs": [],
   "source": [
    "#                                                                   ques - 7"
   ]
  },
  {
   "cell_type": "code",
   "execution_count": 49,
   "id": "f7905642-e0a4-4f41-9d9e-ca3a936b2fba",
   "metadata": {},
   "outputs": [
    {
     "name": "stdout",
     "output_type": "stream",
     "text": [
      "['p', 'w', 's', 'k', 'i', 'l', 'l', 's']\n"
     ]
    }
   ],
   "source": [
    "st = []\n",
    "for i in \"pwskills\":\n",
    "    st.append(i)\n",
    "print(st)"
   ]
  },
  {
   "cell_type": "code",
   "execution_count": null,
   "id": "44a5ed20-be2a-44b7-a95d-e9a96dba1e69",
   "metadata": {},
   "outputs": [],
   "source": [
    "#                                                                   ques - 8"
   ]
  },
  {
   "cell_type": "code",
   "execution_count": 59,
   "id": "7ff1fa21-c956-4b60-b03b-cb742a0d21c8",
   "metadata": {},
   "outputs": [
    {
     "name": "stdout",
     "output_type": "stream",
     "text": [
      "14541 is a Palindrome.\n"
     ]
    }
   ],
   "source": [
    "def isPalindrome(n):\n",
    "    n = str(n)\n",
    "    if (n == n[::-1]):\n",
    "        return True\n",
    "    else:\n",
    "        return False\n",
    "n = 14541 \n",
    "result = isPalindrome(n)\n",
    "if(result):\n",
    "    print(n, 'is a Palindrome.')\n",
    "else:\n",
    "    print(n, 'is not a Palindrome.')"
   ]
  },
  {
   "cell_type": "code",
   "execution_count": null,
   "id": "509020f3-ca37-484e-9147-72c5e48c10b2",
   "metadata": {},
   "outputs": [],
   "source": [
    "#                                                                   ques - 9"
   ]
  },
  {
   "cell_type": "code",
   "execution_count": 60,
   "id": "9165a68e-b73e-47a6-aff3-78b95412cb36",
   "metadata": {},
   "outputs": [
    {
     "name": "stdout",
     "output_type": "stream",
     "text": [
      "[1, 3, 5, 7, 9, 11, 13, 15, 17, 19, 21, 23, 25, 27, 29, 31, 33, 35, 37, 39, 41, 43, 45, 47, 49, 51, 53, 55, 57, 59, 61, 63, 65, 67, 69, 71, 73, 75, 77, 79, 81, 83, 85, 87, 89, 91, 93, 95, 97, 99]\n"
     ]
    }
   ],
   "source": [
    "lt = []\n",
    "for i in range(1,101):\n",
    "    if i%2!=0:\n",
    "        lt.append(i)\n",
    "print(lt)   "
   ]
  },
  {
   "cell_type": "code",
   "execution_count": null,
   "id": "944f7dc8-f92a-4a4f-b4c2-93eaac77c414",
   "metadata": {},
   "outputs": [],
   "source": []
  }
 ],
 "metadata": {
  "kernelspec": {
   "display_name": "Python 3 (ipykernel)",
   "language": "python",
   "name": "python3"
  },
  "language_info": {
   "codemirror_mode": {
    "name": "ipython",
    "version": 3
   },
   "file_extension": ".py",
   "mimetype": "text/x-python",
   "name": "python",
   "nbconvert_exporter": "python",
   "pygments_lexer": "ipython3",
   "version": "3.10.8"
  }
 },
 "nbformat": 4,
 "nbformat_minor": 5
}
