{
 "cells": [
  {
   "cell_type": "markdown",
   "id": "37216192-b448-44b5-8022-06e4775f96f2",
   "metadata": {},
   "source": [
    "## ques - 1"
   ]
  },
  {
   "cell_type": "code",
   "execution_count": null,
   "id": "d0798e2a-dc5b-498b-a104-f0f284304c3a",
   "metadata": {},
   "outputs": [],
   "source": [
    "\"\"\" the three measures of central tendency are following : \n",
    "    \n",
    "    1. mean - (average)it is calculated by dividing the sum of all the numbers by count of all the numbers.\n",
    "    \n",
    "    2. median - it is the mid value in the given set when arranged in an order.\n",
    "    \n",
    "    3. mode - it is the count of the highest frequency of any number in the gien set.\n",
    "    \n",
    "\"\"\""
   ]
  },
  {
   "cell_type": "markdown",
   "id": "fb73cdd8-b8f8-4681-bf81-257a51cceb78",
   "metadata": {
    "tags": []
   },
   "source": [
    "# ques - 2"
   ]
  },
  {
   "cell_type": "code",
   "execution_count": null,
   "id": "2e0711c6-2fa3-4ced-b7df-ea5153942ed7",
   "metadata": {},
   "outputs": [],
   "source": [
    "\"\"\" the difference between mean, median and mode is that mean is the average value in the given observation whereas\n",
    "    the median is the mid value when set in an order, and mode is the count of highest frequency of any number in the given observation.\n",
    "    \n",
    "    the mean is measured in dataset by adding all the values in the cloumn or row and dividing the sum by total count of values of \n",
    "    that cloumn or row.\n",
    "    \n",
    "    the median is measured in dataset by sorting the values of the column or row in an order and the selecting the mid value.\n",
    "    \n",
    "    the mode is measured in dataset by choosing the highest frequency of the total count of any number in the column or rows.\n",
    "    \n",
    "\"\"\""
   ]
  },
  {
   "cell_type": "markdown",
   "id": "da9474cc-8db3-49d1-a615-b66b465ebeee",
   "metadata": {},
   "source": [
    "## ques - 3"
   ]
  },
  {
   "cell_type": "code",
   "execution_count": 1,
   "id": "1f62c0b9-031a-40ea-8ea9-2954dde673f2",
   "metadata": {},
   "outputs": [
    {
     "data": {
      "text/plain": [
       "177.01875"
      ]
     },
     "execution_count": 1,
     "metadata": {},
     "output_type": "execute_result"
    }
   ],
   "source": [
    "import numpy as np\n",
    "height =  [178,177,176,177,178.2,178,175,179,180,175,178.9,176.2,177,172.5,178,176.5]\n",
    "np.mean(height)"
   ]
  },
  {
   "cell_type": "code",
   "execution_count": 2,
   "id": "7f46502c-8b13-41fb-8497-4c60afc360d2",
   "metadata": {},
   "outputs": [
    {
     "data": {
      "text/plain": [
       "177.0"
      ]
     },
     "execution_count": 2,
     "metadata": {},
     "output_type": "execute_result"
    }
   ],
   "source": [
    "np.median(height)"
   ]
  },
  {
   "cell_type": "code",
   "execution_count": 9,
   "id": "0d7997a2-438b-4de2-a574-80d32c9a2ff0",
   "metadata": {},
   "outputs": [],
   "source": [
    "from scipy import stats as scp"
   ]
  },
  {
   "cell_type": "code",
   "execution_count": 10,
   "id": "826b6f37-5d21-4c53-866e-0e03d9a29c78",
   "metadata": {},
   "outputs": [
    {
     "name": "stderr",
     "output_type": "stream",
     "text": [
      "/tmp/ipykernel_78/1985424337.py:1: FutureWarning: Unlike other reduction functions (e.g. `skew`, `kurtosis`), the default behavior of `mode` typically preserves the axis it acts along. In SciPy 1.11.0, this behavior will change: the default value of `keepdims` will become False, the `axis` over which the statistic is taken will be eliminated, and the value None will no longer be accepted. Set `keepdims` to True or False to avoid this warning.\n",
      "  scp.mode(height)\n"
     ]
    },
    {
     "data": {
      "text/plain": [
       "ModeResult(mode=array([177.]), count=array([3]))"
      ]
     },
     "execution_count": 10,
     "metadata": {},
     "output_type": "execute_result"
    }
   ],
   "source": [
    "scp.mode(height)"
   ]
  },
  {
   "cell_type": "markdown",
   "id": "82756970-caef-4730-8f2d-bf0b38b4ecd0",
   "metadata": {},
   "source": [
    "## ques - 4"
   ]
  },
  {
   "cell_type": "code",
   "execution_count": 11,
   "id": "2bcc72c7-488e-4b3c-b868-075d2ce45e31",
   "metadata": {},
   "outputs": [],
   "source": [
    "std = [178,177,176,177,178.2,178,175,179,180,175,178.9,176.2,177,172.5,178,176.5]"
   ]
  },
  {
   "cell_type": "code",
   "execution_count": 12,
   "id": "47a08beb-6062-4ea2-8877-313ece48f597",
   "metadata": {},
   "outputs": [
    {
     "data": {
      "text/plain": [
       "1.7885814036548633"
      ]
     },
     "execution_count": 12,
     "metadata": {},
     "output_type": "execute_result"
    }
   ],
   "source": [
    "np.std(std)"
   ]
  },
  {
   "cell_type": "markdown",
   "id": "b5e783fe-c37c-40a0-99a3-02467d08c704",
   "metadata": {},
   "source": [
    "## ques - 5"
   ]
  },
  {
   "cell_type": "code",
   "execution_count": null,
   "id": "395d2e2e-70f9-4041-b13d-bfea0d656077",
   "metadata": {},
   "outputs": [],
   "source": [
    "\"\"\" measure of dispersion : \n",
    "    \n",
    "    1. range - range in a dataset is the difference between the maximum and the minimum value of the given dataset\n",
    "        \n",
    "        example - 10, 14, 8, 10, 15, 4, 7\n",
    "        Minimum value in data = 7 \n",
    "        Maximum Value in the data = 15\n",
    "        range = 15-7 = 8\n",
    "    \n",
    "    2. variance - The variance of the data is given by measuring the distance of the observed values from the mean of the distribution.\n",
    "    \n",
    "        example - [-4,-2,0,-2,6,4,6,0,-6,4]\n",
    "        varience =  17.82 \n",
    "        \n",
    "    3.standard deviation - the standard deviation is measured to remove the problem of unit of variance and unit of observation not having same.\n",
    "    \n",
    "        example - [-4,-2,0,-2,6,4,6,0,-6,4]\n",
    "        std = sqrt(varience)\n",
    "        std = 4.22\n",
    "    \n",
    "\"\"\""
   ]
  },
  {
   "cell_type": "markdown",
   "id": "b6db909a-9c73-409d-b915-31a8a4db1735",
   "metadata": {},
   "source": [
    "## ques - 6"
   ]
  },
  {
   "cell_type": "code",
   "execution_count": null,
   "id": "c8443307-674d-4f96-b621-b2de298a4404",
   "metadata": {},
   "outputs": [],
   "source": [
    "\"\"\" the venn diagram is the illustratin that uses overlapping circles or other shapes to illustrate the logical relationships \n",
    "    between two or more sets of items. it is often used is statics and set theory to represent the logical relationship\n",
    "    such as for union,intersection, and many more.\n",
    "\"\"\""
   ]
  },
  {
   "cell_type": "markdown",
   "id": "df542824-144b-457a-adc9-7307de9a47c2",
   "metadata": {},
   "source": [
    "## ques - 7"
   ]
  },
  {
   "cell_type": "code",
   "execution_count": null,
   "id": "540c8008-c7e3-4e0a-a6d9-8ac1d3c5d488",
   "metadata": {},
   "outputs": [],
   "source": [
    "\"\"\" A = (2,3,4,5,6,7)\n",
    "     B = (0,2,6,8,10)\n",
    "\n",
    "    1. A ∩ B = (2,6)\n",
    "    2. A U B = (0,2,3,4,5,6,7,8,10)\n",
    "\"\"\""
   ]
  },
  {
   "cell_type": "markdown",
   "id": "ae2f6d93-3b44-45c9-825f-113bf7baf8c0",
   "metadata": {},
   "source": [
    "## ques - 8"
   ]
  },
  {
   "cell_type": "code",
   "execution_count": null,
   "id": "f57e6b83-76bc-49e1-b857-87dbfaf9b635",
   "metadata": {},
   "outputs": [],
   "source": [
    "\"\"\" Skewness is a statistical measure that is used to show whether a distribution is distorted or asymmetrical. \n",
    "    If the skewness is right-tailed (meaning the right tail is more pronounced than the left), the skew is positive.\n",
    "    In this case, the values are more than zero. If the opposite is true and the tail is more pronounced on the left,\n",
    "    then the skew is negative, where the values are less than zero.\n",
    "\"\"\""
   ]
  },
  {
   "cell_type": "markdown",
   "id": "cbfd5b9e-d10c-42d4-9f89-9035e6e5ea78",
   "metadata": {},
   "source": [
    "## ques - 9"
   ]
  },
  {
   "cell_type": "code",
   "execution_count": null,
   "id": "bc704a79-90a1-46ea-b6fd-fd3aa1a0ab2b",
   "metadata": {},
   "outputs": [],
   "source": [
    "\"\"\" if the data is right skewed then the position of the median with respect to mean will be low or we can say that \n",
    "    median < mean(median will be less than mean)\n",
    "\"\"\""
   ]
  },
  {
   "cell_type": "markdown",
   "id": "a7cb86e2-bcb2-47a0-bd2b-300557f9b4b9",
   "metadata": {},
   "source": [
    "## ques - 10"
   ]
  },
  {
   "cell_type": "code",
   "execution_count": null,
   "id": "763f13e1-8a19-46d6-a1b8-ff727c3d60b0",
   "metadata": {},
   "outputs": [],
   "source": [
    "\"\"\"                 covariance                                                                correlation\n",
    "1. Covariance is an indicator of the extent to which 2 random          1. Correlation is a statistical measure that indicates how strongly two \n",
    "   variables are dependent on each other. A higher number denotes         variables are related.\n",
    "   higher dependency.                                                                          \n",
    "\n",
    "2. The value of covariance lies in the range of -∞ and +∞.             2. Correlation is limited to values between the range -1 and +1\n",
    "\n",
    "3. Change in scale affects covariance                                  3. change in scale does not affect the correlation\n",
    "\n",
    "In statical analysis, the covariance is used to measure the direction of the relationship of two random variables. and the correlation \n",
    "is used to measure the strength of the linear relationship between two variables.\n",
    "\"\"\""
   ]
  },
  {
   "cell_type": "markdown",
   "id": "531d453d-abba-4a86-9445-28ce6e11964a",
   "metadata": {},
   "source": [
    "## ques - 11"
   ]
  },
  {
   "cell_type": "code",
   "execution_count": null,
   "id": "9a3df43d-fb1a-4e92-9135-ccd88cae4751",
   "metadata": {},
   "outputs": [],
   "source": [
    "\"\"\" formula to calculate the sample mean is : \n",
    "    \n",
    "    sum of all the values of  the dataset divided by the total count of values .\n",
    "    example :\n",
    "    dataset = (1,2,3,4,5,6)\n",
    "    sample mean = 1+2+3+4+5+6 = 21/6 = 3.6\n",
    "\"\"\""
   ]
  },
  {
   "cell_type": "markdown",
   "id": "37ad8671-3605-4a20-86e5-3996565736d7",
   "metadata": {},
   "source": [
    "## ques - 12"
   ]
  },
  {
   "cell_type": "code",
   "execution_count": null,
   "id": "c257f16c-f599-42ee-8a0a-b9f9535949f0",
   "metadata": {},
   "outputs": [],
   "source": [
    "\"\"\" for Noraml distribution of data , the relationship between the measure of central tendency will be :\n",
    "    mean = median = mode\n",
    "    mean will be equal to median and mode.\n",
    "\"\"\""
   ]
  },
  {
   "cell_type": "markdown",
   "id": "a9131f6f-b361-4665-86f7-a748ff816524",
   "metadata": {},
   "source": [
    "## ques- 13"
   ]
  },
  {
   "cell_type": "code",
   "execution_count": null,
   "id": "12ea8e83-6e14-4710-8db9-bb55c3e53c56",
   "metadata": {},
   "outputs": [],
   "source": [
    "\"\"\" the main difference between the covariance and the correlation is that Covariance indicates the direction of the linear\n",
    "    relationship between variables and Correlation measures both the strength and direction of the linear relationship between two variables.\n",
    "    and other differences are \n",
    "                        covarience                                                                correlation\n",
    "   1. The value of covariance lies in the range of -∞ and +∞.                      1. Correlation is limited to values between the range -1 and +1\n",
    "   2. Change in scale affects covariance                                           2. change in scale does not affect the correlation"
   ]
  },
  {
   "cell_type": "markdown",
   "id": "3b9a0a0f-a93f-4eb0-afbc-3450731d8f6e",
   "metadata": {},
   "source": [
    "## ques - 14"
   ]
  },
  {
   "cell_type": "code",
   "execution_count": null,
   "id": "c93b9fcd-dd97-47d4-a7ca-2a952323bc0d",
   "metadata": {},
   "outputs": [],
   "source": [
    "\"\"\"  * - outliers affect measures of central tendency : \n",
    "\n",
    "     1. mean - Outliers can pull the mean towards their extreme values. If there are outliers with large values,\n",
    "            the mean can be inflated, while outliers with small values can lower the mean\n",
    "            \n",
    "     2. median - The median is less affected by outliers compared to the mean. if the outlier is close to the median \n",
    "            then the outlier cahnges the order of the values.\\\n",
    "            \n",
    "     3. mode - Outliers do not directly affect the mode unless they appear frequently and change the overall distribution of values.\n",
    "     \n",
    "     * - outliers affect the measures of dispersion : \n",
    "     \n",
    "     1. Range - Outliers can significantly increase the range if they are far from the other values.\n",
    "     \n",
    "     2. variance/standard deviation -  Outliers can increase the standard deviation and variance, as they introduce more variability \n",
    "             to the dataset. The squared differences between outliers and the mean can significantly contribute to the variance.\n",
    "    example : \n",
    "    A student receives a zero on a quiz and subsequently has the following scores:\n",
    "    [0, 70, 70, 80, 85, 90, 90, 90, 95, 100]\n",
    "    \n",
    "    measure of central tendency : \n",
    "    \n",
    "    mean = 77\n",
    "    median = 87.5\n",
    "    mode = 90 \n",
    "    \n",
    "    measure of dispersion : \n",
    "    \n",
    "    range = 100\n",
    "    std = 27.313\n",
    "    var = 746.0\n",
    "\"\"\""
   ]
  }
 ],
 "metadata": {
  "kernelspec": {
   "display_name": "Python 3 (ipykernel)",
   "language": "python",
   "name": "python3"
  },
  "language_info": {
   "codemirror_mode": {
    "name": "ipython",
    "version": 3
   },
   "file_extension": ".py",
   "mimetype": "text/x-python",
   "name": "python",
   "nbconvert_exporter": "python",
   "pygments_lexer": "ipython3",
   "version": "3.10.8"
  }
 },
 "nbformat": 4,
 "nbformat_minor": 5
}
