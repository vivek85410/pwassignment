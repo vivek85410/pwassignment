{
 "cells": [
  {
   "cell_type": "code",
   "execution_count": null,
   "id": "5b5c16f9-5e27-45fe-b576-059ab8eacb1d",
   "metadata": {},
   "outputs": [],
   "source": [
    "#                                                                    ques - 1"
   ]
  },
  {
   "cell_type": "code",
   "execution_count": null,
   "id": "ce4a774e-9947-452d-a4a9-aecdbd8782f4",
   "metadata": {},
   "outputs": [],
   "source": [
    "\"\"\" multithreading in python is ability of processor to run multiple programs concurrently. A single core processor runs multiple \n",
    "    programs concurrently using switching between threads. \n",
    "    multithreading is use to save time and achieve multitasking for which machines are made .multithreading uses the same data space\n",
    "     and same time to work at multiple threads.\n",
    "     \n",
    "     multithreading is the module through which we can handle multithreading operations\n",
    "     \"\"\""
   ]
  },
  {
   "cell_type": "code",
   "execution_count": null,
   "id": "084ad87a-dab9-4b5e-8561-962e2ccbddd6",
   "metadata": {},
   "outputs": [],
   "source": [
    "#                                                                    ques - 2"
   ]
  },
  {
   "cell_type": "code",
   "execution_count": null,
   "id": "43a072e8-0967-40c8-9bc9-1e0045f2b4b4",
   "metadata": {},
   "outputs": [],
   "source": [
    "\"\"\" threading module is used because threading module helps to create,manage and control the threads.\n",
    "    1. active_count() is the module that returns the no of active threads in the processor.\n",
    "    \n",
    "    2. current_thread() : This function will return the current Thread object, corresponding to the\n",
    "    caller's thread of control(which is in the control of caller currently).\n",
    "    \n",
    "    3. enumertae() : This function returns the thread identifier of the current thread. This is a nonzero \n",
    "    integer value. If we started the thread, then this method will return its identifier, otherwise,\n",
    "    it will return None."
   ]
  },
  {
   "cell_type": "code",
   "execution_count": null,
   "id": "9f339631-aded-4f9e-9714-1b140bb0582c",
   "metadata": {},
   "outputs": [],
   "source": [
    "#                                                                    ques - 3"
   ]
  },
  {
   "cell_type": "code",
   "execution_count": null,
   "id": "dbb5cb2e-d924-4edb-afa0-d60ce3c02432",
   "metadata": {},
   "outputs": [],
   "source": [
    "\"\"\" 1. run() method is an inbuilt method of the Thread class of the threading module , it is used to represent a thread's activity.\n",
    "    2. start() method is an inbuilt method of the Thread class of the threading module, it is used to start a thread's activity. \n",
    "    This method calls the run() method internally which then executes the target method. This method must be called at most one\n",
    "    time for one thread. If it is called more than once, it raises a RuntimeError. \n",
    "    3. join() method is an inbuilt method of the Thread class of the threading module. Whenever this method is called for any \n",
    "    Thread object, it blocks the calling thread till the time the thread whose join() method is called terminates, either normally\n",
    "    or through an unhandled exception.\n",
    "    4. is_alive() method is an inbuilt method of the Thread class of the threading module, it is used to check whether that thread \n",
    "    is alive or not, ie, it is still running or not. This method returns True before the run() starts until just after the run() method\n",
    "    is executed.\n",
    "\"\"\""
   ]
  },
  {
   "cell_type": "code",
   "execution_count": null,
   "id": "892c4e7b-3f81-4e5b-ba5f-656a970782b4",
   "metadata": {},
   "outputs": [],
   "source": [
    "#                                                                  ques - 4"
   ]
  },
  {
   "cell_type": "code",
   "execution_count": 22,
   "id": "ed458ba2-c040-447d-9528-c1db159db757",
   "metadata": {},
   "outputs": [
    {
     "name": "stdout",
     "output_type": "stream",
     "text": [
      "[4, 9, 16, 25, 36, 49, 64, 81]\n",
      "[8, 27, 64, 125, 216, 343, 512, 729]\n"
     ]
    }
   ],
   "source": [
    "import threading\n",
    "import time\n",
    "l = [2,3,4,5,6,7,8,9]\n",
    "sq_list = []\n",
    "cb_list = []\n",
    "def square_list(id):\n",
    "    for i in l:\n",
    "        sq_list.append(i**2)\n",
    "def cube_list(id):\n",
    "    for i in l:\n",
    "        cb_list.append(i**3)\n",
    "thread1 = [ threading.Thread(target= square_list , args = (l,))]\n",
    "thread2 = [ threading.Thread(target= cube_list , args = (l,))]\n",
    "        \n",
    "for t in thread1:\n",
    "    t.start()\n",
    "for p in thread2:\n",
    "    p.start()\n",
    "print(sq_list)\n",
    "print(cb_list)"
   ]
  },
  {
   "cell_type": "code",
   "execution_count": null,
   "id": "3e71338f-231a-4700-a8bb-4121a60a4f17",
   "metadata": {},
   "outputs": [],
   "source": [
    "#                                                                ques - 5"
   ]
  },
  {
   "cell_type": "code",
   "execution_count": null,
   "id": "4d22bc2e-661d-427f-ab6b-53ef0b62c7a0",
   "metadata": {},
   "outputs": [],
   "source": [
    "\"\"\" advantage of multithreading :\n",
    "    1. Enhanced performance by decreased development time\n",
    "    2. Simplified and streamlined program coding\n",
    "    3. Better use of cache storage by utilization of resources\n",
    "    4. Decreased cost of maintenance\n",
    "    5. Better use of CPU resource\n",
    "    \n",
    "    disadvantage of multithreading:\n",
    "    1. Complex debugging and testing processes\n",
    "    2. Increased difficulty level in writing a program\n",
    "    3. Unpredictable results\n",
    "    4. Increased potential for deadlock occurrence\n",
    "\"\"\""
   ]
  },
  {
   "cell_type": "code",
   "execution_count": null,
   "id": "d03cf9a0-0f2e-4d0c-a3b4-5cc9e19b6706",
   "metadata": {},
   "outputs": [],
   "source": [
    "#                                                                ques - 6"
   ]
  },
  {
   "cell_type": "code",
   "execution_count": null,
   "id": "268c38a4-2082-4ed8-8170-c89872ec5f14",
   "metadata": {},
   "outputs": [],
   "source": [
    "\"\"\" Deadlocks : Deadlocks are the conditions which exist when two threads seek one lock simultaneously.\n",
    "\n",
    "    race condition : A race condition occurs when two threads use the same variable at a given time.\n",
    "\"\"\""
   ]
  }
 ],
 "metadata": {
  "kernelspec": {
   "display_name": "Python 3 (ipykernel)",
   "language": "python",
   "name": "python3"
  },
  "language_info": {
   "codemirror_mode": {
    "name": "ipython",
    "version": 3
   },
   "file_extension": ".py",
   "mimetype": "text/x-python",
   "name": "python",
   "nbconvert_exporter": "python",
   "pygments_lexer": "ipython3",
   "version": "3.10.8"
  }
 },
 "nbformat": 4,
 "nbformat_minor": 5
}
