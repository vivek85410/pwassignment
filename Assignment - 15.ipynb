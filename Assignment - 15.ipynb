{
 "cells": [
  {
   "cell_type": "code",
   "execution_count": null,
   "id": "204902af-bb9e-41ca-acb7-671090939033",
   "metadata": {},
   "outputs": [],
   "source": [
    "#                                                                 ques - 1"
   ]
  },
  {
   "cell_type": "code",
   "execution_count": null,
   "id": "a030dbe1-7550-4baa-acfd-4f55b8a93d63",
   "metadata": {},
   "outputs": [],
   "source": [
    "\"\"\" Flask is a web framework that provides libraries to build lightweight web applications in python.\n",
    "    it’s a Python module that lets you develop web applications easily. It’s has a small and easy-to-extend\n",
    "    core: it’s a microframework that doesn’t include an ORM (Object Relational Manager) or such features.\n",
    "    \n",
    "    Advantages of Flask framework : \n",
    "    1. Lightweight: Flask is a lightweight framework because it is independent of external libraries\n",
    "       and it gives a quick start for web development having complex applications.\n",
    "    2. Compatible: Flask is compatible with the latest technologies such as machine learning, agile development, cloud technologies, etc.\n",
    "    3. Independent: Flask allows full control to the developers for creating web applications. A developer can do the experiment with the\n",
    "       libraries and architecture of the framework.\n",
    "    4. Integrated Unit Testing: Flask offers an integrated unit testing feature that helps in faster debugging, robust development, \n",
    "       and independence to do experiments.\n",
    "\"\"\""
   ]
  },
  {
   "cell_type": "code",
   "execution_count": null,
   "id": "729fdfaf-4599-4bb8-85b5-49f88b1012af",
   "metadata": {},
   "outputs": [],
   "source": [
    "#                                                                ques - 2"
   ]
  },
  {
   "cell_type": "code",
   "execution_count": 12,
   "id": "cedc94d4-9807-4b2a-b979-550727e425b3",
   "metadata": {},
   "outputs": [
    {
     "data": {
      "text/html": [
       "<img src=\"https://brown-engineer-uacot.pwskills.app/files/work/Screenshot%20(22).png?_xsrf=2%7C7c4e5b70%7C109cf1c51bfde20a642c1b5e471a2aa9%7C1692290452\" width=\"500\" height=\"500\"/>"
      ],
      "text/plain": [
       "<IPython.core.display.Image object>"
      ]
     },
     "execution_count": 12,
     "metadata": {},
     "output_type": "execute_result"
    }
   ],
   "source": [
    "from IPython import display\n",
    "display.Image(url =\"https://brown-engineer-uacot.pwskills.app/files/work/Screenshot%20(22).png?_xsrf=2%7C7c4e5b70%7C109cf1c51bfde20a642c1b5e471a2aa9%7C1692290452\" , height=500 ,width=500)"
   ]
  },
  {
   "cell_type": "code",
   "execution_count": null,
   "id": "222dfbd7-bf30-4097-9e63-4a79c8f75420",
   "metadata": {
    "tags": []
   },
   "outputs": [],
   "source": [
    "#                                                                ques - 3                                              "
   ]
  },
  {
   "cell_type": "code",
   "execution_count": null,
   "id": "1fb9f4ff-a7fb-4042-9b6f-c6151d59ae90",
   "metadata": {},
   "outputs": [],
   "source": [
    "\"\"\" App routing is the method/technique through which we specify the url to reach the function for performing some specific task.\n",
    "     we use app route to map the url to reach the function as app is our object for server and route is the technique or path to \n",
    "     function location so we use it to perform the task.\"\"\""
   ]
  },
  {
   "cell_type": "code",
   "execution_count": null,
   "id": "6ebb1213-4599-487f-97b3-a63559d65025",
   "metadata": {},
   "outputs": [],
   "source": [
    "#                                                                ques - 4"
   ]
  },
  {
   "cell_type": "code",
   "execution_count": 14,
   "id": "694814ef-f1a9-4f57-8a64-0072595c9876",
   "metadata": {},
   "outputs": [
    {
     "data": {
      "text/html": [
       "<img src=\"https://brown-engineer-uacot.pwskills.app/files/work/Screenshot%20(24).png?_xsrf=2%7C7c4e5b70%7C109cf1c51bfde20a642c1b5e471a2aa9%7C1692290452\" width=\"500\" height=\"500\"/>"
      ],
      "text/plain": [
       "<IPython.core.display.Image object>"
      ]
     },
     "execution_count": 14,
     "metadata": {},
     "output_type": "execute_result"
    }
   ],
   "source": [
    "from IPython import display\n",
    "display.Image(url = \"https://brown-engineer-uacot.pwskills.app/files/work/Screenshot%20(24).png?_xsrf=2%7C7c4e5b70%7C109cf1c51bfde20a642c1b5e471a2aa9%7C1692290452\",height = 500,width = 500)"
   ]
  },
  {
   "cell_type": "code",
   "execution_count": 15,
   "id": "63de285f-a955-4518-81b3-5d92e9d140e7",
   "metadata": {},
   "outputs": [
    {
     "data": {
      "text/html": [
       "<img src=\"https://brown-engineer-uacot.pwskills.app/files/work/Screenshot%20(23).png?_xsrf=2%7C7c4e5b70%7C109cf1c51bfde20a642c1b5e471a2aa9%7C1692290452\" width=\"500\" height=\"500\"/>"
      ],
      "text/plain": [
       "<IPython.core.display.Image object>"
      ]
     },
     "execution_count": 15,
     "metadata": {},
     "output_type": "execute_result"
    }
   ],
   "source": [
    "from IPython import display\n",
    "display.Image(url = \"https://brown-engineer-uacot.pwskills.app/files/work/Screenshot%20(23).png?_xsrf=2%7C7c4e5b70%7C109cf1c51bfde20a642c1b5e471a2aa9%7C1692290452\",height =500,width = 500)"
   ]
  },
  {
   "cell_type": "code",
   "execution_count": null,
   "id": "2d575694-cfc2-4151-812a-213905cad1ff",
   "metadata": {},
   "outputs": [],
   "source": [
    "#                                                               ques - 5"
   ]
  },
  {
   "cell_type": "code",
   "execution_count": null,
   "id": "4ec4502d-e825-44e5-a1af-515a77e272b9",
   "metadata": {},
   "outputs": [],
   "source": [
    "\"\"\" The url_for() function is used to build a URL to the specific function dynamically. The first argument is the name of the \n",
    "    specified function, and then we can pass any number of keyword argument corresponding to the variable part of the URL.\"\"\"\n",
    "\n",
    "from flask import Flask\n",
    "\n",
    "app = Flask(__name__)\n",
    "\n",
    "@app.route(\"/welcome\")\n",
    "def welcome_msg():\n",
    "    return \"<h1>“Welcome to ABC Corporation”</h1>\"\n",
    "\n",
    "@app.route(\"/home\")\n",
    "def home_page():\n",
    "    return \"<h3>Company Name: ABC Corporation </br>Location: India</br>Contact Detail: 999-999-9999 </h3>\"\n",
    "\n",
    "@app.route(\"/user/<name>\")\n",
    "def user(name):\n",
    "    if name == \"welcome_msg\":\n",
    "        return redirect(url_for(\"welcome_msg\"))\n",
    "\n",
    "    if name == \"home_page\":\n",
    "        return redirect(url_for(\"home_page\"))\n",
    "\n",
    "if __name__==\"__main__\":\n",
    "    app.run(host=\"0.0.0.0\")\n"
   ]
  }
 ],
 "metadata": {
  "kernelspec": {
   "display_name": "Python 3 (ipykernel)",
   "language": "python",
   "name": "python3"
  },
  "language_info": {
   "codemirror_mode": {
    "name": "ipython",
    "version": 3
   },
   "file_extension": ".py",
   "mimetype": "text/x-python",
   "name": "python",
   "nbconvert_exporter": "python",
   "pygments_lexer": "ipython3",
   "version": "3.10.8"
  }
 },
 "nbformat": 4,
 "nbformat_minor": 5
}
