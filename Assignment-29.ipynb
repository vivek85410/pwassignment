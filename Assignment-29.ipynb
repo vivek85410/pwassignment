{
 "cells": [
  {
   "cell_type": "markdown",
   "id": "2f8bef60-e609-4d11-9281-7deca3f2831e",
   "metadata": {},
   "source": [
    "## ques - 1"
   ]
  },
  {
   "cell_type": "code",
   "execution_count": null,
   "id": "cce73c06-4b35-4ac3-bd46-1357cdea9659",
   "metadata": {},
   "outputs": [],
   "source": [
    "\"\"\" A function that defines the relationship between a random variable and its probability, such that you can \n",
    "    find the probability of the variable using the function, is called a Probability Density Function (PDF) in statistics.\n",
    "\"\"\""
   ]
  },
  {
   "cell_type": "markdown",
   "id": "f97f2ece-7f95-4cf8-a432-6945d08cb576",
   "metadata": {},
   "source": [
    "## ques - 2"
   ]
  },
  {
   "cell_type": "code",
   "execution_count": null,
   "id": "fd945100-2541-403f-89f6-dfa26637862a",
   "metadata": {},
   "outputs": [],
   "source": [
    "\"\"\" There are total six types of distribution in probability : \n",
    "    \n",
    "    1. Bernoulli distribution\n",
    "    2. Uniform distribution\n",
    "    3. Normal distribution\n",
    "    4. Poision distribution\n",
    "    5. Exponential distribution\n",
    "\"\"\""
   ]
  },
  {
   "cell_type": "markdown",
   "id": "ce75cfe9-6798-4220-86f8-d1148bc54506",
   "metadata": {},
   "source": [
    "## ques - 3"
   ]
  },
  {
   "cell_type": "code",
   "execution_count": 2,
   "id": "f09b3980-bccd-4050-b384-bd44bb5e4f64",
   "metadata": {},
   "outputs": [
    {
     "data": {
      "text/plain": [
       "3.43002363396591"
      ]
     },
     "execution_count": 2,
     "metadata": {},
     "output_type": "execute_result"
    }
   ],
   "source": [
    "import numpy as np\n",
    "\n",
    "x = np.linspace(1,50,200)\n",
    "\n",
    "def pdf_fun(x,mean,sd):\n",
    "    prob_density = (np.pi*sd) * np.exp(-0.5*((x-mean)/sd)**2)\n",
    "    return prob_density\n",
    "\n",
    "mean = np.mean(x)\n",
    "sd = np.std(x)\n",
    "\n",
    "pdf_fun(4,2,1.90)"
   ]
  },
  {
   "cell_type": "markdown",
   "id": "e3ac4e65-0b5c-46ab-ab8f-bffeb566797e",
   "metadata": {},
   "source": [
    " ## ques - 4"
   ]
  },
  {
   "cell_type": "code",
   "execution_count": null,
   "id": "6e2c265f-42cb-4bb7-814c-1ef628827634",
   "metadata": {},
   "outputs": [],
   "source": [
    "\"\"\" The binomial distribution occurs when the experiment performed satisfies the 3 assumptions of the Bernoulli trial.\n",
    "\n",
    "    1. A Bernoulli trial is an experiment that has specifically two possible results: success and failure.\n",
    "    2. The probability of success(p) and failure(1-p)remain the same for each trial.\n",
    "    3. The outcome of each trial must be independent of the other, i,e the outcome of one trial does not affect the outcomes of other trials.\n",
    "    \n",
    "    The two example of events where binomial distribution can be applied are :\n",
    "    1. Dice related prolems\n",
    "    2. Coin tossing examples\n",
    "\"\"\""
   ]
  },
  {
   "cell_type": "markdown",
   "id": "f43cda21-5b6f-44b3-9aa8-f61b23f9161f",
   "metadata": {},
   "source": [
    "## ques - 5"
   ]
  },
  {
   "cell_type": "code",
   "execution_count": 3,
   "id": "576aac48-a167-42d5-9201-bb0cd7bd4ba0",
   "metadata": {},
   "outputs": [
    {
     "data": {
      "image/png": "[encoded data removed]",
      "text/plain": [
       "<Figure size 640x480 with 1 Axes>"
      ]
     },
     "metadata": {},
     "output_type": "display_data"
    }
   ],
   "source": [
    "import numpy as np\n",
    "from scipy.stats import binom\n",
    "import matplotlib.pyplot as plt\n",
    "\n",
    "n = 10 # no of independent trails\n",
    "p = 0.4 # success rate\n",
    "s = np.random.binomial(n, p, 1000)\n",
    "plt.hist(s)\n",
    "plt.show()"
   ]
  },
  {
   "cell_type": "markdown",
   "id": "a7799da0-368c-4085-a5f4-40c9bd0b1196",
   "metadata": {
    "tags": []
   },
   "source": [
    "# ques - 6"
   ]
  },
  {
   "cell_type": "code",
   "execution_count": 7,
   "id": "1603fbb1-7c3c-4bce-8f75-1e6731bd52f2",
   "metadata": {},
   "outputs": [
    {
     "data": {
      "text/plain": [
       "0.9160820579686966"
      ]
     },
     "execution_count": 7,
     "metadata": {},
     "output_type": "execute_result"
    }
   ],
   "source": [
    "from scipy.stats import poisson\n",
    "\n",
    "def poi_dist(mu , k):\n",
    "    ps_dt = poisson.cdf(mu,k)\n",
    "    return ps_dt\n",
    "\n",
    "poi_dist(mu = 5,k = 3)"
   ]
  },
  {
   "cell_type": "markdown",
   "id": "b397d181-10a9-4ecf-96c9-22411d455915",
   "metadata": {},
   "source": [
    "# ques - 7"
   ]
  },
  {
   "cell_type": "code",
   "execution_count": null,
   "id": "120a1a36-afb8-45d1-a17a-b645f7848bb2",
   "metadata": {},
   "outputs": [],
   "source": [
    "\"\"\" The difference between Binomial distribution and Poission distribution are following : \n",
    "        Binomial Distribution                                               Poission Distribution\n",
    "    1. It is biparametric, i.e. it has 2 parameters n and p.      1. It is uniparametric, i.e. it has only 1 parameter m.\n",
    "    2. The number of attempts are fixed.                          2. The number of attempts are unlimited.\n",
    "    3. The probability of success is constant.                    3. The probability of success is extremely small.\n",
    "    4. There are only two possible outcomes-Success or failure.   4. There are unlimited possible outcomes.\n",
    "    5. Mean>Variance                                              5. Mean=Variance\n",
    "\"\"\""
   ]
  },
  {
   "cell_type": "markdown",
   "id": "d0523e1d-5e69-4cc7-9753-d654f582b8d3",
   "metadata": {},
   "source": [
    "# ques - 8"
   ]
  },
  {
   "cell_type": "code",
   "execution_count": 12,
   "id": "b95965d7-a42e-44ac-8c97-87a0b96a1e4a",
   "metadata": {},
   "outputs": [
    {
     "data": {
      "text/plain": [
       "(5.0172, 5.04770416)"
      ]
     },
     "execution_count": 12,
     "metadata": {},
     "output_type": "execute_result"
    }
   ],
   "source": [
    "import numpy as np\n",
    "s = np.random.poisson(5, 10000)\n",
    "m= np.mean(s)\n",
    "v = np.var(s)\n",
    "m,v"
   ]
  },
  {
   "cell_type": "markdown",
   "id": "013b0f7a-d6bb-47e3-b00b-597268f90208",
   "metadata": {},
   "source": [
    "# ques - 9"
   ]
  },
  {
   "cell_type": "code",
   "execution_count": null,
   "id": "4e909c62-79c4-413d-bfda-bc6b68245a74",
   "metadata": {},
   "outputs": [],
   "source": [
    "\"\"\" Mean and Variance in Binomial and Poission are related as :\n",
    "    \n",
    "    In Binomial distribution Mean > Variance and in case of Poission distribution Mean = variance.\n",
    "    \n",
    "\"\"\""
   ]
  },
  {
   "cell_type": "markdown",
   "id": "870c5035-d1a1-4195-be65-28a5d14efb9d",
   "metadata": {},
   "source": [
    "# ques - 10"
   ]
  },
  {
   "cell_type": "code",
   "execution_count": null,
   "id": "1ef92dd4-6f7f-4040-bc32-d43fcb7c1db4",
   "metadata": {},
   "outputs": [],
   "source": [
    "\"\"\" In normal distribution with respect to mean position , the least frequent data lies far away from the mean\n",
    "    while the most frequent data appears near the mean.\n",
    "\"\"\""
   ]
  }
 ],
 "metadata": {
  "kernelspec": {
   "display_name": "Python 3 (ipykernel)",
   "language": "python",
   "name": "python3"
  },
  "language_info": {
   "codemirror_mode": {
    "name": "ipython",
    "version": 3
   },
   "file_extension": ".py",
   "mimetype": "text/x-python",
   "name": "python",
   "nbconvert_exporter": "python",
   "pygments_lexer": "ipython3",
   "version": "3.10.8"
  }
 },
 "nbformat": 4,
 "nbformat_minor": 5
}
