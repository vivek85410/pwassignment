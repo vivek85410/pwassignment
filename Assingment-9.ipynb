{
 "cells": [
  {
   "cell_type": "code",
   "execution_count": null,
   "id": "5a0ce39e-8d50-444c-be80-c68fc130aa99",
   "metadata": {},
   "outputs": [],
   "source": [
    "#                                                                  ques - 1"
   ]
  },
  {
   "cell_type": "code",
   "execution_count": null,
   "id": "f40c9a7f-b238-4e29-ad13-d0693db38ac5",
   "metadata": {},
   "outputs": [],
   "source": [
    "\"\"\" we have to use Exceptin class (super class) while creating custom exception class because in exception class(super class) there is all the problems\n",
    "    defined related to the python language that can be arised due to syntax of the language but in case of custom exception handling it is made to handle \n",
    "    problems arised in a specific projects or that exceptions are specific for projects so we have to use ecpetion class(super class ) to manage all the \n",
    "    problems related to language as well as project specific.\"\"\" "
   ]
  },
  {
   "cell_type": "code",
   "execution_count": null,
   "id": "0427aa69-cab2-4f03-87c7-ac9cf1a8fdde",
   "metadata": {},
   "outputs": [],
   "source": [
    "#                                                                  ques - 2"
   ]
  },
  {
   "cell_type": "code",
   "execution_count": 1,
   "id": "e9adc5a1-f324-478f-b7d0-957b01557fd3",
   "metadata": {},
   "outputs": [
    {
     "name": "stdin",
     "output_type": "stream",
     "text": [
      "Enter a number:  0\n"
     ]
    },
    {
     "name": "stdout",
     "output_type": "stream",
     "text": [
      "Input value is zero, try again!\n",
      "\n"
     ]
    }
   ],
   "source": [
    "class Error(Exception):\n",
    "    pass\n",
    " \n",
    "class zerodivision(Error):\n",
    "    pass\n",
    " \n",
    "try:\n",
    "    i_num = int(input(\"Enter a number: \"))\n",
    "    if i_num == 0:\n",
    "        raise zerodivision\n",
    "except zerodivision:\n",
    "    print(\"Input value is zero, try again!\")\n",
    "    print()"
   ]
  },
  {
   "cell_type": "code",
   "execution_count": null,
   "id": "aa034a0f-c4f6-4e26-aee1-fb301cc6a838",
   "metadata": {},
   "outputs": [],
   "source": [
    "#                                                                  ques - 3"
   ]
  },
  {
   "cell_type": "code",
   "execution_count": 2,
   "id": "63350efa-2819-4237-97a6-dd31ba6eaaf3",
   "metadata": {},
   "outputs": [
    {
     "name": "stdout",
     "output_type": "stream",
     "text": [
      "You have just made an Arithmetic error\n"
     ]
    }
   ],
   "source": [
    "\"\"\" There are three types of errors defined in ArthematicError class which are :\n",
    "    1. ZeroDivisionError\n",
    "    2. OverFlowError\n",
    "    3. FloatingPointError\n",
    "    \n",
    "    \"\"\"\n",
    " \n",
    "\"\"\" 1. ZeroDivisionError : this error is arised due to division with zero as no any no can be divided with zero because the ans will goes to infinity.\n",
    "\"\"\" \n",
    "try:\n",
    "  arithmetic = 5/0\n",
    "  print(arithmetic)\n",
    "except ArithmeticError:\n",
    "  print('You have just made an Arithmetic error')"
   ]
  },
  {
   "cell_type": "code",
   "execution_count": 3,
   "id": "162a0adc-823c-4e07-9cb9-2825d910d533",
   "metadata": {},
   "outputs": [
    {
     "name": "stdout",
     "output_type": "stream",
     "text": [
      "5.0\n",
      "25.0\n",
      "15625.0\n",
      "5.960464477539062e+16\n",
      "7.52316384526264e+83\n"
     ]
    },
    {
     "ename": "OverflowError",
     "evalue": "(34, 'Numerical result out of range')",
     "output_type": "error",
     "traceback": [
      "\u001b[0;31m---------------------------------------------------------------------------\u001b[0m",
      "\u001b[0;31mOverflowError\u001b[0m                             Traceback (most recent call last)",
      "Cell \u001b[0;32mIn[3], line 5\u001b[0m\n\u001b[1;32m      2\u001b[0m j \u001b[38;5;241m=\u001b[39m \u001b[38;5;241m5.0\u001b[39m\n\u001b[1;32m      4\u001b[0m \u001b[38;5;28;01mfor\u001b[39;00m i \u001b[38;5;129;01min\u001b[39;00m \u001b[38;5;28mrange\u001b[39m(\u001b[38;5;241m1\u001b[39m, \u001b[38;5;241m1000\u001b[39m):\n\u001b[0;32m----> 5\u001b[0m     j \u001b[38;5;241m=\u001b[39m \u001b[43mj\u001b[49m\u001b[38;5;241;43m*\u001b[39;49m\u001b[38;5;241;43m*\u001b[39;49m\u001b[43mi\u001b[49m\n\u001b[1;32m      6\u001b[0m     \u001b[38;5;28mprint\u001b[39m(j)\n",
      "\u001b[0;31mOverflowError\u001b[0m: (34, 'Numerical result out of range')"
     ]
    }
   ],
   "source": [
    "\"\"\" 2. OverFlowError : this error arises when there is too large size of the program as it exceeds the limits of the given types of data .\"\"\"\n",
    "j = 5.0\n",
    "\n",
    "for i in range(1, 1000):\n",
    "    j = j**i\n",
    "    print(j)\n"
   ]
  },
  {
   "cell_type": "code",
   "execution_count": null,
   "id": "056c78d9-a400-4529-b7dd-535c720415d4",
   "metadata": {},
   "outputs": [],
   "source": [
    "#                                                                  ques  - 4"
   ]
  },
  {
   "cell_type": "code",
   "execution_count": 2,
   "id": "a7e5580a-3e2f-4b35-898e-3f4f52b08ea0",
   "metadata": {},
   "outputs": [
    {
     "name": "stdout",
     "output_type": "stream",
     "text": [
      "this is an Index error \n"
     ]
    }
   ],
   "source": [
    "\"\"\" lookup error is the base class for error raised when something not found. we use it to handle the error of missing key or index.\n",
    "    \n",
    "    1. Index error : index error is raised when a sequence reference is out of range.\n",
    "    for example : \"\"\"\n",
    "try : \n",
    "    list = [1,2,3,4,5]\n",
    "    print(list[6])\n",
    "except IndexError as e : \n",
    "    print(\"this is an Index error \")"
   ]
  },
  {
   "cell_type": "code",
   "execution_count": 6,
   "id": "c96c3dd1-11ab-4f6e-b0c9-0c2a4259f7e0",
   "metadata": {},
   "outputs": [
    {
     "name": "stdout",
     "output_type": "stream",
     "text": [
      "KeyError is  'place'\n"
     ]
    }
   ],
   "source": [
    "\"\"\" 2. KeyError : KeyError is raised when we try to access of find the key that is not present in the dictionary \n",
    "    for example : \"\"\"\n",
    "try : \n",
    "    dict = {\"name\" : \"ram\" , \"age\" : 32 ,\"gender\" : \"male\"}\n",
    "    dict['place']\n",
    "except KeyError as e :\n",
    "    print(\"KeyError is \",e)"
   ]
  },
  {
   "cell_type": "code",
   "execution_count": null,
   "id": "4a180e2a-82d8-4264-8467-d38e46e62f9c",
   "metadata": {},
   "outputs": [],
   "source": [
    "#                                                                  ques - 5"
   ]
  },
  {
   "cell_type": "code",
   "execution_count": null,
   "id": "f49d1de4-87ef-4311-bb48-d109c9deb3e7",
   "metadata": {},
   "outputs": [],
   "source": [
    "\"\"\" immport error : Import error is raised when we try to import module that doesnot exist in private table.basically we try\n",
    "    to import those library or module that python cannot find or access.\n",
    "    \n",
    "    ModuleNotFoundError : this ModuleNotFoundError is shown by the interpreter when the module we want to import is not found.\n",
    "    this genereates/appears when we try to import sub module of any module or by writting wwrong speeling of the module name. \"\"\""
   ]
  },
  {
   "cell_type": "code",
   "execution_count": null,
   "id": "18dc43fc-ad7e-4763-918f-c19f9610af8f",
   "metadata": {},
   "outputs": [],
   "source": [
    "#                                                                  ques - 6"
   ]
  },
  {
   "cell_type": "code",
   "execution_count": null,
   "id": "49727808-202e-49f8-9ed4-7f401ba1893c",
   "metadata": {},
   "outputs": [],
   "source": [
    "\"\"\" some best practices for exception handelling in python are :  \n",
    "\n",
    "    1 . try to write each and every code in try and except block so that errors can be managed and programs run smoothly \n",
    "    without any interuption.\n",
    "    \n",
    "    2. try of use sub class for each and every types of errors that is like for arthematic calcuations use arthematic errors \n",
    "    instead of exception error(super class) first.\n",
    "    \n",
    "    3. Make documentation of the code so that it can be easy for anyone to understand the code.\n",
    "    \n",
    "    4. also use logging module insted of print function because it will help to find the bug and debud the code also it will \n",
    "    help to understand the flow of the code.\n",
    "\n",
    "\"\"\""
   ]
  }
 ],
 "metadata": {
  "kernelspec": {
   "display_name": "Python 3 (ipykernel)",
   "language": "python",
   "name": "python3"
  },
  "language_info": {
   "codemirror_mode": {
    "name": "ipython",
    "version": 3
   },
   "file_extension": ".py",
   "mimetype": "text/x-python",
   "name": "python",
   "nbconvert_exporter": "python",
   "pygments_lexer": "ipython3",
   "version": "3.10.8"
  }
 },
 "nbformat": 4,
 "nbformat_minor": 5
}
