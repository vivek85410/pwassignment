{
 "cells": [
  {
   "cell_type": "markdown",
   "id": "5efe79a8-a517-492e-9144-e58fe6de01e4",
   "metadata": {
    "tags": []
   },
   "source": [
    "# ques - 1"
   ]
  },
  {
   "cell_type": "code",
   "execution_count": null,
   "id": "398cc886-d069-4507-8560-a15ff28212ec",
   "metadata": {},
   "outputs": [],
   "source": [
    "\"\"\" Estimation in statistics are any procedures used to calculate the value of a population drawn from observations \n",
    "    within a sample size drawn from that population.Estimation is statistics is used to determine the truth value of\n",
    "    an object or function that may be found within a population. Consequently, using a sample of the population may\n",
    "    help with determining this truth value.\n",
    "    \n",
    "    1. Point estimate : Refers to a single value that best determines the true parameter value of population.\n",
    "    \n",
    "    2. Interval estimate : Gives a range of value within which the value parameter possibly falls.\n",
    "\"\"\""
   ]
  },
  {
   "cell_type": "markdown",
   "id": "2dbdc30b-4aae-4d0e-946f-fa2b8b152d8a",
   "metadata": {},
   "source": [
    "# ques - 2"
   ]
  },
  {
   "cell_type": "code",
   "execution_count": 4,
   "id": "7cf3c8fe-8909-40e3-abce-09886fb1e421",
   "metadata": {},
   "outputs": [
    {
     "data": {
      "text/plain": [
       "(49.18252253533135, 50.81747746466865)"
      ]
     },
     "execution_count": 4,
     "metadata": {},
     "output_type": "execute_result"
    }
   ],
   "source": [
    "import numpy as np\n",
    "import math\n",
    "\n",
    "#using central limit theorem and z-test\n",
    "def estimatePoplnMean(sample_mean, sample_std_dev, sample_size, confidence_level=0.95):\n",
    "    standard_error = sample_std_dev / math.sqrt(sample_size)\n",
    "    z_value = np.percentile(np.abs(np.random.normal(0, 1)), (1 - confidence_level) / 2)\n",
    "    margin_of_error = z_value * standard_error\n",
    "    lower_bound = sample_mean - margin_of_error\n",
    "    upper_bound = sample_mean + margin_of_error\n",
    "    \n",
    "    return lower_bound,upper_bound\n",
    "\n",
    "sample_mean = 50\n",
    "sample_std = 10\n",
    "sample_size = 100\n",
    "estimatePoplnMean(sample_mean,sample_std,sample_size)"
   ]
  },
  {
   "cell_type": "markdown",
   "id": "27f5aefd-db77-4391-ba13-182241270fb7",
   "metadata": {},
   "source": [
    "# ques -3"
   ]
  },
  {
   "cell_type": "code",
   "execution_count": null,
   "id": "6f6c56b9-7dbd-44c3-a28d-2608f68894c5",
   "metadata": {},
   "outputs": [],
   "source": [
    "\"\"\" Hypothesis Testing is a type of statistical analysis in which you put your assumptions about a population parameter to the test.\n",
    "    The purpose of hypothesis testing is to test whether the null hypothesis (there is no difference, no effect) can be rejected or\n",
    "    approved. If the null hypothesis is rejected, then the research hypothesis can be accepted. If the null hypothesis is accepted,\n",
    "    then the research hypothesis is rejected.\n",
    "    Importance of Hypothesis testing : Hypothesis Testing could be used to interpret and draw conclusions about the population using\n",
    "    sample data. A Hypothesis Test helps in making a decision as to which mutually exclusive statement about the population is best \n",
    "    supported by sample data.\n",
    "\"\"\""
   ]
  },
  {
   "cell_type": "markdown",
   "id": "b71f3de5-2c57-4e24-9c97-427f881e3fa6",
   "metadata": {},
   "source": [
    "# ques - 4"
   ]
  },
  {
   "cell_type": "code",
   "execution_count": null,
   "id": "ff1be350-9c73-4d1e-8086-487028b855cb",
   "metadata": {},
   "outputs": [],
   "source": [
    "\"\"\" A hypothesis that states whether the average weight of male college students is greater than\n",
    "    the average weight of female college students. : \n",
    "    \n",
    "    null hypothesis (U) - the average weight of male college student is greater than average weight of female college student.\n",
    "    \n",
    "    Alternate hypothesis (!U) = the average weight of male college student is not greater than average weight of female college student.\n",
    "    \n",
    "    so we have to either reject the alternate hypothesis in order to accept the null hypothesis and state the statement is true or false.\n",
    "\"\"\""
   ]
  },
  {
   "cell_type": "markdown",
   "id": "f640b980-d85e-4158-9ae1-4f14321625b7",
   "metadata": {},
   "source": [
    "# ques - 5"
   ]
  },
  {
   "cell_type": "code",
   "execution_count": 4,
   "id": "7a06baed-24e3-42e5-9acd-f5fe18ca325a",
   "metadata": {},
   "outputs": [
    {
     "name": "stdout",
     "output_type": "stream",
     "text": [
      "T-statistic value:  -0.47999173265435263\n",
      "P-Value:  0.6323028745694679\n",
      "Mean is equal for both the population\n"
     ]
    }
   ],
   "source": [
    "\"\"\" the two population means are m1 and m2 : \n",
    "    so,\n",
    "       Null hypothesis (U) : m1 == m2 ; m1 and m2 are equal\n",
    "       Alternate hypothesis (!U) : m1 != m2 ; m1 and m2 are not equal.\n",
    "\"\"\"\n",
    "# so we will do two tail t-test for this hypothesis : \n",
    "from numpy.random import seed\n",
    "from numpy.random import randn\n",
    "from numpy.random import normal\n",
    "from scipy.stats import ttest_ind\n",
    "\n",
    "sample1= normal(30, 16, 50)\n",
    "sample2=normal(33, 18, 50)\n",
    "alpha = 0.05\n",
    "t_stat, p_value = ttest_ind(sample1, sample2) \n",
    "print(\"T-statistic value: \", t_stat)  \n",
    "print(\"P-Value: \", p_value)\n",
    "if alpha>= p_value:\n",
    "    print(\"Mean of both the population is not equal\")\n",
    "else:\n",
    "    print(\"Mean is equal for both the population\")"
   ]
  },
  {
   "cell_type": "markdown",
   "id": "accf98cf-257d-4892-8fa9-bf6259ca194b",
   "metadata": {},
   "source": [
    "# ques - 6"
   ]
  },
  {
   "cell_type": "code",
   "execution_count": null,
   "id": "5ad505f9-0904-4cc4-a4aa-8982713a1f34",
   "metadata": {},
   "outputs": [],
   "source": [
    "\"\"\" Null Hypothesis : The Null Hypothesis is the assumption that the event will not occur. A null hypothesis has no bearing on\n",
    "    the study's outcome unless it is rejected. H0 is the symbol for it, and it is pronounced H-naught.\n",
    "    \n",
    "    Alternate Hypothesis : The Alternate Hypothesis is the logical opposite of the null hypothesis. The acceptance of the \n",
    "    alternative hypothesis follows the rejection of the null hypothesis. H1 is the symbol for it.\n",
    "    \n",
    "    Example : A sanitizer manufacturer claims that its product kills 95 percent of germs on average. \n",
    "\n",
    "    To put this company's claim to the test, create a null and alternate hypothesis.\n",
    "\n",
    "    H0 (Null Hypothesis): Average = 95%.\n",
    "\n",
    "    Alternative Hypothesis (H1): The average is less than 95%.\n",
    "\"\"\""
   ]
  },
  {
   "cell_type": "markdown",
   "id": "a07943c2-3944-4cee-ade2-90800a8e5e1b",
   "metadata": {},
   "source": [
    "# ques - 7"
   ]
  },
  {
   "cell_type": "code",
   "execution_count": null,
   "id": "039705ed-a27e-48d0-97e7-266a5f6d2032",
   "metadata": {},
   "outputs": [],
   "source": [
    "\"\"\" Steps to Hypothesis testing :\n",
    "    \n",
    "    1. Identifing population and sample\n",
    "    2. State Null and Alternate Hypothesis (population parameters)\n",
    "    3. State assumptions and check conditions.\n",
    "    4. Calculate the test statistic\n",
    "    5. Calculate the p-value\n",
    "    6. State the conclusion.\n",
    "\"\"\""
   ]
  },
  {
   "cell_type": "markdown",
   "id": "fcf9a272-8889-4a4b-ae78-9374dd15b406",
   "metadata": {},
   "source": [
    "# ques - 8 "
   ]
  },
  {
   "cell_type": "code",
   "execution_count": null,
   "id": "ef5e012e-219c-40b5-9db8-36b0a08b2788",
   "metadata": {},
   "outputs": [],
   "source": [
    "\"\"\" In statistical hypothesis testing, P-Value or probability value can be defined as the measure of the probability that a\n",
    "    real-valued test statistic is at least as extreme as the value actually obtained.\n",
    "    P-value shows how likely it is that your set of observations could have occurred under the null hypothesis.\n",
    "    P-Values are used in statistical hypothesis testing to determine whether to reject the null hypothesis.\n",
    "    The smaller the p-value, the stronger the likelihood that you should reject the null hypothesis. \n",
    "    P-values are expressed as decimals and can be converted into percentage. For example, a p-value of 0.0237 is 2.37%,\n",
    "    which means there's a 2.37% chance of your results being random or having happened by chance. The smaller the P-value,\n",
    "    the more significant your results are. \n",
    "\"\"\""
   ]
  },
  {
   "cell_type": "markdown",
   "id": "7c846006-12cb-4a9d-a34f-7bb834a90e5a",
   "metadata": {},
   "source": [
    "# ques -9"
   ]
  },
  {
   "cell_type": "code",
   "execution_count": 6,
   "id": "4e00487e-2c44-4638-b6fd-776641b1302d",
   "metadata": {},
   "outputs": [
    {
     "data": {
      "image/png": "[encoded data removed]",
      "text/plain": [
       "<Figure size 640x480 with 1 Axes>"
      ]
     },
     "metadata": {},
     "output_type": "display_data"
    }
   ],
   "source": [
    "import numpy as np\n",
    "from matplotlib import pyplot as plt\n",
    "from scipy.stats import t\n",
    "\n",
    "x = np.linspace(-4,4,200)\n",
    "y = t.pdf(x,df=10)\n",
    "\n",
    "plt.plot(x,y)\n",
    "plt.show()\n"
   ]
  },
  {
   "cell_type": "markdown",
   "id": "3661734c-a0c4-4fcb-b9c6-0b37dd290ba0",
   "metadata": {},
   "source": [
    "# ques - 10"
   ]
  },
  {
   "cell_type": "code",
   "execution_count": 7,
   "id": "6909221f-5cf3-4478-966c-632ee0a031ac",
   "metadata": {},
   "outputs": [
    {
     "data": {
      "text/plain": [
       "'Mean is equal for both the population'"
      ]
     },
     "execution_count": 7,
     "metadata": {},
     "output_type": "execute_result"
    }
   ],
   "source": [
    "from numpy.random import seed\n",
    "from numpy.random import randn\n",
    "from numpy.random import normal\n",
    "from scipy.stats import ttest_ind\n",
    "\n",
    "def two_Sample_T_Test(sample1,sample2,alpha=0.05):\n",
    "    t_stat, p_value = ttest_ind(sample1, sample2)\n",
    "    if alpha >= p_value:\n",
    "        return \"Mean of both the population is not equal\"\n",
    "    else:\n",
    "        return \"Mean is equal for both the population\"\n",
    "sample1= normal(30, 16, 50)\n",
    "sample2=normal(33, 18, 50)\n",
    "two_Sample_T_Test(sample1,sample2)"
   ]
  },
  {
   "cell_type": "markdown",
   "id": "20a4b8ac-bd7a-4264-94bb-02e1ad8f5842",
   "metadata": {},
   "source": [
    "# ques - 11"
   ]
  },
  {
   "cell_type": "code",
   "execution_count": null,
   "id": "55c587b8-9566-4fe1-ae4d-144f356c0cdb",
   "metadata": {},
   "outputs": [],
   "source": [
    "\"\"\" The t-distribution, also known as the Student’s t-distribution, is a type of probability distribution that is similar\n",
    "    to the normal distribution with its bell shape but has heavier tails. It is used for estimating population parameters\n",
    "    for small sample sizes or unknown variances.\n",
    "    T-distributions have a greater chance for extreme values than normal distributions, and as a result have fatter tails.\n",
    "    The t-distribution is a continuous probability distribution of the z-score when the estimated standard deviation is used\n",
    "    in the denominator rather than the true standard deviation.\n",
    "    \n",
    "    The t-distribution should be used if the population sample size is small and the standard deviation is unknown. If not,\n",
    "    then the normal distribution should be used.\n",
    "\"\"\""
   ]
  },
  {
   "cell_type": "markdown",
   "id": "9eba6e3f-a8b1-4c1d-9fab-8cf02e0f9ce0",
   "metadata": {},
   "source": [
    "# ques - 12"
   ]
  },
  {
   "cell_type": "code",
   "execution_count": null,
   "id": "9b08e67d-7860-4fdc-8361-183c1c2bc03e",
   "metadata": {},
   "outputs": [],
   "source": [
    "\"\"\" In statistics, the t-statistic is the ratio of the departure of the estimated value of a parameter from its hypothesized\n",
    "    value to its standard error. It is used in hypothesis testing via Student's t-test. The t-statistic is used in a t-test\n",
    "    to determine whether to support or reject the null hypothesis.\n",
    "    It is very similar to the z-score but with the difference that t-statistic is used when the sample size is small or the \n",
    "    population standard deviation is unknown.\n",
    "    \n",
    "    formula for t-statistic :\n",
    "    t = (X‾ - μ0) / (s / √n) ,\n",
    "    where X‾ = Sample mean\n",
    "        μ0 = poppulation mean\n",
    "        s = standard deviation\n",
    "        n = size of the sample\n",
    "\"\"\""
   ]
  },
  {
   "cell_type": "markdown",
   "id": "ba19d30c-3f1a-4520-8a6b-b70a02cfbd28",
   "metadata": {},
   "source": [
    "# ques - 13"
   ]
  },
  {
   "cell_type": "code",
   "execution_count": 2,
   "id": "cc722c69-4bc4-46b8-86e4-0e00b8d10cf3",
   "metadata": {},
   "outputs": [
    {
     "data": {
      "text/plain": [
       "(499.43246092313666, 500.56753907686334)"
      ]
     },
     "execution_count": 2,
     "metadata": {},
     "output_type": "execute_result"
    }
   ],
   "source": [
    "import numpy as np\n",
    "import math\n",
    "\n",
    "#using central limit theorem and z-test\n",
    "def estimatePoplnMean(sample_mean, sample_std_dev, sample_size, confidence_level=0.95):\n",
    "    standard_error = sample_std_dev / math.sqrt(sample_size)\n",
    "    z_value = np.percentile(np.abs(np.random.normal(0, 1)), (1 - confidence_level) / 2)\n",
    "    margin_of_error = z_value * standard_error\n",
    "    lower_bound = sample_mean - margin_of_error\n",
    "    upper_bound = sample_mean + margin_of_error\n",
    "    \n",
    "    return lower_bound,upper_bound\n",
    "estimatePoplnMean(500,50,50)"
   ]
  },
  {
   "cell_type": "markdown",
   "id": "e5b99841-96ed-4838-a2dd-677f630099d0",
   "metadata": {},
   "source": [
    "# ques - 14"
   ]
  },
  {
   "cell_type": "code",
   "execution_count": 7,
   "id": "cd33a54e-b7d0-483d-b9b6-5594f621fe28",
   "metadata": {},
   "outputs": [
    {
     "name": "stdout",
     "output_type": "stream",
     "text": [
      "-6.666666666666667\n",
      "Mean is equal for both the population\n"
     ]
    }
   ],
   "source": [
    "n = 100\n",
    "u = 8\n",
    "sd = 3\n",
    "U = 10\n",
    "alpha = 0.05\n",
    "# null Hypothesis (H) = 8\n",
    "# Alternate Hypothesis (H0) != 8\n",
    "\n",
    "t = (u-U)/(sd/10)\n",
    "print(t)\n",
    "p_value = 0.0001\n",
    "if p_value >= alpha:\n",
    "    print(\"Mean of both the population is not equal\")\n",
    "else:\n",
    "    print(\"Mean is equal for both the population\")"
   ]
  },
  {
   "cell_type": "markdown",
   "id": "ff906d97-50eb-4b23-8236-3721487464b9",
   "metadata": {},
   "source": [
    "# ques - 15"
   ]
  },
  {
   "cell_type": "code",
   "execution_count": 10,
   "id": "f15f9a9b-c8df-49fb-a7ba-72de61ad3168",
   "metadata": {},
   "outputs": [
    {
     "name": "stdout",
     "output_type": "stream",
     "text": [
      "-2.0000000000000018\n",
      "we accept the alternate hypothesis, so the true mean weight is less than the sample mean\n"
     ]
    }
   ],
   "source": [
    "U = 5\n",
    "sd = 0.5\n",
    "u = 4.8\n",
    "n = 25\n",
    "alpha = 0.01\n",
    "\n",
    "# Null hypothesis (H) = 5\n",
    "# Alternate hypothesis (H0) != 5\n",
    "\n",
    "t = (4.8-5.0)/(0.5/5)\n",
    "print(t)\n",
    "p_value = 0.0569\n",
    "if alpha >= p_value:\n",
    "    print(\"we accept the null hpothesis, so the true mean weight is not less then the sample mean\")\n",
    "else:\n",
    "    print(\"we accept the alternate hypothesis, so the true mean weight is less than the sample mean\")"
   ]
  },
  {
   "cell_type": "markdown",
   "id": "d3891bd2-8c2c-4379-997e-a013d527f5f1",
   "metadata": {},
   "source": [
    "# ques - 16"
   ]
  },
  {
   "cell_type": "code",
   "execution_count": 13,
   "id": "fc88391b-501b-4b1d-8a8d-798a235014dc",
   "metadata": {},
   "outputs": [
    {
     "data": {
      "text/plain": [
       "'Mean is equal for both the population'"
      ]
     },
     "execution_count": 13,
     "metadata": {},
     "output_type": "execute_result"
    }
   ],
   "source": [
    "n1 = 30\n",
    "u1 = 80 \n",
    "sd1 = 10\n",
    "n2 = 40\n",
    "u2 = 75\n",
    "sd2 = 8\n",
    "alpha = 0.01\n",
    "\n",
    "from numpy.random import seed\n",
    "from numpy.random import randn\n",
    "from numpy.random import normal\n",
    "from scipy.stats import ttest_ind\n",
    "\n",
    "def two_Sample_T_Test(sample1,sample2,alpha=0.01):\n",
    "    t_stat, p_value = ttest_ind(sample1, sample2)\n",
    "    if alpha >= p_value:\n",
    "        return \"Mean of both the population is not equal\"\n",
    "    else:\n",
    "        return \"Mean is equal for both the population\"\n",
    "\n",
    "sample1 = (80,10,30)\n",
    "sample2 = (75,8,40)\n",
    "two_Sample_T_Test(sample1,sample2)"
   ]
  },
  {
   "cell_type": "markdown",
   "id": "ab9428ff-1bb4-4a41-ab4b-1dcf7255998f",
   "metadata": {},
   "source": [
    "# ques - 17"
   ]
  },
  {
   "cell_type": "code",
   "execution_count": 15,
   "id": "d74c1042-a40b-4c36-8004-3731e4b9d511",
   "metadata": {},
   "outputs": [
    {
     "data": {
      "text/plain": [
       "(3.956226829331191, 4.04377317066881)"
      ]
     },
     "execution_count": 15,
     "metadata": {},
     "output_type": "execute_result"
    }
   ],
   "source": [
    "n = 50 \n",
    "u = 4\n",
    "sd = 1.5\n",
    "# population mean on 99% confidence interval\n",
    "\n",
    "import numpy as np\n",
    "import math\n",
    "\n",
    "#using central limit theorem and z-test\n",
    "def estimatePoplnMean(sample_mean, sample_std_dev, sample_size, confidence_level=0.99):\n",
    "    standard_error = sample_std_dev / math.sqrt(sample_size)\n",
    "    z_value = np.percentile(np.abs(np.random.normal(0, 1)), (1 - confidence_level) / 2)\n",
    "    margin_of_error = z_value * standard_error\n",
    "    lower_bound = sample_mean - margin_of_error\n",
    "    upper_bound = sample_mean + margin_of_error\n",
    "    \n",
    "    return lower_bound,upper_bound\n",
    "\n",
    "sample_mean = 4\n",
    "sample_std = 1.5\n",
    "sample_size = 50\n",
    "estimatePoplnMean(sample_mean,sample_std,sample_size)"
   ]
  },
  {
   "cell_type": "code",
   "execution_count": null,
   "id": "8e3669e3-4544-4bda-8343-7e3b3576544e",
   "metadata": {},
   "outputs": [],
   "source": []
  }
 ],
 "metadata": {
  "kernelspec": {
   "display_name": "Python 3 (ipykernel)",
   "language": "python",
   "name": "python3"
  },
  "language_info": {
   "codemirror_mode": {
    "name": "ipython",
    "version": 3
   },
   "file_extension": ".py",
   "mimetype": "text/x-python",
   "name": "python",
   "nbconvert_exporter": "python",
   "pygments_lexer": "ipython3",
   "version": "3.10.8"
  }
 },
 "nbformat": 4,
 "nbformat_minor": 5
}
