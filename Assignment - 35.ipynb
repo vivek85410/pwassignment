{
 "cells": [
  {
   "cell_type": "markdown",
   "id": "c16b3d7f-d120-465a-97cf-27237292370b",
   "metadata": {},
   "source": [
    "# Ques - 1"
   ]
  },
  {
   "cell_type": "code",
   "execution_count": 2,
   "id": "0ff5d628-66ff-4d43-be1f-303fcca32483",
   "metadata": {},
   "outputs": [
    {
     "data": {
      "text/plain": [
       "(0.25, 0.0255016303534754)"
      ]
     },
     "execution_count": 2,
     "metadata": {},
     "output_type": "execute_result"
    }
   ],
   "source": [
    "import numpy as np\n",
    "import scipy.stats as stats\n",
    "\n",
    "def f_test_check(data1,data2):\n",
    "    F_value = np.var(data1)/np.var(data2)\n",
    "    df1 = len(data1)-1;\n",
    "    df2 = len(data2)-1;\n",
    "    p_value = stats.f.cdf(F_value, df1, df2)\n",
    "    return F_value,p_value\n",
    "\n",
    "data1 = [1,2,3,4,5,6,7,8,9,0]\n",
    "data2 = [2,4,6,8,10,12,14,16,18,20]\n",
    "f_test_check(data1,data2)"
   ]
  },
  {
   "cell_type": "markdown",
   "id": "8d10b8fb-2261-4ac7-9de6-48db68f9eb45",
   "metadata": {},
   "source": [
    "# Ques - 2"
   ]
  },
  {
   "cell_type": "code",
   "execution_count": 5,
   "id": "e092f120-3465-456c-a1ef-52f84f6ae7f3",
   "metadata": {},
   "outputs": [
    {
     "data": {
      "text/plain": [
       "6.22716116435764"
      ]
     },
     "execution_count": 5,
     "metadata": {},
     "output_type": "execute_result"
    }
   ],
   "source": [
    "import scipy.stats as stats\n",
    "\n",
    "def F_value(alpha,df1,df2):\n",
    "    return stats.f.ppf(1-(alpha/2),df1,df2)\n",
    "F_value(0.05,4,6)"
   ]
  },
  {
   "cell_type": "markdown",
   "id": "aeeeb2d4-3c4d-478d-ac26-6f298698e61b",
   "metadata": {},
   "source": [
    "# Ques - 3"
   ]
  },
  {
   "cell_type": "code",
   "execution_count": 9,
   "id": "48a88f9f-7916-46d7-a73a-270c2b857424",
   "metadata": {},
   "outputs": [
    {
     "name": "stdout",
     "output_type": "stream",
     "text": [
      "variences are not same\n",
      "f_value is  1.5444174151661496\n",
      "degree of freedom 1 is  9\n",
      "degree of freedom 2 is  9\n",
      "p_value is  3.178893104458269\n"
     ]
    }
   ],
   "source": [
    "import numpy as np\n",
    "import scipy.stats as stat\n",
    "\n",
    "sample1 = np.random.normal(size=10)\n",
    "sample2 = np.random.normal(size=10)\n",
    "f_value = np.var(sample1)/np.var(sample2)\n",
    "df1 = len(sample1)-1\n",
    "df2 = len(sample2)-1\n",
    "p_value = stats.f.ppf(1-0.05,df1,df2)\n",
    "if f_value == 1:\n",
    "    print(\"variences are same\")\n",
    "else:\n",
    "    print(\"variences are not same\")\n",
    "print(\"f_value is \",f_value)\n",
    "print(\"degree of freedom 1 is \", df1)\n",
    "print(\"degree of freedom 2 is \", df2)\n",
    "print(\"p_value is \", p_value)"
   ]
  },
  {
   "cell_type": "markdown",
   "id": "3c35d5a8-5043-463d-a6bd-411da3008856",
   "metadata": {},
   "source": [
    "# Ques - 4"
   ]
  },
  {
   "cell_type": "code",
   "execution_count": 10,
   "id": "45155041-927d-430e-8069-d46fc8b05056",
   "metadata": {},
   "outputs": [
    {
     "name": "stdout",
     "output_type": "stream",
     "text": [
      "The variences has no difference.\n"
     ]
    }
   ],
   "source": [
    "import scipy.stats as stat\n",
    "\n",
    "var1 = 10\n",
    "var2 = 15\n",
    "df1 = 11\n",
    "df2 = 11\n",
    "f_value = var1/var2\n",
    "p_value = stats.f.ppf(1-0.05,11,11)\n",
    "if p_value < 0.05:\n",
    "    print(\"The variences are significantly different.\")\n",
    "else:\n",
    "    print(\"The variences has no difference.\")\n"
   ]
  },
  {
   "cell_type": "markdown",
   "id": "f577a943-7eb3-4021-b7f6-45e349de6f0f",
   "metadata": {},
   "source": [
    "# Ques - 5"
   ]
  },
  {
   "cell_type": "code",
   "execution_count": 14,
   "id": "0e0a9389-d45f-49d4-97a4-c657d5d14ce5",
   "metadata": {},
   "outputs": [
    {
     "name": "stdout",
     "output_type": "stream",
     "text": [
      "claimed varience is true\n"
     ]
    }
   ],
   "source": [
    "import scipy.stats as stats\n",
    "\n",
    "claimed_varience = 0.005\n",
    "examined_varience = 0.006\n",
    "df = 24\n",
    "f_value = claimed_varience/examined_varience\n",
    "p_value = stats.f.ppf(1-0.01,24,-1)\n",
    "if p_value<0.01:\n",
    "    print(\"claimed varience is not true\")\n",
    "else:\n",
    "    print(\"claimed varience is true\")"
   ]
  },
  {
   "cell_type": "markdown",
   "id": "689b4a40-638e-42af-b064-e0443d49e525",
   "metadata": {},
   "source": [
    "# Ques - 6"
   ]
  },
  {
   "cell_type": "code",
   "execution_count": 20,
   "id": "32403b32-dd0e-4fa6-8f57-7d03be815e45",
   "metadata": {},
   "outputs": [
    {
     "data": {
      "text/plain": [
       "(-1.0, 0.2604166666666667)"
      ]
     },
     "execution_count": 20,
     "metadata": {},
     "output_type": "execute_result"
    }
   ],
   "source": [
    "import scipy.stats as stats\n",
    "\n",
    "def Mean_Varience(df1,df2):\n",
    "    mean = df2/df2-2\n",
    "    varience = 2 * df2**2 / ((df2 - 2)**2 * (df1 + df2))\n",
    "    \n",
    "    return mean,varience\n",
    "\n",
    "Mean_Varience(2,10)"
   ]
  },
  {
   "cell_type": "markdown",
   "id": "c968f450-910a-4074-a7af-b4a6e60c51ac",
   "metadata": {},
   "source": [
    "# Ques - 7"
   ]
  },
  {
   "cell_type": "code",
   "execution_count": 27,
   "id": "808641f9-192f-4321-ace6-1f690ea58334",
   "metadata": {},
   "outputs": [
    {
     "name": "stdout",
     "output_type": "stream",
     "text": [
      "The variences has no difference.\n"
     ]
    }
   ],
   "source": [
    "df1 = 9\n",
    "df2 = 14\n",
    "var1 = 25\n",
    "var2 = 20\n",
    "aplha = 0.1\n",
    "\n",
    "import scipy.stats as stats\n",
    "import numpy as np\n",
    "from scipy.stats import f_oneway\n",
    "\n",
    "sample1 = np.random.normal(loc=0, scale=np.sqrt(var1),size=10)\n",
    "sample2 = np.random.normal(loc=0, scale=np.sqrt(var2),size=15)\n",
    "F_value, p_value = f_oneway(sample1, sample2)\n",
    "\n",
    "if p_value < 0.1:\n",
    "    print(\"The variences are significantly different.\")\n",
    "else:\n",
    "    print(\"The variences has no difference.\")"
   ]
  },
  {
   "cell_type": "markdown",
   "id": "bd869936-5c1a-48b2-8112-2a5d3a339c69",
   "metadata": {},
   "source": [
    "# Ques - 8"
   ]
  },
  {
   "cell_type": "code",
   "execution_count": 32,
   "id": "658a2025-1da5-47fa-85d5-8cd2d8b587f8",
   "metadata": {},
   "outputs": [
    {
     "name": "stdout",
     "output_type": "stream",
     "text": [
      "The variences are significantly different.\n"
     ]
    }
   ],
   "source": [
    "Resturent_A = [24, 25, 28, 23, 22, 20, 27]\n",
    "Resturent_B =  [31, 33, 35, 30, 32, 36]\n",
    "import numpy as np\n",
    "from scipy.stats import f_oneway\n",
    "\n",
    "all_data = [np.array(Resturent_A),np.array(Resturent_B)]\n",
    "f_value,p_value = f_oneway(*all_data)\n",
    "if p_value<0.05:\n",
    "    print(\"The variences are significantly different.\")\n",
    "else:\n",
    "    print(\"The variences has no difference.\")"
   ]
  },
  {
   "cell_type": "markdown",
   "id": "3b4da711-aa43-4eba-8d2a-ae3a3fdf56da",
   "metadata": {},
   "source": [
    "# Ques - 9"
   ]
  },
  {
   "cell_type": "code",
   "execution_count": 34,
   "id": "5f3237c2-22f7-4d42-9a61-d5b9356284c0",
   "metadata": {},
   "outputs": [
    {
     "name": "stdout",
     "output_type": "stream",
     "text": [
      "The variences has no difference.\n"
     ]
    }
   ],
   "source": [
    "Group_A = [80, 85, 90, 92, 87, 83]\n",
    "Group_B = [75, 78, 82, 79, 81, 84]\n",
    "\n",
    "import numpy as np\n",
    "from scipy.stats import f_oneway\n",
    "\n",
    "all_data = [np.array(Group_A),np.array(Group_B)]\n",
    "f_value,p_value = f_oneway(*all_data)\n",
    "if p_value < 0.01:\n",
    "    print(\"The variences are significantly different.\")\n",
    "else:\n",
    "    print(\"The variences has no difference.\")"
   ]
  },
  {
   "cell_type": "code",
   "execution_count": null,
   "id": "0dbafbfc-b678-4941-bf62-63f017d5c98f",
   "metadata": {},
   "outputs": [],
   "source": []
  }
 ],
 "metadata": {
  "kernelspec": {
   "display_name": "Python 3 (ipykernel)",
   "language": "python",
   "name": "python3"
  },
  "language_info": {
   "codemirror_mode": {
    "name": "ipython",
    "version": 3
   },
   "file_extension": ".py",
   "mimetype": "text/x-python",
   "name": "python",
   "nbconvert_exporter": "python",
   "pygments_lexer": "ipython3",
   "version": "3.10.8"
  }
 },
 "nbformat": 4,
 "nbformat_minor": 5
}
