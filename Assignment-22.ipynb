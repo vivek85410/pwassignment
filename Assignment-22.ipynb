{
 "cells": [
  {
   "cell_type": "code",
   "execution_count": 7,
   "id": "a861d2ec-e894-4bff-a18a-d142dbd5716e",
   "metadata": {},
   "outputs": [],
   "source": [
    "#                                                                     ques-1"
   ]
  },
  {
   "cell_type": "code",
   "execution_count": 8,
   "id": "58a7b4fd-2044-4b27-a88e-b676a8ae3beb",
   "metadata": {},
   "outputs": [
    {
     "data": {
      "text/plain": [
       "numpy.ndarray"
      ]
     },
     "execution_count": 8,
     "metadata": {},
     "output_type": "execute_result"
    }
   ],
   "source": [
    "import numpy as np\n",
    "list_ = [ '1' , '2' , '3' , '4' , '5' ]\n",
    "array_list = np.array(object = list_)\n",
    "type(array_list)"
   ]
  },
  {
   "cell_type": "code",
   "execution_count": 9,
   "id": "44fe2f0a-bb67-473d-ac31-8f768ed39b8b",
   "metadata": {},
   "outputs": [
    {
     "data": {
      "text/plain": [
       "list"
      ]
     },
     "execution_count": 9,
     "metadata": {},
     "output_type": "execute_result"
    }
   ],
   "source": [
    "type(list_)"
   ]
  },
  {
   "cell_type": "code",
   "execution_count": null,
   "id": "67cf5c55-0470-4126-9d7e-db4772b387dc",
   "metadata": {},
   "outputs": [],
   "source": [
    "\"\"\" So ,yes there is difference between the data type of both the variables.\n",
    "    the (list_) variable has a data type of list and the (array_list) variable has a datatype of ndarray means n dimension array \n",
    "    which is one dimension at this point.\"\"\""
   ]
  },
  {
   "cell_type": "code",
   "execution_count": 10,
   "id": "a9d1dc9e-55dc-45ea-82ee-7b2f082c6505",
   "metadata": {},
   "outputs": [],
   "source": [
    "#                                                                      ques-2"
   ]
  },
  {
   "cell_type": "code",
   "execution_count": 27,
   "id": "cc22fdf9-831b-4d30-a52d-980eea10b124",
   "metadata": {},
   "outputs": [
    {
     "name": "stdout",
     "output_type": "stream",
     "text": [
      "<class 'str'>\n",
      "<class 'str'>\n",
      "<class 'str'>\n",
      "<class 'str'>\n",
      "<class 'str'>\n"
     ]
    }
   ],
   "source": [
    "for i in list_:\n",
    "    print(type(i))"
   ]
  },
  {
   "cell_type": "code",
   "execution_count": 25,
   "id": "6e22dc2c-26a2-4912-9e76-c02e8961d350",
   "metadata": {},
   "outputs": [
    {
     "name": "stdout",
     "output_type": "stream",
     "text": [
      "<class 'numpy.str_'>\n",
      "<class 'numpy.str_'>\n",
      "<class 'numpy.str_'>\n",
      "<class 'numpy.str_'>\n",
      "<class 'numpy.str_'>\n"
     ]
    }
   ],
   "source": [
    "for i in array_list:\n",
    "    print(type(i))"
   ]
  },
  {
   "cell_type": "code",
   "execution_count": null,
   "id": "ee4c2331-0111-4d5e-bafa-a6d713571bff",
   "metadata": {},
   "outputs": [],
   "source": [
    "#                                                                        ques-3    "
   ]
  },
  {
   "cell_type": "code",
   "execution_count": 28,
   "id": "f32ad8c3-462b-43d6-9428-d5e69ac57443",
   "metadata": {},
   "outputs": [],
   "source": [
    "array_list = np.array(object = list_, dtype = int)\n",
    "\"\"\" Yes, there will be difference in datatype of array_list but not in list_ variable because we are changing the \n",
    "    datatype of array_list from string to integer but not in list_ variable so the datatype of list_ variable will \n",
    "    remain same as string.\"\"\""
   ]
  },
  {
   "cell_type": "code",
   "execution_count": 29,
   "id": "5af32a09-eff4-4fc2-b67c-14d94bce927e",
   "metadata": {},
   "outputs": [
    {
     "data": {
      "text/plain": [
       "array([1, 2, 3, 4, 5])"
      ]
     },
     "execution_count": 29,
     "metadata": {},
     "output_type": "execute_result"
    }
   ],
   "source": [
    "array_list"
   ]
  },
  {
   "cell_type": "code",
   "execution_count": 31,
   "id": "be92761e-abcd-4234-9d28-e8a9e65bc314",
   "metadata": {},
   "outputs": [
    {
     "name": "stdout",
     "output_type": "stream",
     "text": [
      "<class 'numpy.int64'>\n",
      "<class 'numpy.int64'>\n",
      "<class 'numpy.int64'>\n",
      "<class 'numpy.int64'>\n",
      "<class 'numpy.int64'>\n"
     ]
    }
   ],
   "source": [
    "for i in array_list:\n",
    "    print(type(i))"
   ]
  },
  {
   "cell_type": "code",
   "execution_count": 32,
   "id": "96e6e7c4-8132-4db1-9233-6699528280ea",
   "metadata": {},
   "outputs": [
    {
     "name": "stdout",
     "output_type": "stream",
     "text": [
      "<class 'str'>\n",
      "<class 'str'>\n",
      "<class 'str'>\n",
      "<class 'str'>\n",
      "<class 'str'>\n"
     ]
    }
   ],
   "source": [
    "for i in list_:\n",
    "    print(type(i))"
   ]
  },
  {
   "cell_type": "code",
   "execution_count": null,
   "id": "64ac8d13-f33f-4af2-a581-8abbe30b916f",
   "metadata": {},
   "outputs": [],
   "source": [
    "#                                                                       ques-4"
   ]
  },
  {
   "cell_type": "code",
   "execution_count": 33,
   "id": "cbe8e0d4-5435-4c10-af69-184f9de72398",
   "metadata": {},
   "outputs": [
    {
     "data": {
      "text/plain": [
       "(2, 3)"
      ]
     },
     "execution_count": 33,
     "metadata": {},
     "output_type": "execute_result"
    }
   ],
   "source": [
    "num_list = [ [ 1 , 2 , 3 ] , [ 4 , 5 , 6 ] ]\n",
    "num_array = np.array(object = num_list)\n",
    "num_array.shape"
   ]
  },
  {
   "cell_type": "code",
   "execution_count": 34,
   "id": "23ab0f96-9c64-42eb-a535-e76cd29a74c5",
   "metadata": {},
   "outputs": [
    {
     "data": {
      "text/plain": [
       "6"
      ]
     },
     "execution_count": 34,
     "metadata": {},
     "output_type": "execute_result"
    }
   ],
   "source": [
    "num_array.size"
   ]
  },
  {
   "cell_type": "code",
   "execution_count": 35,
   "id": "4d4d9d24-8b0a-485c-ad50-7161ab9d9b26",
   "metadata": {},
   "outputs": [],
   "source": [
    "#                                                                       ques-5"
   ]
  },
  {
   "cell_type": "code",
   "execution_count": 40,
   "id": "b8fce0e8-5d05-4404-b01e-3f958945c74b",
   "metadata": {},
   "outputs": [
    {
     "data": {
      "text/plain": [
       "array([[0., 0., 0.],\n",
       "       [0., 0., 0.],\n",
       "       [0., 0., 0.]])"
      ]
     },
     "execution_count": 40,
     "metadata": {},
     "output_type": "execute_result"
    }
   ],
   "source": [
    "new_array = np.zeros((3,3))\n",
    "new_array"
   ]
  },
  {
   "cell_type": "code",
   "execution_count": null,
   "id": "78b494e9-4168-4171-a1f4-837d1ea72c9d",
   "metadata": {},
   "outputs": [],
   "source": [
    "#                                                                       ques-6"
   ]
  },
  {
   "cell_type": "code",
   "execution_count": 50,
   "id": "ad6db941-ed05-4d66-bc86-0eee1a385617",
   "metadata": {},
   "outputs": [
    {
     "data": {
      "text/plain": [
       "array([[1, 0, 0, 0, 0],\n",
       "       [0, 1, 0, 0, 0],\n",
       "       [0, 0, 1, 0, 0],\n",
       "       [0, 0, 0, 1, 0],\n",
       "       [0, 0, 0, 0, 1]])"
      ]
     },
     "execution_count": 50,
     "metadata": {},
     "output_type": "execute_result"
    }
   ],
   "source": [
    "diag_matrix = np.diag([1,1,1,1,1,])\n",
    "diag_matrix"
   ]
  }
 ],
 "metadata": {
  "kernelspec": {
   "display_name": "Python 3 (ipykernel)",
   "language": "python",
   "name": "python3"
  },
  "language_info": {
   "codemirror_mode": {
    "name": "ipython",
    "version": 3
   },
   "file_extension": ".py",
   "mimetype": "text/x-python",
   "name": "python",
   "nbconvert_exporter": "python",
   "pygments_lexer": "ipython3",
   "version": "3.10.8"
  }
 },
 "nbformat": 4,
 "nbformat_minor": 5
}
