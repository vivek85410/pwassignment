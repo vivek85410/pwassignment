{
 "cells": [
  {
   "cell_type": "code",
   "execution_count": null,
   "id": "1d877114-9874-4570-8b52-db1e4a7933db",
   "metadata": {},
   "outputs": [],
   "source": [
    "#                                                                      ques - 1"
   ]
  },
  {
   "cell_type": "code",
   "execution_count": null,
   "id": "1d005664-a57f-48b2-a495-94231ccd8f75",
   "metadata": {},
   "outputs": [],
   "source": [
    "\"\"\" Exception in python are the error that arise during the execution of the program and disrupt the normal flow of the program. \n",
    "    the Errors and exceptions are both runtime problems but the difference between them is that error is the problem due to which the\n",
    "    program stops execution but the exception arise when some internal events occurs that change the normal flow of the program.\"\"\""
   ]
  },
  {
   "cell_type": "code",
   "execution_count": null,
   "id": "27b482cf-bcb7-463f-a62d-6f4dc961e98c",
   "metadata": {},
   "outputs": [],
   "source": [
    "#                                                                      ques - 2"
   ]
  },
  {
   "cell_type": "code",
   "execution_count": 3,
   "id": "6b28ee50-3c5d-4b42-b4b7-10bea865c211",
   "metadata": {},
   "outputs": [
    {
     "name": "stdout",
     "output_type": "stream",
     "text": [
      "32.0\n",
      "451\n"
     ]
    },
    {
     "ename": "AssertionError",
     "evalue": "Colder than absolute zero!",
     "output_type": "error",
     "traceback": [
      "\u001b[0;31m---------------------------------------------------------------------------\u001b[0m",
      "\u001b[0;31mAssertionError\u001b[0m                            Traceback (most recent call last)",
      "Cell \u001b[0;32mIn[3], line 8\u001b[0m\n\u001b[1;32m      6\u001b[0m \u001b[38;5;28mprint\u001b[39m (KelvinToFahrenheit(\u001b[38;5;241m273\u001b[39m))\n\u001b[1;32m      7\u001b[0m \u001b[38;5;28mprint\u001b[39m (\u001b[38;5;28mint\u001b[39m(KelvinToFahrenheit(\u001b[38;5;241m505.78\u001b[39m)))\n\u001b[0;32m----> 8\u001b[0m \u001b[38;5;28mprint\u001b[39m (\u001b[43mKelvinToFahrenheit\u001b[49m\u001b[43m(\u001b[49m\u001b[38;5;241;43m-\u001b[39;49m\u001b[38;5;241;43m5\u001b[39;49m\u001b[43m)\u001b[49m)\n",
      "Cell \u001b[0;32mIn[3], line 4\u001b[0m, in \u001b[0;36mKelvinToFahrenheit\u001b[0;34m(Temperature)\u001b[0m\n\u001b[1;32m      3\u001b[0m \u001b[38;5;28;01mdef\u001b[39;00m \u001b[38;5;21mKelvinToFahrenheit\u001b[39m(Temperature):\n\u001b[0;32m----> 4\u001b[0m     \u001b[38;5;28;01massert\u001b[39;00m (Temperature \u001b[38;5;241m>\u001b[39m\u001b[38;5;241m=\u001b[39m \u001b[38;5;241m0\u001b[39m),\u001b[38;5;124m\"\u001b[39m\u001b[38;5;124mColder than absolute zero!\u001b[39m\u001b[38;5;124m\"\u001b[39m\n\u001b[1;32m      5\u001b[0m     \u001b[38;5;28;01mreturn\u001b[39;00m ((Temperature\u001b[38;5;241m-\u001b[39m\u001b[38;5;241m273\u001b[39m)\u001b[38;5;241m*\u001b[39m\u001b[38;5;241m1.8\u001b[39m)\u001b[38;5;241m+\u001b[39m\u001b[38;5;241m32\u001b[39m\n",
      "\u001b[0;31mAssertionError\u001b[0m: Colder than absolute zero!"
     ]
    }
   ],
   "source": [
    "\"\"\" when we do not handle the exception , then our code will stop at that exception line and donot execute that program. \"\"\"\n",
    "\n",
    "def KelvinToFahrenheit(Temperature):\n",
    "    assert (Temperature >= 0),\"Colder than absolute zero!\"\n",
    "    return ((Temperature-273)*1.8)+32\n",
    "print (KelvinToFahrenheit(273))\n",
    "print (int(KelvinToFahrenheit(505.78)))\n",
    "print (KelvinToFahrenheit(-5))"
   ]
  },
  {
   "cell_type": "code",
   "execution_count": null,
   "id": "e3ba6f6a-492d-48ca-9256-6e166ea0eff7",
   "metadata": {},
   "outputs": [],
   "source": [
    "#                                                                       ques - 3"
   ]
  },
  {
   "cell_type": "code",
   "execution_count": 5,
   "id": "c569abb8-c65a-4ba5-9737-0d317f52c016",
   "metadata": {},
   "outputs": [
    {
     "name": "stdout",
     "output_type": "stream",
     "text": [
      "Error: Denominator cannot be 0.\n"
     ]
    }
   ],
   "source": [
    "\"\"\" To catch and handle the exceptions there is (Try and Except) block. here except block catches the exceptions and handled.\"\"\"\n",
    "try:\n",
    "    num = 10\n",
    "    den = 0\n",
    "\n",
    "    result = num/den\n",
    "\n",
    "    print(result)\n",
    "except:\n",
    "    print(\"Error: Denominator cannot be 0.\")\n"
   ]
  },
  {
   "cell_type": "code",
   "execution_count": null,
   "id": "3ab892df-779d-4beb-b1d9-c1bb2d12bd2b",
   "metadata": {},
   "outputs": [],
   "source": [
    "#                                                                      ques - 4"
   ]
  },
  {
   "cell_type": "code",
   "execution_count": null,
   "id": "ce1e42f2-eb87-42a8-b7b6-156a86d28a57",
   "metadata": {},
   "outputs": [],
   "source": [
    "\"\"\" Try : try statement is the keyword(block) in which all the code in which somw exception can be arised is kept so that it can be handled.\n",
    "    Else : else is the statement(block) that executes when the try block runs correctly which means no any exception arise in the program. \n",
    "    \n",
    "    Finally : finally is the keyword(block) that executes in both the situation either there is a exception or not. there will be no effect \n",
    "    of exception in the finally block.\n",
    "    \n",
    "    Raise : raise is the keyword that is used in custom exception handelling to raise the message if the exception arrises.\n",
    "\"\"\""
   ]
  },
  {
   "cell_type": "code",
   "execution_count": null,
   "id": "8d797241-af43-4c71-ba63-f52ab985d72b",
   "metadata": {},
   "outputs": [],
   "source": [
    "#                                                                      ques - 5"
   ]
  },
  {
   "cell_type": "code",
   "execution_count": 8,
   "id": "566edf25-9bb9-4a9d-b7b4-1a893f97ead6",
   "metadata": {},
   "outputs": [
    {
     "name": "stdout",
     "output_type": "stream",
     "text": [
      "this is the custom exception error :  6\n"
     ]
    }
   ],
   "source": [
    "\"\"\" custom exceptions in python are the types of exceptions that are made by the user as per their need. and to make it, we generally make \n",
    "    a class for that custom exception and through the hirarchy(exception inheritance calling) we call the exception and manage the excetion \n",
    "    and raise the message through raise keyword.\n",
    "    we use this because there are some of the logical exception that arises acoording the program input or output and to manage that we use\n",
    "    custom exception handling. \"\"\"\n",
    "class MyError(Exception):\n",
    " \n",
    "    def __init__(self, value):\n",
    "        self.value = value\n",
    " \n",
    "    def __str__(self):\n",
    "        return(self.value)\n",
    " \n",
    " \n",
    "try:\n",
    "    raise(MyError(3*2))\n",
    "    \n",
    "except MyError as e:\n",
    "    print('this is the custom exception error : ', e.value)"
   ]
  },
  {
   "cell_type": "code",
   "execution_count": null,
   "id": "3e25426e-4258-4cf2-a10f-7c14ada3983e",
   "metadata": {},
   "outputs": [],
   "source": [
    "#                                                                     ques - 6"
   ]
  },
  {
   "cell_type": "code",
   "execution_count": 10,
   "id": "8d80901f-6209-4646-bbb2-e846223c706b",
   "metadata": {},
   "outputs": [
    {
     "name": "stdin",
     "output_type": "stream",
     "text": [
      "Enter a number:  0\n"
     ]
    },
    {
     "name": "stdout",
     "output_type": "stream",
     "text": [
      "Input value is zero, try again!\n",
      "\n"
     ]
    }
   ],
   "source": [
    "class Error(Exception):\n",
    "    pass\n",
    " \n",
    "class zerodivision(Error):\n",
    "    pass\n",
    " \n",
    "try:\n",
    "    i_num = int(input(\"Enter a number: \"))\n",
    "    if i_num == 0:\n",
    "        raise zerodivision\n",
    "except zerodivision:\n",
    "    print(\"Input value is zero, try again!\")\n",
    "    print()"
   ]
  },
  {
   "cell_type": "code",
   "execution_count": null,
   "id": "c7c2104e-a02c-4c3a-b27e-589fe0c960bb",
   "metadata": {},
   "outputs": [],
   "source": []
  }
 ],
 "metadata": {
  "kernelspec": {
   "display_name": "Python 3 (ipykernel)",
   "language": "python",
   "name": "python3"
  },
  "language_info": {
   "codemirror_mode": {
    "name": "ipython",
    "version": 3
   },
   "file_extension": ".py",
   "mimetype": "text/x-python",
   "name": "python",
   "nbconvert_exporter": "python",
   "pygments_lexer": "ipython3",
   "version": "3.10.8"
  }
 },
 "nbformat": 4,
 "nbformat_minor": 5
}
