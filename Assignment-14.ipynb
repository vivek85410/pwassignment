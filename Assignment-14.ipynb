{
 "cells": [
  {
   "cell_type": "code",
   "execution_count": null,
   "id": "5a64a53c-eed5-4568-9fd8-72d7d5e9fc0b",
   "metadata": {},
   "outputs": [],
   "source": [
    "#                                                                    ques - 1"
   ]
  },
  {
   "cell_type": "code",
   "execution_count": null,
   "id": "88a9ca30-7075-463f-b340-619ce9a5164b",
   "metadata": {},
   "outputs": [],
   "source": [
    "\"\"\" An API is a communication interface that allows two separate software components to share data. An API operates as a bridge\n",
    "    between internal and external software operations, allowing for a fluid interchange of data that frequently passes undetected \n",
    "    by the end-user. \n",
    "    \n",
    "    foe example we almost daily use the API like login system , online transaction apps, and many more APIs through we connect to the server\n",
    "    also it handles the security issues.\n",
    "    \n",
    "    In real life, we use APIs in online transcation apps like paytm, phone pay,google pay all these are connected though our bank servers\n",
    "    not directly, only through the APIs , also we use search engine that's also  uses the APIs to search the data from the server , and many \n",
    "    more applications we use in our real life as APIs.\"\"\"\n"
   ]
  },
  {
   "cell_type": "code",
   "execution_count": null,
   "id": "9af2607e-3986-4684-98c2-595ed2e45bc3",
   "metadata": {},
   "outputs": [],
   "source": [
    "#                                                                    ques - 2"
   ]
  },
  {
   "cell_type": "code",
   "execution_count": null,
   "id": "a0b78804-ecac-4b04-a97b-0a90a303d5e6",
   "metadata": {},
   "outputs": [],
   "source": [
    " \"\"\" Advantage of API : \n",
    " \n",
    " 1. Increased efficiency: APIs allow different software systems to communicate and share data with each other, which can save time and resources.\n",
    " \n",
    " 2. Greater flexibility: By using APIs, developers can build new features and applications without having to start from scratch, which allows for \n",
    "    greater innovation and faster development.\n",
    "    \n",
    "3.  Easier integration: APIs make it easy for different systems to be integrated and work together, which can improve overall functionality.\n",
    "\n",
    "4.  Increased accessibility: APIs can make it easier for third-party developers to access and use a company's data or services, which can lead\n",
    "    to new opportunities and revenue streams.\n",
    "    \n",
    "    Disadvantage of API : \n",
    "    \n",
    "1.  Security risks: APIs can be vulnerable to hacking and other security breaches, which can expose sensitive information.\n",
    "\n",
    "2.  Dependency: If the API provider goes out of business or shuts down the API, it can be difficult for users to find an alternative solution.\n",
    "\n",
    "3.  Limited access: Some APIs may have usage limits or access restrictions, which can be frustrating for developers and users.\n",
    "\n",
    "4.  Complexity: APIs can be complex to use and implement, which can be a barrier for some developers.\n",
    "\n",
    "\"\"\""
   ]
  },
  {
   "cell_type": "code",
   "execution_count": null,
   "id": "05d69e8c-5021-424e-869e-ee8ac37713b3",
   "metadata": {},
   "outputs": [],
   "source": [
    "#                                                                  ques - 3"
   ]
  },
  {
   "cell_type": "code",
   "execution_count": null,
   "id": "4e6d3b0b-79d0-4666-ae25-fd949e14aa9c",
   "metadata": {},
   "outputs": [],
   "source": [
    "\"\"\" Web API is an API as the name suggests, it can be accessed over the web using the HTTP protocol. It is a framework that helps you to create\n",
    "    and develop HTTP based RESTFUL services.\n",
    "    \n",
    "    API is a broad term that encompasses all types of interfaces used by software components to interact with each other.\n",
    "    it is also not limited to web access as it can also be used for o.s ,and for database and many more offline softwares\n",
    "    but in case of web APIs it is only accessible through the web or it is accessible through HTTP protocol.\n",
    "    \n",
    "\"\"\""
   ]
  },
  {
   "cell_type": "code",
   "execution_count": 3,
   "id": "1f8ed4d6-7f14-4ed3-911e-f20f77f74dee",
   "metadata": {},
   "outputs": [],
   "source": [
    "#                                                                 ques - 4"
   ]
  },
  {
   "cell_type": "code",
   "execution_count": null,
   "id": "7cf99bb2-feac-4d8c-80d1-4600accd13e4",
   "metadata": {},
   "outputs": [],
   "source": [
    "\"\"\" REST : REST(Representational state transfer) is a software architectural style that defines the set of rules to be used for creating web services. \n",
    "    Web services which follow the REST architectural style are known as RESTful web services. It allows requesting systems to access and manipulate \n",
    "    web resources by using a uniform and predefined set of rules. Interaction in REST based systems happen through Internet’s Hypertext\n",
    "    Transfer Protocol (HTTP). \n",
    "     \n",
    "    SOAP : SOAP is a lightweight protocol used to create web APIs, usually with Extensible Markup Language (XML). It supports a wide range of communication \n",
    "           protocols across the internet, HTTP, Simple Mail Transfer Protocol (SMTP) and Transmission Control Protocol. The SOAP Envelope encapsulates\n",
    "           all the data in a message and identifies the XML document as a SOAP message.\n",
    "\"\"\""
   ]
  },
  {
   "cell_type": "code",
   "execution_count": 4,
   "id": "fea6930a-4409-4b14-91c8-cf9f6ceb93c2",
   "metadata": {},
   "outputs": [],
   "source": [
    "#                                                                 ques - 5"
   ]
  },
  {
   "cell_type": "code",
   "execution_count": null,
   "id": "33d43595-cdeb-4790-a0c7-7cc56b5ecd54",
   "metadata": {},
   "outputs": [],
   "source": [
    "\"\"\" shortcommings of SOAP api : \n",
    "\n",
    "1.  Less performant: SOAP messages can be quite large due to their verbose XML-based structure, which can lead to greater bandwidth usage\n",
    "    and slower performance.\n",
    "    \n",
    "2.  Complex: SOAP can introduce complexity into a system due to its strongly typed and extensible nature. \n",
    "\n",
    "3.  Less intuitive: SOAP is centered around actions and methods, which many find less intuitive than REST’s resource-based approach."
   ]
  },
  {
   "cell_type": "code",
   "execution_count": null,
   "id": "d56818f1-996c-40c6-86d2-4beb0d3aa67e",
   "metadata": {},
   "outputs": [],
   "source": [
    "#                                                                 ques - 6"
   ]
  },
  {
   "cell_type": "code",
   "execution_count": null,
   "id": "3e5cc194-9d79-4eea-99ef-ade6b1dad894",
   "metadata": {},
   "outputs": [],
   "source": [
    "\"\"\"  difference between SOAP and REST \n",
    "\n",
    "1. The SOAP approach is highly structured and uses XML data format               1.REST Generally transports data in JSON. It is based on URI. Because REST \n",
    "2. Because it is XML based and relies on SOAP, it works with WSDL                   follows stateless model, REST does not enforces message format as XML\n",
    "3. Works over HTTP, HTTPS, SMTP, XMPP                                               or JSON etc.\n",
    "4. Highly structured/typed                                                       2. It works with GET, POST, PUT, DELETE\n",
    "5. Designed with large enterprise applications in mind                           3.Works over HTTP and HTTPS\n",
    "                                                                                 4. Less structured -> less bulky data\n",
    "                                                                                 5. Designed with mobile devices in mind"
   ]
  }
 ],
 "metadata": {
  "kernelspec": {
   "display_name": "Python 3 (ipykernel)",
   "language": "python",
   "name": "python3"
  },
  "language_info": {
   "codemirror_mode": {
    "name": "ipython",
    "version": 3
   },
   "file_extension": ".py",
   "mimetype": "text/x-python",
   "name": "python",
   "nbconvert_exporter": "python",
   "pygments_lexer": "ipython3",
   "version": "3.10.8"
  }
 },
 "nbformat": 4,
 "nbformat_minor": 5
}
