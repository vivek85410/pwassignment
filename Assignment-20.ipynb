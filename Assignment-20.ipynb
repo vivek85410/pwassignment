{
 "cells": [
  {
   "cell_type": "code",
   "execution_count": 1,
   "id": "95957dd1-0f05-405f-85aa-fcf198b13822",
   "metadata": {},
   "outputs": [],
   "source": [
    "#                                                         ques - 1"
   ]
  },
  {
   "cell_type": "code",
   "execution_count": null,
   "id": "6da9af8a-56b1-4d2e-9662-d42527a553d6",
   "metadata": {},
   "outputs": [],
   "source": [
    "\"\"\" there are many functions in pandas library. here 5 of them are following :\n",
    "    1. read_csv() : It is a function included in pandas library through which we can read csv files whose values are seperated by \n",
    "                    comma's. also there are many other files reading functions like html file,excel files,or files from internet\n",
    "                    through links.\n",
    "    \n",
    "    2. fillna() : It is a function through which we can fill the missing values of the DataFrame.\n",
    "    \n",
    "    3. describe() : It is a function that shows some statical values which is calculated from the DataFrame or series. it consist of \n",
    "                    mean value, max , min , count,etc.\n",
    "                    \n",
    "    4. Rename() : This function is used to change any index,column or rows.\n",
    "    \n",
    "    5. drop() : this function is used to drop rows/columns from the DataFrame.\n",
    "\"\"\""
   ]
  },
  {
   "cell_type": "code",
   "execution_count": 3,
   "id": "f34292c8-01ae-4e34-9390-30044026284d",
   "metadata": {},
   "outputs": [],
   "source": [
    "#                                                         ques - 2"
   ]
  },
  {
   "cell_type": "code",
   "execution_count": 4,
   "id": "c6930d69-57f5-423b-9d4b-b32bd2ddd34a",
   "metadata": {},
   "outputs": [
    {
     "name": "stdout",
     "output_type": "stream",
     "text": [
      "Requirement already satisfied: pandas in /opt/conda/lib/python3.10/site-packages (1.5.2)\n",
      "Requirement already satisfied: python-dateutil>=2.8.1 in /opt/conda/lib/python3.10/site-packages (from pandas) (2.8.2)\n",
      "Requirement already satisfied: pytz>=2020.1 in /opt/conda/lib/python3.10/site-packages (from pandas) (2022.6)\n",
      "Requirement already satisfied: numpy>=1.21.0 in /opt/conda/lib/python3.10/site-packages (from pandas) (1.23.5)\n",
      "Requirement already satisfied: six>=1.5 in /opt/conda/lib/python3.10/site-packages (from python-dateutil>=2.8.1->pandas) (1.16.0)\n",
      "Note: you may need to restart the kernel to use updated packages.\n"
     ]
    }
   ],
   "source": [
    "pip install pandas"
   ]
  },
  {
   "cell_type": "code",
   "execution_count": 42,
   "id": "1bc2e8e2-6f60-455c-a441-3312a69398c0",
   "metadata": {},
   "outputs": [
    {
     "data": {
      "text/html": [
       "<div>\n",
       "<style scoped>\n",
       "    .dataframe tbody tr th:only-of-type {\n",
       "        vertical-align: middle;\n",
       "    }\n",
       "\n",
       "    .dataframe tbody tr th {\n",
       "        vertical-align: top;\n",
       "    }\n",
       "\n",
       "    .dataframe thead th {\n",
       "        text-align: right;\n",
       "    }\n",
       "</style>\n",
       "<table border=\"1\" class=\"dataframe\">\n",
       "  <thead>\n",
       "    <tr style=\"text-align: right;\">\n",
       "      <th></th>\n",
       "      <th>A</th>\n",
       "      <th>B</th>\n",
       "      <th>C</th>\n",
       "      <th>new Index</th>\n",
       "    </tr>\n",
       "  </thead>\n",
       "  <tbody>\n",
       "    <tr>\n",
       "      <th>0</th>\n",
       "      <td>1</td>\n",
       "      <td>5</td>\n",
       "      <td>2</td>\n",
       "      <td>1</td>\n",
       "    </tr>\n",
       "    <tr>\n",
       "      <th>1</th>\n",
       "      <td>2</td>\n",
       "      <td>4</td>\n",
       "      <td>4</td>\n",
       "      <td>3</td>\n",
       "    </tr>\n",
       "    <tr>\n",
       "      <th>2</th>\n",
       "      <td>3</td>\n",
       "      <td>3</td>\n",
       "      <td>6</td>\n",
       "      <td>5</td>\n",
       "    </tr>\n",
       "    <tr>\n",
       "      <th>3</th>\n",
       "      <td>4</td>\n",
       "      <td>2</td>\n",
       "      <td>8</td>\n",
       "      <td>7</td>\n",
       "    </tr>\n",
       "    <tr>\n",
       "      <th>4</th>\n",
       "      <td>5</td>\n",
       "      <td>1</td>\n",
       "      <td>10</td>\n",
       "      <td>9</td>\n",
       "    </tr>\n",
       "  </tbody>\n",
       "</table>\n",
       "</div>"
      ],
      "text/plain": [
       "   A  B   C  new Index\n",
       "0  1  5   2          1\n",
       "1  2  4   4          3\n",
       "2  3  3   6          5\n",
       "3  4  2   8          7\n",
       "4  5  1  10          9"
      ]
     },
     "execution_count": 42,
     "metadata": {},
     "output_type": "execute_result"
    }
   ],
   "source": [
    "import pandas as pd\n",
    "def renew_index():\n",
    "    df = pd.DataFrame({'A':[1,2,3,4,5],'B':[5,4,3,2,1],'C':[2,4,6,8,10]})\n",
    "    df['new Index'] = [ x for x in range(1 , len(df)+5,2)]\n",
    "    return df\n",
    "\n",
    "renew_index()"
   ]
  },
  {
   "cell_type": "code",
   "execution_count": 9,
   "id": "34a06d76-709e-4d85-b387-6ac896bfd330",
   "metadata": {},
   "outputs": [],
   "source": [
    "#                                                         ques - 3"
   ]
  },
  {
   "cell_type": "code",
   "execution_count": 43,
   "id": "68d4e924-fd92-4d12-a678-a57d8560a4c2",
   "metadata": {},
   "outputs": [
    {
     "name": "stdout",
     "output_type": "stream",
     "text": [
      "the sum of first 3 values are : values    8\n",
      "dtype: int64\n"
     ]
    }
   ],
   "source": [
    "def sum_values():\n",
    "    df2 = pd.DataFrame({'values':[1,3,4,5,6,7]})\n",
    "    df2\n",
    "    print(\"the sum of first 3 values are :\",df2.head(3).sum())\n",
    "    \n",
    "sum_values()"
   ]
  },
  {
   "cell_type": "code",
   "execution_count": 12,
   "id": "a2778b24-0e61-4c07-8f3e-c9ac72b25bb1",
   "metadata": {},
   "outputs": [],
   "source": [
    "#                                                         ques - 4"
   ]
  },
  {
   "cell_type": "code",
   "execution_count": 47,
   "id": "3c7bf8a2-2781-43b1-be54-aa7fbcc9c762",
   "metadata": {},
   "outputs": [
    {
     "data": {
      "text/html": [
       "<div>\n",
       "<style scoped>\n",
       "    .dataframe tbody tr th:only-of-type {\n",
       "        vertical-align: middle;\n",
       "    }\n",
       "\n",
       "    .dataframe tbody tr th {\n",
       "        vertical-align: top;\n",
       "    }\n",
       "\n",
       "    .dataframe thead th {\n",
       "        text-align: right;\n",
       "    }\n",
       "</style>\n",
       "<table border=\"1\" class=\"dataframe\">\n",
       "  <thead>\n",
       "    <tr style=\"text-align: right;\">\n",
       "      <th></th>\n",
       "      <th>Text</th>\n",
       "      <th>Word_count</th>\n",
       "    </tr>\n",
       "  </thead>\n",
       "  <tbody>\n",
       "    <tr>\n",
       "      <th>0</th>\n",
       "      <td>Ram raju</td>\n",
       "      <td>2</td>\n",
       "    </tr>\n",
       "    <tr>\n",
       "      <th>1</th>\n",
       "      <td>shyam</td>\n",
       "      <td>1</td>\n",
       "    </tr>\n",
       "    <tr>\n",
       "      <th>2</th>\n",
       "      <td>mohan</td>\n",
       "      <td>1</td>\n",
       "    </tr>\n",
       "    <tr>\n",
       "      <th>3</th>\n",
       "      <td>radha</td>\n",
       "      <td>1</td>\n",
       "    </tr>\n",
       "    <tr>\n",
       "      <th>4</th>\n",
       "      <td>Krishna</td>\n",
       "      <td>1</td>\n",
       "    </tr>\n",
       "  </tbody>\n",
       "</table>\n",
       "</div>"
      ],
      "text/plain": [
       "       Text  Word_count\n",
       "0  Ram raju           2\n",
       "1     shyam           1\n",
       "2     mohan           1\n",
       "3     radha           1\n",
       "4   Krishna           1"
      ]
     },
     "execution_count": 47,
     "metadata": {},
     "output_type": "execute_result"
    }
   ],
   "source": [
    "def word_count():\n",
    "    df3 = pd.DataFrame({'Text':['Ram raju','shyam','mohan','radha','Krishna']})\n",
    "    df3['Word_count'] = [len(x.split()) for x in df3['Text'].tolist()]\n",
    "    return df3\n",
    "    \n",
    "word_count()"
   ]
  },
  {
   "cell_type": "code",
   "execution_count": 17,
   "id": "08e46cee-e040-4edb-946a-b006014bd4ea",
   "metadata": {},
   "outputs": [],
   "source": [
    "#                                                         ques - 5"
   ]
  },
  {
   "cell_type": "code",
   "execution_count": null,
   "id": "18db1fef-8834-4b11-b738-141729b705a1",
   "metadata": {},
   "outputs": [],
   "source": [
    "\"\"\" the DataFrame.size() functions returns the no of elements present in (rows) X (columns) in case of Dataframe and no of\n",
    "    rows elements in case of series.\n",
    "    \n",
    "    the DataFrame.shape() function returns the dimensions of the dataframe which is (rows,columns).\n",
    "\"\"\""
   ]
  },
  {
   "cell_type": "code",
   "execution_count": null,
   "id": "c4b0e688-446c-4030-9c5b-37b707aba432",
   "metadata": {},
   "outputs": [],
   "source": [
    "#                                                         ques - 6"
   ]
  },
  {
   "cell_type": "code",
   "execution_count": null,
   "id": "137330c4-ddd1-454a-80e9-c0adc73eb794",
   "metadata": {},
   "outputs": [],
   "source": [
    "# To read the excel file in pandas, we use the read_excel() function."
   ]
  },
  {
   "cell_type": "code",
   "execution_count": null,
   "id": "ac5486c1-8c30-49e6-b37b-29c48ff49ff2",
   "metadata": {},
   "outputs": [],
   "source": [
    "#                                                         ques - 7"
   ]
  },
  {
   "cell_type": "code",
   "execution_count": 39,
   "id": "137f828e-382c-470c-8b36-ba0d4aa36cb1",
   "metadata": {},
   "outputs": [
    {
     "data": {
      "text/html": [
       "<div>\n",
       "<style scoped>\n",
       "    .dataframe tbody tr th:only-of-type {\n",
       "        vertical-align: middle;\n",
       "    }\n",
       "\n",
       "    .dataframe tbody tr th {\n",
       "        vertical-align: top;\n",
       "    }\n",
       "\n",
       "    .dataframe thead th {\n",
       "        text-align: right;\n",
       "    }\n",
       "</style>\n",
       "<table border=\"1\" class=\"dataframe\">\n",
       "  <thead>\n",
       "    <tr style=\"text-align: right;\">\n",
       "      <th></th>\n",
       "      <th>Email</th>\n",
       "      <th>username</th>\n",
       "    </tr>\n",
       "  </thead>\n",
       "  <tbody>\n",
       "    <tr>\n",
       "      <th>0</th>\n",
       "      <td>viivekkumarsharma@gmail.com</td>\n",
       "      <td>viivekkumarsharma</td>\n",
       "    </tr>\n",
       "    <tr>\n",
       "      <th>1</th>\n",
       "      <td>siinghvivek499666@gmail.com</td>\n",
       "      <td>siinghvivek499666</td>\n",
       "    </tr>\n",
       "    <tr>\n",
       "      <th>2</th>\n",
       "      <td>vivekkumar854100@gmail.com</td>\n",
       "      <td>vivekkumar854100</td>\n",
       "    </tr>\n",
       "    <tr>\n",
       "      <th>3</th>\n",
       "      <td>0111al211182vivek@gmail.com</td>\n",
       "      <td>0111al211182vivek</td>\n",
       "    </tr>\n",
       "  </tbody>\n",
       "</table>\n",
       "</div>"
      ],
      "text/plain": [
       "                         Email           username\n",
       "0  viivekkumarsharma@gmail.com  viivekkumarsharma\n",
       "1  siinghvivek499666@gmail.com  siinghvivek499666\n",
       "2   vivekkumar854100@gmail.com   vivekkumar854100\n",
       "3  0111al211182vivek@gmail.com  0111al211182vivek"
      ]
     },
     "execution_count": 39,
     "metadata": {},
     "output_type": "execute_result"
    }
   ],
   "source": [
    "def username():\n",
    "    df4 = pd.DataFrame({'Email':['viivekkumarsharma@gmail.com','siinghvivek499666@gmail.com','vivekkumar854100@gmail.com','0111al211182vivek@gmail.com']})\n",
    "    df4['username'] = df4['Email'].str.split(\"@\").str[0]\n",
    "    return df4\n",
    "\n",
    "username()"
   ]
  },
  {
   "cell_type": "code",
   "execution_count": null,
   "id": "2bea2be4-7687-4dbe-916a-ee8ec3651053",
   "metadata": {},
   "outputs": [],
   "source": [
    "#                                                         ques - 8"
   ]
  },
  {
   "cell_type": "code",
   "execution_count": 38,
   "id": "f50487b3-69c7-4895-8568-8e4e69f68daa",
   "metadata": {},
   "outputs": [
    {
     "data": {
      "text/html": [
       "<div>\n",
       "<style scoped>\n",
       "    .dataframe tbody tr th:only-of-type {\n",
       "        vertical-align: middle;\n",
       "    }\n",
       "\n",
       "    .dataframe tbody tr th {\n",
       "        vertical-align: top;\n",
       "    }\n",
       "\n",
       "    .dataframe thead th {\n",
       "        text-align: right;\n",
       "    }\n",
       "</style>\n",
       "<table border=\"1\" class=\"dataframe\">\n",
       "  <thead>\n",
       "    <tr style=\"text-align: right;\">\n",
       "      <th></th>\n",
       "      <th>A</th>\n",
       "      <th>B</th>\n",
       "      <th>C</th>\n",
       "    </tr>\n",
       "  </thead>\n",
       "  <tbody>\n",
       "    <tr>\n",
       "      <th>1</th>\n",
       "      <td>8</td>\n",
       "      <td>2</td>\n",
       "      <td>7</td>\n",
       "    </tr>\n",
       "    <tr>\n",
       "      <th>2</th>\n",
       "      <td>6</td>\n",
       "      <td>9</td>\n",
       "      <td>4</td>\n",
       "    </tr>\n",
       "    <tr>\n",
       "      <th>4</th>\n",
       "      <td>9</td>\n",
       "      <td>1</td>\n",
       "      <td>2</td>\n",
       "    </tr>\n",
       "  </tbody>\n",
       "</table>\n",
       "</div>"
      ],
      "text/plain": [
       "   A  B  C\n",
       "1  8  2  7\n",
       "2  6  9  4\n",
       "4  9  1  2"
      ]
     },
     "execution_count": 38,
     "metadata": {},
     "output_type": "execute_result"
    }
   ],
   "source": [
    "def dataFrame():\n",
    "    data = {'A':[3,8,6,2,9],'B':[5,2,9,3,1],'C':[1,7,4,5,2]}\n",
    "    df5 = pd.DataFrame(data)\n",
    "    df5\n",
    "    Dataframe = pd.DataFrame(df5.loc[(df5['A']>5) & (df5['B']<10)])\n",
    "    return Dataframe\n",
    "\n",
    "dataFrame()"
   ]
  },
  {
   "cell_type": "code",
   "execution_count": null,
   "id": "45351f28-27ee-4ccc-8b53-5e400428bb64",
   "metadata": {},
   "outputs": [],
   "source": [
    "#                                                         ques - 9"
   ]
  },
  {
   "cell_type": "code",
   "execution_count": 61,
   "id": "1bc64b1a-8c5b-4335-84d0-e378df28f0fb",
   "metadata": {},
   "outputs": [
    {
     "data": {
      "text/plain": [
       "(4.5, 4.5, 2.449489742783178)"
      ]
     },
     "execution_count": 61,
     "metadata": {},
     "output_type": "execute_result"
    }
   ],
   "source": [
    "def calc_values():\n",
    "    df6 = pd.DataFrame({'Values':[1,2,3,4,5,6,7,8]})\n",
    "    return df6['Values'].mean(),df6['Values'].median(),df6['Values'].std()\n",
    "\n",
    "calc_values()"
   ]
  },
  {
   "cell_type": "code",
   "execution_count": null,
   "id": "ea7607ba-cd89-4575-9e87-ccb53bdabbe9",
   "metadata": {},
   "outputs": [],
   "source": [
    "#                                                         ques - 10"
   ]
  },
  {
   "cell_type": "code",
   "execution_count": 66,
   "id": "469ef16f-45f2-4e69-968b-0f017376e762",
   "metadata": {},
   "outputs": [
    {
     "data": {
      "text/plain": [
       "0     NaN\n",
       "1     NaN\n",
       "2     NaN\n",
       "3     NaN\n",
       "4     NaN\n",
       "5     NaN\n",
       "6    10.0\n",
       "7    12.0\n",
       "Name: Sales, dtype: float64"
      ]
     },
     "execution_count": 66,
     "metadata": {},
     "output_type": "execute_result"
    }
   ],
   "source": [
    "def moving_average():\n",
    "    df7 = pd.DataFrame({'Sales':[4,6,8,10,12,14,16,18],'Date':[1,2,3,4,5,6,7,8]})\n",
    "    return df7['Sales'].rolling(7).mean()\n",
    "\n",
    "moving_average()"
   ]
  },
  {
   "cell_type": "code",
   "execution_count": null,
   "id": "e55613be-7388-45ed-9ffd-c4d2009b6dee",
   "metadata": {},
   "outputs": [],
   "source": [
    "#                                                          ques - 11"
   ]
  },
  {
   "cell_type": "code",
   "execution_count": 79,
   "id": "5f0cb746-8715-4b8d-bb72-5c228da841dc",
   "metadata": {},
   "outputs": [
    {
     "data": {
      "text/html": [
       "<div>\n",
       "<style scoped>\n",
       "    .dataframe tbody tr th:only-of-type {\n",
       "        vertical-align: middle;\n",
       "    }\n",
       "\n",
       "    .dataframe tbody tr th {\n",
       "        vertical-align: top;\n",
       "    }\n",
       "\n",
       "    .dataframe thead th {\n",
       "        text-align: right;\n",
       "    }\n",
       "</style>\n",
       "<table border=\"1\" class=\"dataframe\">\n",
       "  <thead>\n",
       "    <tr style=\"text-align: right;\">\n",
       "      <th></th>\n",
       "      <th>Date</th>\n",
       "      <th>Weekday</th>\n",
       "    </tr>\n",
       "  </thead>\n",
       "  <tbody>\n",
       "    <tr>\n",
       "      <th>0</th>\n",
       "      <td>2023-01-01</td>\n",
       "      <td>Sunday</td>\n",
       "    </tr>\n",
       "    <tr>\n",
       "      <th>1</th>\n",
       "      <td>2023-01-02</td>\n",
       "      <td>Monday</td>\n",
       "    </tr>\n",
       "    <tr>\n",
       "      <th>2</th>\n",
       "      <td>2023-01-03</td>\n",
       "      <td>Tuesday</td>\n",
       "    </tr>\n",
       "    <tr>\n",
       "      <th>3</th>\n",
       "      <td>2023-01-04</td>\n",
       "      <td>Wednesday</td>\n",
       "    </tr>\n",
       "    <tr>\n",
       "      <th>4</th>\n",
       "      <td>2023-01-05</td>\n",
       "      <td>Thursday</td>\n",
       "    </tr>\n",
       "  </tbody>\n",
       "</table>\n",
       "</div>"
      ],
      "text/plain": [
       "        Date    Weekday\n",
       "0 2023-01-01     Sunday\n",
       "1 2023-01-02     Monday\n",
       "2 2023-01-03    Tuesday\n",
       "3 2023-01-04  Wednesday\n",
       "4 2023-01-05   Thursday"
      ]
     },
     "execution_count": 79,
     "metadata": {},
     "output_type": "execute_result"
    }
   ],
   "source": [
    "def weekday():\n",
    "    df8 = pd.DataFrame({'Date':['2023-1-1','2023-1-2','2023-1-3','2023-1-4','2023-1-5']})\n",
    "    df8['Date'] = pd.to_datetime(df8['Date'])\n",
    "    df8['Weekday'] = df8['Date'].dt.day_name()\n",
    "    return df8\n",
    "\n",
    "weekday()"
   ]
  },
  {
   "cell_type": "code",
   "execution_count": null,
   "id": "2e85514c-8162-4ca6-afdb-7aa54f8daf65",
   "metadata": {},
   "outputs": [],
   "source": [
    "#                                                          ques - 12"
   ]
  },
  {
   "cell_type": "code",
   "execution_count": 84,
   "id": "d766ad7e-da5e-4c02-b799-90adcc73777c",
   "metadata": {},
   "outputs": [
    {
     "data": {
      "text/html": [
       "<div>\n",
       "<style scoped>\n",
       "    .dataframe tbody tr th:only-of-type {\n",
       "        vertical-align: middle;\n",
       "    }\n",
       "\n",
       "    .dataframe tbody tr th {\n",
       "        vertical-align: top;\n",
       "    }\n",
       "\n",
       "    .dataframe thead th {\n",
       "        text-align: right;\n",
       "    }\n",
       "</style>\n",
       "<table border=\"1\" class=\"dataframe\">\n",
       "  <thead>\n",
       "    <tr style=\"text-align: right;\">\n",
       "      <th></th>\n",
       "      <th>date</th>\n",
       "    </tr>\n",
       "  </thead>\n",
       "  <tbody>\n",
       "    <tr>\n",
       "      <th>0</th>\n",
       "      <td>2023-01-01</td>\n",
       "    </tr>\n",
       "    <tr>\n",
       "      <th>1</th>\n",
       "      <td>2023-01-02</td>\n",
       "    </tr>\n",
       "    <tr>\n",
       "      <th>3</th>\n",
       "      <td>2023-01-03</td>\n",
       "    </tr>\n",
       "    <tr>\n",
       "      <th>4</th>\n",
       "      <td>2023-01-04</td>\n",
       "    </tr>\n",
       "    <tr>\n",
       "      <th>5</th>\n",
       "      <td>2023-01-05</td>\n",
       "    </tr>\n",
       "  </tbody>\n",
       "</table>\n",
       "</div>"
      ],
      "text/plain": [
       "        date\n",
       "0 2023-01-01\n",
       "1 2023-01-02\n",
       "3 2023-01-03\n",
       "4 2023-01-04\n",
       "5 2023-01-05"
      ]
     },
     "execution_count": 84,
     "metadata": {},
     "output_type": "execute_result"
    }
   ],
   "source": [
    "def date_selection():\n",
    "    df9 = pd.DataFrame({'date':['2023-1-1','2023-1-2','2023-3-17','2023-1-3','2023-1-4','2023-1-5','2023-2-12']})\n",
    "    df9['date'] = pd.to_datetime(df9['date'], format='%Y-%m-%d')\n",
    "    dataframe = pd.DataFrame(df9.loc[(df9['date']>='2023-1-1') & (df9['date']<='2023-1-31')])\n",
    "    return dataframe\n",
    "date_selection()"
   ]
  },
  {
   "cell_type": "code",
   "execution_count": null,
   "id": "59e4ee60-5776-4bc4-b823-34c4098ab07a",
   "metadata": {},
   "outputs": [],
   "source": [
    "#                                                          ques - 13"
   ]
  },
  {
   "cell_type": "code",
   "execution_count": null,
   "id": "b3f6abc1-6d3a-4333-a0d9-ecd3b74f331b",
   "metadata": {},
   "outputs": [],
   "source": [
    "\"\"\" to use the basic functons of pandas library , thr first thing we have to import is pandas itself \n",
    "    for example we write [ import pandas as pd] . here pandas is the library that must be imported to\n",
    "    perfrom the basic functions.\n",
    "\"\"\""
   ]
  }
 ],
 "metadata": {
  "kernelspec": {
   "display_name": "Python 3 (ipykernel)",
   "language": "python",
   "name": "python3"
  },
  "language_info": {
   "codemirror_mode": {
    "name": "ipython",
    "version": 3
   },
   "file_extension": ".py",
   "mimetype": "text/x-python",
   "name": "python",
   "nbconvert_exporter": "python",
   "pygments_lexer": "ipython3",
   "version": "3.10.8"
  }
 },
 "nbformat": 4,
 "nbformat_minor": 5
}
