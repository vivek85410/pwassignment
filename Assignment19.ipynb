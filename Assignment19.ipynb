{
 "cells": [
  {
   "cell_type": "code",
   "execution_count": null,
   "id": "75be3dd4-4ce4-40bd-bd43-036b8e68cab5",
   "metadata": {},
   "outputs": [],
   "source": [
    "#                                                                ques - 1"
   ]
  },
  {
   "cell_type": "code",
   "execution_count": 1,
   "id": "567cdb6c-58ec-4035-bb17-f9e416fbbb02",
   "metadata": {},
   "outputs": [
    {
     "name": "stdout",
     "output_type": "stream",
     "text": [
      "Requirement already satisfied: pandas in /opt/conda/lib/python3.10/site-packages (1.5.2)\n",
      "Requirement already satisfied: python-dateutil>=2.8.1 in /opt/conda/lib/python3.10/site-packages (from pandas) (2.8.2)\n",
      "Requirement already satisfied: pytz>=2020.1 in /opt/conda/lib/python3.10/site-packages (from pandas) (2022.6)\n",
      "Requirement already satisfied: numpy>=1.21.0 in /opt/conda/lib/python3.10/site-packages (from pandas) (1.23.5)\n",
      "Requirement already satisfied: six>=1.5 in /opt/conda/lib/python3.10/site-packages (from python-dateutil>=2.8.1->pandas) (1.16.0)\n",
      "Note: you may need to restart the kernel to use updated packages.\n"
     ]
    }
   ],
   "source": [
    "pip install pandas"
   ]
  },
  {
   "cell_type": "code",
   "execution_count": 2,
   "id": "3950a26d-3cd5-4212-b97e-269ac31950df",
   "metadata": {},
   "outputs": [],
   "source": [
    "import pandas as pd"
   ]
  },
  {
   "cell_type": "code",
   "execution_count": 14,
   "id": "90514735-7f62-49c7-9624-75881bb2f646",
   "metadata": {},
   "outputs": [
    {
     "name": "stdout",
     "output_type": "stream",
     "text": [
      "0     4\n",
      "1     8\n",
      "2    15\n",
      "3    16\n",
      "4    23\n",
      "5    42\n",
      "dtype: int64\n"
     ]
    }
   ],
   "source": [
    "df = pd.Series([4, 8, 15, 16, 23,42])\n",
    "print(df)"
   ]
  },
  {
   "cell_type": "code",
   "execution_count": null,
   "id": "0f5d96db-138e-48f5-ad73-a7cfeced5812",
   "metadata": {},
   "outputs": [],
   "source": [
    "#                                                               ques - 2"
   ]
  },
  {
   "cell_type": "code",
   "execution_count": 23,
   "id": "99e9e4e0-4396-4bb8-a76a-a6013121c099",
   "metadata": {},
   "outputs": [
    {
     "name": "stdout",
     "output_type": "stream",
     "text": [
      "0        54\n",
      "1     vivek\n",
      "2        78\n",
      "3      raja\n",
      "4        98\n",
      "5        54\n",
      "6    shanti\n",
      "7        89\n",
      "8        21\n",
      "9     shrey\n",
      "dtype: object\n"
     ]
    }
   ],
   "source": [
    "new_var = [54,\"vivek\",78,\"raja\",98,54,\"shanti\",89,21,\"shrey\"]\n",
    "print(pd.Series(new_var))"
   ]
  },
  {
   "cell_type": "code",
   "execution_count": null,
   "id": "0378e645-a225-4d21-8e43-604bdc73e9f2",
   "metadata": {},
   "outputs": [],
   "source": [
    "#                                                               ques - 3"
   ]
  },
  {
   "cell_type": "code",
   "execution_count": 21,
   "id": "020d212f-3110-4b1c-aba5-97b378d69db2",
   "metadata": {},
   "outputs": [
    {
     "data": {
      "text/html": [
       "<div>\n",
       "<style scoped>\n",
       "    .dataframe tbody tr th:only-of-type {\n",
       "        vertical-align: middle;\n",
       "    }\n",
       "\n",
       "    .dataframe tbody tr th {\n",
       "        vertical-align: top;\n",
       "    }\n",
       "\n",
       "    .dataframe thead th {\n",
       "        text-align: right;\n",
       "    }\n",
       "</style>\n",
       "<table border=\"1\" class=\"dataframe\">\n",
       "  <thead>\n",
       "    <tr style=\"text-align: right;\">\n",
       "      <th></th>\n",
       "      <th>Name</th>\n",
       "      <th>Age</th>\n",
       "      <th>Gender</th>\n",
       "    </tr>\n",
       "  </thead>\n",
       "  <tbody>\n",
       "    <tr>\n",
       "      <th>0</th>\n",
       "      <td>Alice</td>\n",
       "      <td>25</td>\n",
       "      <td>Female</td>\n",
       "    </tr>\n",
       "    <tr>\n",
       "      <th>1</th>\n",
       "      <td>Bob</td>\n",
       "      <td>30</td>\n",
       "      <td>Male</td>\n",
       "    </tr>\n",
       "    <tr>\n",
       "      <th>2</th>\n",
       "      <td>Charlie</td>\n",
       "      <td>27</td>\n",
       "      <td>Female</td>\n",
       "    </tr>\n",
       "  </tbody>\n",
       "</table>\n",
       "</div>"
      ],
      "text/plain": [
       "      Name  Age  Gender\n",
       "0    Alice   25  Female\n",
       "1      Bob   30    Male\n",
       "2  Charlie   27  Female"
      ]
     },
     "execution_count": 21,
     "metadata": {},
     "output_type": "execute_result"
    }
   ],
   "source": [
    "df2 = {'Name':['Alice','Bob','Charlie'],'Age':[25,30,27],'Gender' : ['Female','Male','Female']}\n",
    "dataFrame = pd.DataFrame(data = df2)\n",
    "dataFrame"
   ]
  },
  {
   "cell_type": "code",
   "execution_count": null,
   "id": "edf22e59-10ca-41eb-91e8-c761a91c385e",
   "metadata": {},
   "outputs": [],
   "source": [
    "#                                                               ques - 4"
   ]
  },
  {
   "cell_type": "code",
   "execution_count": null,
   "id": "1f17a3fc-01c9-4253-863b-34859580cbec",
   "metadata": {},
   "outputs": [],
   "source": [
    "\"\"\" DataFrame : A Pandas DataFrame is a 2 dimensional data structure, like a 2 dimensional array, or a table with rows and columns.\n",
    "    the major difference between series or dataframe is that series is one dimensional like single column and Dataframe is two \n",
    "    dimensional with multiple rows and columns.\n",
    "    \n",
    "    In the above ques 2 or 3 , there is a series in ques 2 which consist a single column of data but in ques no 3 ,\n",
    "    there is multiple column named as NAME,AGE,GENDER which consists multiple data in it. \n",
    "    therefore DataFrame is also known as spreadsheet. also we can say that Dataframe is collection of multiple series.\n",
    "\"\"\""
   ]
  },
  {
   "cell_type": "code",
   "execution_count": null,
   "id": "c64a1f64-db2a-415a-b5d3-07693ed4053f",
   "metadata": {},
   "outputs": [],
   "source": [
    "#                                                               ques - 5"
   ]
  },
  {
   "cell_type": "code",
   "execution_count": null,
   "id": "f4e69e77-c29f-4acf-ac80-5c264da7bdbd",
   "metadata": {},
   "outputs": [],
   "source": [
    "\"\"\" Some common features that we use to manipulate the data in pandas DataFrame are : \n",
    "1.  Remove Column (using drop function)\n",
    "2.  Add new column (using assign function)\n",
    "3.  Merge two DataFrame (using merge function)\n",
    "4.  Remove row (using conditions)\n",
    "5.  Add new Row \n",
    "6.  Append new data\n",
    "and many more manuplating operation can be done.\n",
    "\n",
    "we can use the Drop Function() to remove the column when we are done with the column and that is no longer being used.\n",
    "\"\"\""
   ]
  },
  {
   "cell_type": "code",
   "execution_count": null,
   "id": "d7c22950-7465-4cd2-b652-1caf2b367779",
   "metadata": {},
   "outputs": [],
   "source": [
    "#                                                                ques - 6"
   ]
  },
  {
   "cell_type": "code",
   "execution_count": null,
   "id": "afaa513d-5ffe-480e-9e93-0ede990bffb5",
   "metadata": {},
   "outputs": [],
   "source": [
    "\"\"\" compare to value , all three are mutable which means values of dataframe,series and panel can be changed at any point of time\n",
    "    but compare to size , two of three are mutable only which is Dataframe and panel size can be changed at any point of time but \n",
    "    the size of series cannot be changed(immutable) one's formed.\n",
    "\"\"\""
   ]
  },
  {
   "cell_type": "code",
   "execution_count": null,
   "id": "b0d9dab3-55d5-470c-b75a-95052b8c4659",
   "metadata": {},
   "outputs": [],
   "source": [
    "#                                                                ques - 7"
   ]
  },
  {
   "cell_type": "code",
   "execution_count": 26,
   "id": "b48ed668-5721-4a10-9caa-05db51a0f35b",
   "metadata": {},
   "outputs": [
    {
     "data": {
      "text/html": [
       "<div>\n",
       "<style scoped>\n",
       "    .dataframe tbody tr th:only-of-type {\n",
       "        vertical-align: middle;\n",
       "    }\n",
       "\n",
       "    .dataframe tbody tr th {\n",
       "        vertical-align: top;\n",
       "    }\n",
       "\n",
       "    .dataframe thead th {\n",
       "        text-align: right;\n",
       "    }\n",
       "</style>\n",
       "<table border=\"1\" class=\"dataframe\">\n",
       "  <thead>\n",
       "    <tr style=\"text-align: right;\">\n",
       "      <th></th>\n",
       "      <th>0</th>\n",
       "      <th>1</th>\n",
       "      <th>2</th>\n",
       "      <th>3</th>\n",
       "      <th>4</th>\n",
       "      <th>5</th>\n",
       "    </tr>\n",
       "  </thead>\n",
       "  <tbody>\n",
       "    <tr>\n",
       "      <th>0</th>\n",
       "      <td>4</td>\n",
       "      <td>8</td>\n",
       "      <td>15</td>\n",
       "      <td>16</td>\n",
       "      <td>23.0</td>\n",
       "      <td>42.0</td>\n",
       "    </tr>\n",
       "    <tr>\n",
       "      <th>1</th>\n",
       "      <td>54</td>\n",
       "      <td>11</td>\n",
       "      <td>78</td>\n",
       "      <td>43</td>\n",
       "      <td>90.0</td>\n",
       "      <td>54.0</td>\n",
       "    </tr>\n",
       "    <tr>\n",
       "      <th>2</th>\n",
       "      <td>Ram</td>\n",
       "      <td>Shyam</td>\n",
       "      <td>Mohan</td>\n",
       "      <td>Radha</td>\n",
       "      <td>NaN</td>\n",
       "      <td>NaN</td>\n",
       "    </tr>\n",
       "  </tbody>\n",
       "</table>\n",
       "</div>"
      ],
      "text/plain": [
       "     0      1      2      3     4     5\n",
       "0    4      8     15     16  23.0  42.0\n",
       "1   54     11     78     43  90.0  54.0\n",
       "2  Ram  Shyam  Mohan  Radha   NaN   NaN"
      ]
     },
     "execution_count": 26,
     "metadata": {},
     "output_type": "execute_result"
    }
   ],
   "source": [
    "ser1 = pd.Series([4, 8, 15, 16, 23,42])\n",
    "ser2 = pd.Series([54,11,78,43,90,54])\n",
    "ser3 = pd.Series(['Ram','Shyam','Mohan','Radha'])\n",
    "dataFrame2 = pd.DataFrame(data = [ser1,ser2,ser3])\n",
    "dataFrame2"
   ]
  },
  {
   "cell_type": "code",
   "execution_count": null,
   "id": "fe9abc3a-6e9c-4e33-aa4f-0db1675e413b",
   "metadata": {},
   "outputs": [],
   "source": [
    "\"\"\" Here in ques no 7, there is 3 series named ser1,ser2,ser3. so the ques is to make a DataFrame from multiple series so\n",
    "    As per question i have Attached all the three series by the names as a list of assed through the data parameter in the DataFrame\n",
    "    function. And the output comes as a whole of data Frame like a spreadsheet.\n",
    "\"\"\""
   ]
  }
 ],
 "metadata": {
  "kernelspec": {
   "display_name": "Python 3 (ipykernel)",
   "language": "python",
   "name": "python3"
  },
  "language_info": {
   "codemirror_mode": {
    "name": "ipython",
    "version": 3
   },
   "file_extension": ".py",
   "mimetype": "text/x-python",
   "name": "python",
   "nbconvert_exporter": "python",
   "pygments_lexer": "ipython3",
   "version": "3.10.8"
  }
 },
 "nbformat": 4,
 "nbformat_minor": 5
}
