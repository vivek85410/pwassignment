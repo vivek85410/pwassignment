{
 "cells": [
  {
   "cell_type": "code",
   "execution_count": 3,
   "id": "8b142357-c9a5-4867-ae19-987692cbf697",
   "metadata": {},
   "outputs": [],
   "source": [
    "#                                                                       ques - 1"
   ]
  },
  {
   "cell_type": "code",
   "execution_count": null,
   "id": "1724a8bc-8900-4544-9619-2d501e6dfa17",
   "metadata": {},
   "outputs": [],
   "source": [
    "\"\"\" Statics is a branch of science that deals with collecting, organizating and analyzing the data. \n",
    "    we perform different types of calculation on the given data to get the result on the given sample \n",
    "    of data. \n",
    "        example : measurment of central tendency (mean,median,mode)\n",
    "                  standard deviation , t- test ,etc\n",
    "\"\"\""
   ]
  },
  {
   "cell_type": "code",
   "execution_count": 2,
   "id": "ebb2f522-e023-4b3f-825d-3ca8fe70dc0d",
   "metadata": {},
   "outputs": [],
   "source": [
    "#                                                                       ques - 2"
   ]
  },
  {
   "cell_type": "code",
   "execution_count": null,
   "id": "88ee2e8a-7268-4446-8bf1-d90d57bf5c96",
   "metadata": {},
   "outputs": [],
   "source": [
    "\"\"\" The Statics is mainly divided into two types : \n",
    "    1. Descriptive statics\n",
    "    2. Inferential statics\n",
    "    \n",
    "    1. descriptive statics is used when we have to organize and summarize the data. In descriptive statics the \n",
    "       central tendency is measured,also we use standard deviation and varience in it.and many more like pmf,\n",
    "       pdf,histogram etc methods. \n",
    "       \n",
    "    2. Inferential statics is used we have to form conclusion on the measured data. for this purpose we used \n",
    "        different test like t-test, z-test, ki-square test, and many more.\n",
    "\"\"\""
   ]
  },
  {
   "cell_type": "code",
   "execution_count": null,
   "id": "af97a4e3-92b9-499d-a8c0-8f17cd4cbd86",
   "metadata": {},
   "outputs": [],
   "source": [
    "#                                                                       ques - 3"
   ]
  },
  {
   "cell_type": "code",
   "execution_count": null,
   "id": "ebba6717-4b65-48b3-a435-9969fb9566f8",
   "metadata": {},
   "outputs": [],
   "source": [
    "\"\"\" differen types of data are : \n",
    "    1. Quantitative data                                                   2. Qualitative data\n",
    "       \n",
    "       a) Discrete data                                                       a) nominal data\n",
    "       b) contineous data                                                     b) ordinal data\n",
    "    \n",
    "    1. Quantitative data is the data in which has only numerical values or on which we can perform mathematical calculations \n",
    "       like addition, subtraction, multiplication and division\n",
    "           a) Discrete data : it is a type of quantitative data in which its values are fixed or can say exact(whole nunmber) \n",
    "              for example: no of childrens in a family , no of days in a month, etc\n",
    "            \n",
    "           b) contineous data : it is a type of quantitative data in which its values are not fixed which means \n",
    "              there will be decimal(float) value as well as non decimal values.\n",
    "              for example : weight , temperature , etc\n",
    "              \n",
    "    2. Qualitative data is the data in which there is categorical values, for example sex, age group , education level.\n",
    "            a) nominal data : it is a type of data in which we cannot give rank to them.\n",
    "               for exapmle : eye color , nationality , blood group ,etc.\n",
    "               \n",
    "            b) ordinal data : it is a type of data in which we can give rank to them.\n",
    "               for example : results , range of income , level of education , etc\n",
    "\n",
    "\"\"\""
   ]
  },
  {
   "cell_type": "code",
   "execution_count": null,
   "id": "5d5ef726-356b-46e5-8ca2-b17992235549",
   "metadata": {},
   "outputs": [],
   "source": [
    "#                                                                       ques - 4"
   ]
  },
  {
   "cell_type": "code",
   "execution_count": null,
   "id": "92997d36-070e-45c0-b8d7-22e181b0e21b",
   "metadata": {},
   "outputs": [],
   "source": [
    "\"\"\"  (i) Grading in exam: A+, A, B+, B, C+, C, D, E - qualitative data(ordinal data) \n",
    "     (ii) Colour of mangoes: yellow, green, orange, red - qualitative data(nomianal data)\n",
    "     (iii) Height data of a class: [178.9, 179, 179.5, 176, 177.2, 178.3, 175.8,...] - quantitative data(contineous data)\n",
    "     (iv) Number of mangoes exported by a farm: [500, 600, 478, 672, ...] - qunatitative data(discrete data)\n",
    "\"\"\""
   ]
  },
  {
   "cell_type": "code",
   "execution_count": 4,
   "id": "7c45a6ae-24c2-499a-8671-8faeb99521cb",
   "metadata": {},
   "outputs": [],
   "source": [
    "#                                                                       ques - 5"
   ]
  },
  {
   "cell_type": "code",
   "execution_count": null,
   "id": "b8b3879d-2054-4f0e-a13a-882e1ebfb5ff",
   "metadata": {},
   "outputs": [],
   "source": [
    "\"\"\" In statistics, level of measurement is a classification that relates the values that are assigned to variables with each other.\n",
    "    In other words, level of measurement is used to describe information within the values. \n",
    "    there are four levels of measurements :\n",
    "    1. Nominal scale - the nominal scale categorizes variables into distinct classification. The numbers associated with the variables\n",
    "                       on a nominal scale are used solely to classify the data; it does not indicate rank or order.\n",
    "                       \n",
    "    2. ordinal scale - The ordinal scale is the opposite of the nominal scale because in this measurement scale the variables are \n",
    "                        arranged into ranks or orders\n",
    "                        \n",
    "    3. interval scale - An interval scale is one where there is order and the difference between two values is meaningful.\n",
    "    \n",
    "    4. ratio scale - A ratio scale is the most informative scale as it tends to tell about the order and number of the object between \n",
    "                    the values of the scale\n",
    "    \n",
    "    example of all four scales :\n",
    "    1. nominal scale - gender , marital status , blood type\n",
    "    2. ordinal scale - Income , education level , rank\n",
    "    3. interval scale - temperature (Farenheit), temperature (Celcius) ,SAT score (200-800), credit score (300-850)\n",
    "    4. ratio scale - height, money, age, weight\n",
    "\n",
    "\"\"\""
   ]
  },
  {
   "cell_type": "code",
   "execution_count": null,
   "id": "ed0f5c8b-39ae-4f10-982d-5d6248dbb675",
   "metadata": {},
   "outputs": [],
   "source": [
    "#                                                                       ques - 6"
   ]
  },
  {
   "cell_type": "code",
   "execution_count": null,
   "id": "6a1d0f0b-2022-4070-8d94-675c2aa3e0db",
   "metadata": {},
   "outputs": [],
   "source": [
    "\"\"\" The level of measurement refers to the relationship among the values that are assigned to the attributes for a variable.\n",
    "    \n",
    "    First, knowing the level of measurement helps you decide how to interpret the data from that variable. When you know that \n",
    "    a measure is nominal (like the one just described), then you know that the numerical values are just short codes for the longer names.\n",
    "    \n",
    "    Second, knowing the level of measurement helps you decide what statistical analysis is appropriate on the values that were assigned.\n",
    "    If a measure is nominal, then you know that you would never average the data values or do a t-test on the data\n",
    "    \n",
    "    for example :\n",
    "    jersey numbers in basketball are measures at the nominal level. A player with number 30 is not more of anything than a player with number 15,\n",
    "    and is certainly not twice whatever number 15 is.\n",
    "    \n",
    "    the number of clients in past six months. Why? Because you can have zero clients and because it is meaningful to say that “…we had twice as \n",
    "    many clients in the past six months as we did in the previous six months.”\n",
    "\n",
    "\"\"\""
   ]
  },
  {
   "cell_type": "code",
   "execution_count": 1,
   "id": "a4d68956-44ff-453a-90e3-da5213deca48",
   "metadata": {},
   "outputs": [],
   "source": [
    "#                                                                     ques - 7"
   ]
  },
  {
   "cell_type": "code",
   "execution_count": null,
   "id": "9a99955f-303f-429f-aae7-e6c16dfabc5f",
   "metadata": {},
   "outputs": [],
   "source": [
    "\"\"\" The main differences between Nominal Data and Ordinal Data are:\n",
    "    \n",
    "    1. While Nominal Data is classified without any intrinsic ordering or rank, Ordinal Data has some predetermined or natural order. \n",
    "    \n",
    "    2. Nominal data is qualitative or categorical data, while Ordinal data is considered “in-between” qualitative and quantitative data.\n",
    "    \n",
    "    3. Nominal data do not provide any quantitative value, and you cannot perform numeric operations with them or compare them with one another.\n",
    "       However, Ordinal data provide sequence, and it is possible to assign numbers to the data. No numeric operations can be performed.\n",
    "       But ordinal data makes it possible to compare one item with another in terms of ranking.  \n",
    "       \n",
    "    4. Example of Nominal Data – Eye color, Gender\n",
    "       Example of Ordinal data – Customer Feedback, Economic Status\n",
    "\"\"\"    "
   ]
  },
  {
   "cell_type": "code",
   "execution_count": null,
   "id": "88185bf6-05ab-428b-ac6f-3f91c08863e7",
   "metadata": {},
   "outputs": [],
   "source": [
    "#                                                                     ques - 8"
   ]
  },
  {
   "cell_type": "code",
   "execution_count": null,
   "id": "73e0f477-4bdd-400e-9a41-113d5557bb99",
   "metadata": {},
   "outputs": [],
   "source": [
    "\"\"\" In terms of range , histogram plot is best to use as histogram divides up the range of possible values in a data set into classes or groups\n",
    "    histogram uses bar graph to plot the data.\n",
    "\"\"\""
   ]
  },
  {
   "cell_type": "code",
   "execution_count": 2,
   "id": "2eb7dde5-5879-4766-b6f9-0696a125fbd9",
   "metadata": {},
   "outputs": [],
   "source": [
    "#                                                                     ques - 9"
   ]
  },
  {
   "cell_type": "code",
   "execution_count": null,
   "id": "a011988e-ba05-487c-b6aa-623859dfb88f",
   "metadata": {},
   "outputs": [],
   "source": [
    "\"\"\" difference between descriptive and inferential statistics :\n",
    "        \n",
    "                    descriptive                                                                                   inferential \n",
    " \n",
    "    1. It gives information about raw data which describes                                1. It makes inferences about the population using data drawn\n",
    "       the data in some manner.                                                              from the population.\n",
    "       \n",
    "    2. It helps in organizing, analyzing, and to present data                             2. It allows us to compare data, and make hypotheses and predictions.\n",
    "       in a meaningful manner.\n",
    "       \n",
    "    3. It is used to describe a situation                                                 3. It is used to explain the chance of occurrence of an event\n",
    "    \n",
    "    4. It explains already known data and is limited to a sample                          4. It attempts to reach the conclusion about the population.\n",
    "       or population having a small size\n",
    "       \n",
    "    5. It can be achieved with the help of charts, graphs, tables, etc.                   5. It can be achieved by probability.\n",
    "    \n",
    "    example of descriptive statics : \n",
    "    \n",
    "    1. measure of central tendency (mean,median,mode)\n",
    "    2. measure of variability(range,varience,standard deviation)\n",
    "    \n",
    "    example of inferential statics : \n",
    "    \n",
    "    1. Bivariate Regression\n",
    "    2. Multi-variate Regression\n",
    "    3. T-test , Z-test\n",
    "    4. Chi-Square test\n",
    "    \n",
    "    These statics are used by using various methods and calculations like given in example are different method to perform \n",
    "    different calculation on the given data set.\n",
    "    \n",
    "\"\"\""
   ]
  },
  {
   "cell_type": "code",
   "execution_count": null,
   "id": "3699d824-79e4-4737-af2d-98eee5ff6b34",
   "metadata": {},
   "outputs": [],
   "source": [
    "#                                                                     ques - 10"
   ]
  },
  {
   "cell_type": "code",
   "execution_count": null,
   "id": "8c45b856-94ac-4235-a56a-49f44f59b633",
   "metadata": {},
   "outputs": [],
   "source": [
    "\"\"\" Some common measures of central tendency are : \n",
    "    1. mean  - it is also called as average is used by adding all numbers in the data set and then dividing by the number of values in the set.\n",
    "    \n",
    "    2. median - The median is the middle value when a data set is ordered from least to greatest.\n",
    "    \n",
    "    3. mode - The mode is the number that occurs most often in a data set.\n",
    "    \n",
    "    Some common measures of variability are :\n",
    "    1. Range - it is used as the difference between the highest and the lowest value in the given dataset.\n",
    "    \n",
    "    2. Variance - it is the average of squared distances from the mean in the dataset.\n",
    "    \n",
    "    3. standard deviation - it is the average distance from the mean in the dataset.\n",
    "\n",
    "\"\"\""
   ]
  }
 ],
 "metadata": {
  "kernelspec": {
   "display_name": "Python 3 (ipykernel)",
   "language": "python",
   "name": "python3"
  },
  "language_info": {
   "codemirror_mode": {
    "name": "ipython",
    "version": 3
   },
   "file_extension": ".py",
   "mimetype": "text/x-python",
   "name": "python",
   "nbconvert_exporter": "python",
   "pygments_lexer": "ipython3",
   "version": "3.10.8"
  }
 },
 "nbformat": 4,
 "nbformat_minor": 5
}
