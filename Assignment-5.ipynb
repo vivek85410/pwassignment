{
 "cells": [
  {
   "cell_type": "code",
   "execution_count": null,
   "id": "c90636e6-136b-4104-8bb3-138a819e8f3b",
   "metadata": {},
   "outputs": [],
   "source": [
    "#                                                          ques - 1"
   ]
  },
  {
   "cell_type": "code",
   "execution_count": 10,
   "id": "ec244c29-7aad-4147-81b5-c37190547182",
   "metadata": {},
   "outputs": [
    {
     "data": {
      "text/plain": [
       "('verna', 300, 16)"
      ]
     },
     "execution_count": 10,
     "metadata": {},
     "output_type": "execute_result"
    }
   ],
   "source": [
    "class vehicle:\n",
    "    def __init__(self,name_of_vehicle,max_speed,average_of_vehicle):\n",
    "        self.name_of_vehicle = name_of_vehicle\n",
    "        self.max_speed = max_speed\n",
    "        self.average_of_vehicle = average_of_vehicle\n",
    "        \n",
    "    def return_details_of_vehicle(self):\n",
    "        return self.name_of_vehicle,self.max_speed,self.average_of_vehicle\n",
    "    \n",
    "details = vehicle(\"verna\",300,16)\n",
    "\n",
    "details.return_details_of_vehicle()"
   ]
  },
  {
   "cell_type": "code",
   "execution_count": null,
   "id": "a096f2da-d1e9-4e08-9c66-985527558657",
   "metadata": {},
   "outputs": [],
   "source": [
    "#                                                         ques - 2"
   ]
  },
  {
   "cell_type": "code",
   "execution_count": 13,
   "id": "68c75080-3daf-40f9-87f3-3d86c519b339",
   "metadata": {},
   "outputs": [
    {
     "data": {
      "text/plain": [
       "('verna', 6)"
      ]
     },
     "execution_count": 13,
     "metadata": {},
     "output_type": "execute_result"
    }
   ],
   "source": [
    "class car(vehicle):\n",
    "    def seating_capacity(self,capacity):\n",
    "        self.capacity = capacity\n",
    "        return self.name_of_vehicle,self.capacity\n",
    "    \n",
    "name = car(\"verna\",300,16)\n",
    "name.seating_capacity(6)"
   ]
  },
  {
   "cell_type": "code",
   "execution_count": null,
   "id": "44147c1d-e89f-4132-be1d-8d5c5bb412c6",
   "metadata": {},
   "outputs": [],
   "source": [
    "#                                                         ques - 3"
   ]
  },
  {
   "cell_type": "code",
   "execution_count": 20,
   "id": "eb28dce9-9b6c-4f37-abbc-743dd39dadc7",
   "metadata": {},
   "outputs": [
    {
     "data": {
      "text/plain": [
       "(111211197, 236556324)"
      ]
     },
     "execution_count": 20,
     "metadata": {},
     "output_type": "execute_result"
    }
   ],
   "source": [
    "\"\"\" multiple inheritance is a type of inheritance in oop system.In this type of inheritance,there are many parents from which a single child\n",
    "    inherites the property. and the single child contains properties of all the parents behaviours\"\"\"\n",
    "\n",
    "class student:\n",
    "    def info(self,student_id):\n",
    "        self.student_id = student_id\n",
    "        return self.student_id\n",
    "    \n",
    "class teacher:\n",
    "    def info2(self,teacher_id):\n",
    "        self.teacher_id = teacher_id\n",
    "        return self.teacher_id\n",
    "    \n",
    "class college(student,teacher):\n",
    "    def student_teacher_info(self):\n",
    "        return self.student_id,self.teacher_id\n",
    "\n",
    "information = college()\n",
    "information.info(111211197)\n",
    "information.info2(236556324)\n",
    "information.student_teacher_info()"
   ]
  },
  {
   "cell_type": "code",
   "execution_count": null,
   "id": "de7637dc-1cc2-4b02-9332-7c5ee0b86f9d",
   "metadata": {},
   "outputs": [],
   "source": [
    "#                                                           ques - 4"
   ]
  },
  {
   "cell_type": "code",
   "execution_count": 21,
   "id": "05075851-8ac5-4c51-88a9-2c8053760481",
   "metadata": {},
   "outputs": [
    {
     "data": {
      "text/plain": [
       "'vivek'"
      ]
     },
     "execution_count": 21,
     "metadata": {},
     "output_type": "execute_result"
    }
   ],
   "source": [
    "\"\"\" getter is a method that allows to use the attributes in the class and setter is the method that allows to set or mutate the \n",
    "    attributes in the class. \"\"\"\n",
    "\n",
    "class get_set_method :\n",
    "    def __init__(self,name):\n",
    "        self.name = name\n",
    "    # get method called\n",
    "    def get_method(self):\n",
    "        return self.name\n",
    "    # set method called\n",
    "    def set_method(self):\n",
    "        self.name = \"aman\"\n",
    "        return self.name\n",
    "    \n",
    "method = get_set_method(\"vivek\")\n",
    "method.get_method()"
   ]
  },
  {
   "cell_type": "code",
   "execution_count": 22,
   "id": "1878c9d0-5c78-42a6-8752-20e31be84b50",
   "metadata": {},
   "outputs": [
    {
     "data": {
      "text/plain": [
       "'aman'"
      ]
     },
     "execution_count": 22,
     "metadata": {},
     "output_type": "execute_result"
    }
   ],
   "source": [
    "method.set_method()"
   ]
  },
  {
   "cell_type": "code",
   "execution_count": null,
   "id": "0eaf48b8-bd5c-4d7c-ab36-61bb3e78f312",
   "metadata": {},
   "outputs": [],
   "source": [
    "#                                                           ques - 5"
   ]
  },
  {
   "cell_type": "code",
   "execution_count": 23,
   "id": "1c51eded-af29-4e80-a75b-6a9b51fa3533",
   "metadata": {},
   "outputs": [
    {
     "data": {
      "text/plain": [
       "'black'"
      ]
     },
     "execution_count": 23,
     "metadata": {},
     "output_type": "execute_result"
    }
   ],
   "source": [
    "\"\"\" method overriding is feature in OOPS that allows the child class to define the characteristics of the parent class (which is already \n",
    "    defined in parent class) in its own way.\"\"\"\n",
    "\n",
    "class pen:\n",
    "    def colour(self):\n",
    "        self.colour = \"red\"\n",
    "        return self.colour\n",
    "\n",
    "class pencil(pen) :\n",
    "    def colour(self):\n",
    "        self.colour = \"black\"\n",
    "        return self.colour\n",
    "    \n",
    "colour = pencil()\n",
    "colour.colour()\n",
    "    "
   ]
  },
  {
   "cell_type": "code",
   "execution_count": null,
   "id": "4b20c51d-0f30-4589-9a49-e93c6838c6d9",
   "metadata": {},
   "outputs": [],
   "source": []
  }
 ],
 "metadata": {
  "kernelspec": {
   "display_name": "Python 3 (ipykernel)",
   "language": "python",
   "name": "python3"
  },
  "language_info": {
   "codemirror_mode": {
    "name": "ipython",
    "version": 3
   },
   "file_extension": ".py",
   "mimetype": "text/x-python",
   "name": "python",
   "nbconvert_exporter": "python",
   "pygments_lexer": "ipython3",
   "version": "3.10.8"
  }
 },
 "nbformat": 4,
 "nbformat_minor": 5
}
