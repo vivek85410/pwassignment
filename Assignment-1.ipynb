{
 "cells": [
  {
   "cell_type": "code",
   "execution_count": null,
   "id": "b2082fb5-f79c-4af5-8bd6-1655b1e11724",
   "metadata": {},
   "outputs": [],
   "source": [
    "#                                                                      ques 1 :-"
   ]
  },
  {
   "cell_type": "code",
   "execution_count": 3,
   "id": "ab396f2f-7042-4ca3-9957-11a7ab24cdc6",
   "metadata": {},
   "outputs": [],
   "source": [
    "_A = \"this is string\""
   ]
  },
  {
   "cell_type": "code",
   "execution_count": null,
   "id": "8f380fdc-4e3d-48cd-ac9f-9844f116be2c",
   "metadata": {},
   "outputs": [],
   "source": [
    "L = [\"hello\" , 25 , True , 23.46 ] "
   ]
  },
  {
   "cell_type": "code",
   "execution_count": null,
   "id": "c7494b18-e0b1-4f20-95eb-654550e56d0e",
   "metadata": {},
   "outputs": [],
   "source": [
    "_float = 336.265"
   ]
  },
  {
   "cell_type": "code",
   "execution_count": null,
   "id": "93a20d92-b803-411e-8693-dd58482c5054",
   "metadata": {},
   "outputs": [],
   "source": [
    "tup = (\"Hai\" , 20 , 96.2 , True )"
   ]
  },
  {
   "cell_type": "code",
   "execution_count": null,
   "id": "910a9cff-93f9-44bb-8244-f5571cef9282",
   "metadata": {},
   "outputs": [],
   "source": [
    " #                                                                       ques 2 :-"
   ]
  },
  {
   "cell_type": "code",
   "execution_count": null,
   "id": "ff26f3ba-feef-406a-ab2e-a63ab9fced25",
   "metadata": {},
   "outputs": [],
   "source": [
    "# datatype of var1 is  string (str)"
   ]
  },
  {
   "cell_type": "code",
   "execution_count": null,
   "id": "7badd2fd-0c63-48de-914a-57f65bc3d4f9",
   "metadata": {},
   "outputs": [],
   "source": [
    "# datatype of var2 is string (str)"
   ]
  },
  {
   "cell_type": "code",
   "execution_count": null,
   "id": "0b04c1c3-f327-460c-9535-3a279516add0",
   "metadata": {},
   "outputs": [],
   "source": [
    "# datatype of var3 is List ([])"
   ]
  },
  {
   "cell_type": "code",
   "execution_count": null,
   "id": "100d0e8e-eade-4f86-b9d0-b991ed26dc67",
   "metadata": {},
   "outputs": [],
   "source": [
    "# datatype of var4 is integer (int)"
   ]
  },
  {
   "cell_type": "code",
   "execution_count": null,
   "id": "0bd070df-8bc7-4fc5-890f-112630d76082",
   "metadata": {},
   "outputs": [],
   "source": [
    "#                                                                        ques 3 :-"
   ]
  },
  {
   "cell_type": "code",
   "execution_count": 5,
   "id": "15283129-4d7f-477f-a331-fe60c48d6154",
   "metadata": {},
   "outputs": [
    {
     "data": {
      "text/plain": [
       "5.0"
      ]
     },
     "execution_count": 5,
     "metadata": {},
     "output_type": "execute_result"
    }
   ],
   "source": [
    "25/5"
   ]
  },
  {
   "cell_type": "code",
   "execution_count": null,
   "id": "868a8402-51e7-4ecc-9115-e3e68f1975a9",
   "metadata": {},
   "outputs": [],
   "source": [
    "# '/' this is arthematic divisin operator used to obtain the quotient"
   ]
  },
  {
   "cell_type": "code",
   "execution_count": 6,
   "id": "a5c08114-79ae-4893-b4b2-8c66a7f91161",
   "metadata": {},
   "outputs": [
    {
     "data": {
      "text/plain": [
       "2"
      ]
     },
     "execution_count": 6,
     "metadata": {},
     "output_type": "execute_result"
    }
   ],
   "source": [
    "20%3"
   ]
  },
  {
   "cell_type": "code",
   "execution_count": null,
   "id": "ebb97cc4-4dc6-44ce-bc90-b4284a6f9e8e",
   "metadata": {},
   "outputs": [],
   "source": [
    "# '%' this is mode operator used the obtain the remainder in division"
   ]
  },
  {
   "cell_type": "code",
   "execution_count": 7,
   "id": "415e4b6c-f677-4dd9-a585-58c7a1e1407d",
   "metadata": {},
   "outputs": [
    {
     "data": {
      "text/plain": [
       "6"
      ]
     },
     "execution_count": 7,
     "metadata": {},
     "output_type": "execute_result"
    }
   ],
   "source": [
    "25//4"
   ]
  },
  {
   "cell_type": "code",
   "execution_count": null,
   "id": "12b04191-cf4e-4dc4-a14d-252419ed8c28",
   "metadata": {},
   "outputs": [],
   "source": [
    "# '//' it returns the base no in divisibility"
   ]
  },
  {
   "cell_type": "code",
   "execution_count": 8,
   "id": "44c2cdde-4748-41bb-86b9-15548394dd9b",
   "metadata": {},
   "outputs": [
    {
     "data": {
      "text/plain": [
       "8"
      ]
     },
     "execution_count": 8,
     "metadata": {},
     "output_type": "execute_result"
    }
   ],
   "source": [
    "2**3"
   ]
  },
  {
   "cell_type": "code",
   "execution_count": null,
   "id": "bc685286-0b8c-4822-8d60-3304bfa49e84",
   "metadata": {},
   "outputs": [],
   "source": [
    "# '**' it determines the power of the no basically in this example 2 to the power 3 means 2*2*2 = 8."
   ]
  },
  {
   "cell_type": "code",
   "execution_count": null,
   "id": "fea2c726-ca45-4aeb-9da4-a56430b134f6",
   "metadata": {},
   "outputs": [],
   "source": [
    "#                                                                        ques 4 :-"
   ]
  },
  {
   "cell_type": "code",
   "execution_count": 10,
   "id": "1e4b5aff-95e6-40e9-a59e-2234b80cf6fd",
   "metadata": {},
   "outputs": [
    {
     "name": "stdout",
     "output_type": "stream",
     "text": [
      "25\n",
      "<class 'int'>\n",
      "vivek\n",
      "<class 'str'>\n",
      "True\n",
      "<class 'bool'>\n",
      "False\n",
      "<class 'bool'>\n",
      "56.2\n",
      "<class 'float'>\n",
      "yes\n",
      "<class 'str'>\n",
      "99\n",
      "<class 'int'>\n",
      "c\n",
      "<class 'str'>\n",
      "21.3\n",
      "<class 'float'>\n",
      "False\n",
      "<class 'bool'>\n"
     ]
    }
   ],
   "source": [
    " List = [25,'vivek',True,False,56.2,'yes',99,'c',21.3,False]\n",
    " for i in List:\n",
    "        print(i)\n",
    "        print(type(i))"
   ]
  },
  {
   "cell_type": "code",
   "execution_count": null,
   "id": "e69205d5-53c1-47d5-83dc-d792b45c5536",
   "metadata": {},
   "outputs": [],
   "source": [
    "#                                                                           ques 5 :-"
   ]
  },
  {
   "cell_type": "code",
   "execution_count": 16,
   "id": "14c998e6-f370-43f6-8d39-8cabe089c8fc",
   "metadata": {},
   "outputs": [
    {
     "name": "stdout",
     "output_type": "stream",
     "text": [
      "6\n"
     ]
    }
   ],
   "source": [
    "A = 30\n",
    "B = 5\n",
    "i = 0\n",
    "while(i<1):\n",
    "    if(A%B==0):\n",
    "        print(int(A/B))\n",
    "    i= i+1"
   ]
  },
  {
   "cell_type": "code",
   "execution_count": null,
   "id": "d1651cfa-dba9-4bb4-aab7-a1d6a513a368",
   "metadata": {},
   "outputs": [],
   "source": [
    "#                                                                            ques 6 :-"
   ]
  },
  {
   "cell_type": "code",
   "execution_count": 17,
   "id": "91d393d7-446f-49fe-bfd1-8822acbeeba2",
   "metadata": {},
   "outputs": [
    {
     "name": "stdout",
     "output_type": "stream",
     "text": [
      "Yes\n",
      "Yes\n",
      "No\n",
      "No\n",
      "Yes\n",
      "Yes\n",
      "Yes\n",
      "No\n",
      "No\n",
      "Yes\n",
      "No\n",
      "Yes\n",
      "Yes\n",
      "Yes\n",
      "No\n",
      "Yes\n",
      "No\n",
      "No\n",
      "No\n",
      "No\n",
      "Yes\n",
      "No\n",
      "Yes\n",
      "Yes\n",
      "Yes\n"
     ]
    }
   ],
   "source": [
    "intlist = [3,6,58,28,45,69,66,23,14,75,25,45,48,75,10,36,59,58,101,205,567,566,96,93,27]\n",
    "for i in intlist:\n",
    "    if(i%3==0):\n",
    "        print(\"Yes\")\n",
    "    else:\n",
    "        print(\"No\")"
   ]
  },
  {
   "cell_type": "code",
   "execution_count": null,
   "id": "58aaba71-0eb3-4a08-904b-f08dbdbe0f63",
   "metadata": {},
   "outputs": [],
   "source": [
    "# mutable means the data of the variable (index) can be changed. for example list index can be changed.\n",
    "# but immutable means the data of rthe variable (index) cannot be changed. for example string and tuple.\n",
    "# index of string cannot be changed directly with the help of assignmrnt operator(=). \n",
    "## example of muttable and immuatable are given below"
   ]
  },
  {
   "cell_type": "code",
   "execution_count": 19,
   "id": "b2e63073-e77d-47c6-85e7-8d5825176d5b",
   "metadata": {},
   "outputs": [
    {
     "name": "stdout",
     "output_type": "stream",
     "text": [
      "30\n"
     ]
    }
   ],
   "source": [
    "v_k = [\"hai\",25,76.09,True,\"this\"]\n",
    "v_k[1] = 30\n",
    "print(v_k[1])"
   ]
  },
  {
   "cell_type": "code",
   "execution_count": 20,
   "id": "2153eb56-ecef-45ec-b448-c9091b64132b",
   "metadata": {},
   "outputs": [
    {
     "ename": "TypeError",
     "evalue": "'str' object does not support item assignment",
     "output_type": "error",
     "traceback": [
      "\u001b[0;31m---------------------------------------------------------------------------\u001b[0m",
      "\u001b[0;31mTypeError\u001b[0m                                 Traceback (most recent call last)",
      "Cell \u001b[0;32mIn[20], line 2\u001b[0m\n\u001b[1;32m      1\u001b[0m nk \u001b[38;5;241m=\u001b[39m \u001b[38;5;124m\"\u001b[39m\u001b[38;5;124mfarbetter\u001b[39m\u001b[38;5;124m\"\u001b[39m\n\u001b[0;32m----> 2\u001b[0m \u001b[43mnk\u001b[49m\u001b[43m[\u001b[49m\u001b[38;5;241;43m3\u001b[39;49m\u001b[43m]\u001b[49m \u001b[38;5;241m=\u001b[39m \u001b[38;5;124m\"\u001b[39m\u001b[38;5;124mn\u001b[39m\u001b[38;5;124m\"\u001b[39m\n\u001b[1;32m      3\u001b[0m \u001b[38;5;28mprint\u001b[39m(nk[\u001b[38;5;241m3\u001b[39m])\n",
      "\u001b[0;31mTypeError\u001b[0m: 'str' object does not support item assignment"
     ]
    }
   ],
   "source": [
    "nk = \"farbetter\"\n",
    "nk[3] = \"n\"\n",
    "print(nk[3])"
   ]
  },
  {
   "cell_type": "code",
   "execution_count": null,
   "id": "0e31b950-5a00-4ace-9f2a-de6be992ec56",
   "metadata": {},
   "outputs": [],
   "source": []
  }
 ],
 "metadata": {
  "kernelspec": {
   "display_name": "Python 3 (ipykernel)",
   "language": "python",
   "name": "python3"
  },
  "language_info": {
   "codemirror_mode": {
    "name": "ipython",
    "version": 3
   },
   "file_extension": ".py",
   "mimetype": "text/x-python",
   "name": "python",
   "nbconvert_exporter": "python",
   "pygments_lexer": "ipython3",
   "version": "3.10.8"
  }
 },
 "nbformat": 4,
 "nbformat_minor": 5
}
