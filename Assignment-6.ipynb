{
 "cells": [
  {
   "cell_type": "code",
   "execution_count": null,
   "id": "ec5ed00b-0d47-4bad-8af3-0c92b95cf6fb",
   "metadata": {},
   "outputs": [],
   "source": [
    "#                                                             ques - 1"
   ]
  },
  {
   "cell_type": "code",
   "execution_count": null,
   "id": "a60d26f8-051a-4fe8-9aef-0e4db4a95d24",
   "metadata": {},
   "outputs": [],
   "source": [
    "\"\"\" The class is a user defined datatype that contains variables(data) as well as method(function).It is a blueprint that\n",
    "    of object. It tells the characteristics and operation to the objects. \n",
    "    \n",
    "    The object is the instance of the class.It is a real world intity.it contains values and does the operations on the \n",
    "    basis of class properties. \n",
    "    \n",
    "    example : vehicle is a class and bike,car,bus,truck are its objects. vehicle has a property that its objects move from\n",
    "    one palce to another place , so all the objects moves. also vehicle has break and accelerator properties and all the \n",
    "    objects have that propeerties.\"\"\""
   ]
  },
  {
   "cell_type": "code",
   "execution_count": null,
   "id": "f4797f31-4fde-4527-b26a-6f392630228e",
   "metadata": {},
   "outputs": [],
   "source": [
    "#                                                             ques - 2"
   ]
  },
  {
   "cell_type": "code",
   "execution_count": null,
   "id": "966f3b03-9f9a-427c-a27f-ecb466038264",
   "metadata": {},
   "outputs": [],
   "source": [
    "\"\"\" the four pillers of object oriented programmming are :\n",
    "    1.Inheritance\n",
    "    2.Encapsulation\n",
    "    3.Ploymorphism\n",
    "    4.Abstraction \n",
    "\"\"\""
   ]
  },
  {
   "cell_type": "code",
   "execution_count": null,
   "id": "138ce11f-e751-445e-a8c7-64e40a282398",
   "metadata": {},
   "outputs": [],
   "source": [
    "#                                                             ques - 3"
   ]
  },
  {
   "cell_type": "code",
   "execution_count": 12,
   "id": "91475f5d-ee18-442f-95b5-2c0aa6a89ca4",
   "metadata": {},
   "outputs": [
    {
     "data": {
      "text/plain": [
       "('vivek', 1)"
      ]
     },
     "execution_count": 12,
     "metadata": {},
     "output_type": "execute_result"
    }
   ],
   "source": [
    "\"\"\" the __init__() function in python is type of inbuilt function that is used to take attributes in class. this method is\n",
    "    used in object oriented programming to get the values. __init__ function is also known as constructor. this function\n",
    "    is called every time when a object is created/initialized. \"\"\"\n",
    "\n",
    "class house:  \n",
    "    def __init__ (self, name, number):  \n",
    "        self.name = name  \n",
    "        self.number = number  \n",
    "    def option(self): \n",
    "           return self.name,self.number\n",
    "        \n",
    "          \n",
    "home = house(\"vivek\",1)\n",
    "home.name\n",
    "home.number\n",
    "home.option()"
   ]
  },
  {
   "cell_type": "code",
   "execution_count": null,
   "id": "c851d702-4a35-46d8-bb7e-2e1c52055883",
   "metadata": {},
   "outputs": [],
   "source": [
    "#                                                            ques - 4"
   ]
  },
  {
   "cell_type": "code",
   "execution_count": null,
   "id": "f20f4cce-0880-4af8-b2fc-27256193d1cf",
   "metadata": {},
   "outputs": [],
   "source": [
    "\"\"\" self is a keyword used in OOPS in python . it is used to represent the instance of the class. self is not a reserved\n",
    "    keyword ,instead we can use any type of string in place of self. self binds the attributes with the given arguments.\"\"\""
   ]
  },
  {
   "cell_type": "code",
   "execution_count": null,
   "id": "12f30ca7-0bd1-4d98-99f8-73e2b34fd69f",
   "metadata": {},
   "outputs": [],
   "source": [
    "#                                                            ques - 5"
   ]
  },
  {
   "cell_type": "code",
   "execution_count": null,
   "id": "c152c223-dc81-4a6c-93b6-0bfe850f9777",
   "metadata": {},
   "outputs": [],
   "source": [
    "\"\"\" Inhetitance is an important piller of object oriented programming (OOP).In inheritance ,just like real world a son inherites \n",
    "    the properties of their parents, in oops a child class can also use the feature of their parent class. and this feature is \n",
    "    acchieved by the help of concept of Inheritence \n",
    "    \n",
    "    types of Inheritence : \n",
    "    1. Single Inheritence\n",
    "    2. Multiple Inheritence\n",
    "    3. Multilevel Inheritence\n",
    "    4. Hierarchical Inheritance\n",
    "    5. Hybrid inheritance\n",
    "    \n",
    "    \n",
    "\"\"\""
   ]
  },
  {
   "cell_type": "code",
   "execution_count": 19,
   "id": "d6960f5d-6bab-4b72-abc2-d66fa0dd4d79",
   "metadata": {},
   "outputs": [
    {
     "name": "stdout",
     "output_type": "stream",
     "text": [
      "This function is in parent class.\n",
      "This function is in child class.\n"
     ]
    }
   ],
   "source": [
    " \"\"\" example of each types of Inheritence : \n",
    "    1. Single inheritence : \"\"\" \n",
    "class Parent:\n",
    "    def fun(self):\n",
    "        print(\"This function is in parent class.\")\n",
    "    \n",
    "class Child(Parent):\n",
    "    def fun2(self):\n",
    "        print(\"This function is in child class.\")\n",
    " \n",
    " object = Child()\n",
    "object.fun()\n",
    "object.fun2()"
   ]
  },
  {
   "cell_type": "code",
   "execution_count": 22,
   "id": "56bf26e5-2469-4572-9d80-7e2fd669efc2",
   "metadata": {},
   "outputs": [
    {
     "name": "stdout",
     "output_type": "stream",
     "text": [
      "Father : RAM\n",
      "Mother : SITA\n"
     ]
    }
   ],
   "source": [
    "\"\"\" 2. Multiple Inheritence : \"\"\"\n",
    "\n",
    "class Mother:\n",
    "    mothername = \"\"\n",
    " \n",
    "    def mother(self):\n",
    "        print(self.mothername)\n",
    "        \n",
    "class Father:\n",
    "    fathername = \"\"\n",
    " \n",
    "    def father(self):\n",
    "        print(self.fathername)\n",
    "\n",
    "class Son(Mother, Father):\n",
    "    def parents(self):\n",
    "        print(\"Father :\", self.fathername)\n",
    "        print(\"Mother :\", self.mothername)\n",
    " \n",
    "s1 = Son()\n",
    "s1.fathername = \"RAM\"\n",
    "s1.mothername = \"SITA\"\n",
    "s1.parents()"
   ]
  },
  {
   "cell_type": "code",
   "execution_count": 25,
   "id": "15f0914c-4343-48df-a9b3-33b158c957f6",
   "metadata": {},
   "outputs": [
    {
     "name": "stdout",
     "output_type": "stream",
     "text": [
      "Lal mani\n",
      "Grandfather name : Lal mani\n",
      "Father name : Rampal\n",
      "Son name : Prince\n"
     ]
    }
   ],
   "source": [
    "\"\"\" 3. Multilevel Inheritence: \"\"\"\n",
    "\n",
    "class Grandfather:\n",
    " \n",
    "    def __init__(self, grandfathername):\n",
    "        self.grandfathername = grandfathername\n",
    "\n",
    "class Father(Grandfather):\n",
    "    def __init__(self, fathername, grandfathername):\n",
    "        self.fathername = fathername\n",
    "        Grandfather.__init__(self, grandfathername)\n",
    "\n",
    "class Son(Father):\n",
    "    def __init__(self, sonname, fathername, grandfathername):\n",
    "        self.sonname = sonname\n",
    "        Father.__init__(self, fathername, grandfathername)\n",
    "\n",
    "    def print_name(self):\n",
    "        print('Grandfather name :', self.grandfathername)\n",
    "        print(\"Father name :\", self.fathername)\n",
    "        print(\"Son name :\", self.sonname)\n",
    "        \n",
    "        \n",
    "s1 = Son('Prince', 'Rampal', 'Lal mani')\n",
    "print(s1.grandfathername)\n",
    "s1.print_name()"
   ]
  },
  {
   "cell_type": "code",
   "execution_count": 26,
   "id": "c0285b46-c1aa-411d-8cb4-8ea8ed1686fc",
   "metadata": {},
   "outputs": [
    {
     "name": "stdout",
     "output_type": "stream",
     "text": [
      "This function is in parent class.\n",
      "This function is in child 1.\n",
      "This function is in parent class.\n",
      "This function is in child 2.\n"
     ]
    }
   ],
   "source": [
    "\"\"\" 4. Hierarchical Inheritance : \"\"\"\n",
    "\n",
    "class Parent:\n",
    "    def func1(self):\n",
    "        print(\"This function is in parent class.\")\n",
    "        \n",
    "class Child1(Parent):\n",
    "    def func2(self):\n",
    "        print(\"This function is in child 1.\")\n",
    "\n",
    "class Child2(Parent):\n",
    "    def func3(self):\n",
    "        print(\"This function is in child 2.\")\n",
    "\n",
    "object1 = Child1()\n",
    "object2 = Child2()\n",
    "object1.func1()\n",
    "object1.func2()\n",
    "object2.func1()\n",
    "object2.func3()"
   ]
  },
  {
   "cell_type": "code",
   "execution_count": 27,
   "id": "c9c7624a-de27-4445-bcfa-6c0251e4e097",
   "metadata": {},
   "outputs": [
    {
     "name": "stdout",
     "output_type": "stream",
     "text": [
      "This function is in school.\n",
      "This function is in student 1. \n"
     ]
    }
   ],
   "source": [
    "\"\"\" 5. Hybrid inheritance : \"\"\"\n",
    "\n",
    "class School:\n",
    "    def func1(self):\n",
    "        print(\"This function is in school.\")\n",
    "\n",
    "class Student1(School):\n",
    "    def func2(self):\n",
    "        print(\"This function is in student 1. \")\n",
    "        \n",
    "class Student2(School):\n",
    "    def func3(self):\n",
    "        print(\"This function is in student 2.\")\n",
    "        \n",
    "class Student3(Student1, School):\n",
    "    def func4(self):\n",
    "        print(\"This function is in student 3.\")\n",
    "        \n",
    "object = Student3()\n",
    "object.func1()\n",
    "object.func2()"
   ]
  }
 ],
 "metadata": {
  "kernelspec": {
   "display_name": "Python 3 (ipykernel)",
   "language": "python",
   "name": "python3"
  },
  "language_info": {
   "codemirror_mode": {
    "name": "ipython",
    "version": 3
   },
   "file_extension": ".py",
   "mimetype": "text/x-python",
   "name": "python",
   "nbconvert_exporter": "python",
   "pygments_lexer": "ipython3",
   "version": "3.10.8"
  }
 },
 "nbformat": 4,
 "nbformat_minor": 5
}
