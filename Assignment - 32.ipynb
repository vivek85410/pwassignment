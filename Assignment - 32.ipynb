{
 "cells": [
  {
   "cell_type": "markdown",
   "id": "6033d32f-1470-4955-807a-ea2f1f46dd62",
   "metadata": {},
   "source": [
    "# Ques - 1"
   ]
  },
  {
   "cell_type": "code",
   "execution_count": null,
   "id": "364c8d12-f90a-487b-96fe-1a34ca63a932",
   "metadata": {},
   "outputs": [],
   "source": [
    "\"\"\" A. A z-test is used to test a Null Hypothesis if the population variance is known, or if \n",
    "    the sample size is larger than 30, for an unknown population variance. A t-test is used \n",
    "    when the sample size is less than 30 and the population variance is unknown.\n",
    "                                                                               For example :\n",
    "    T - test is used for Large sample analysis, population mean comparisons.\n",
    "    Z - test is used for Small sample analysis, comparing means between groups.\n",
    "\"\"\""
   ]
  },
  {
   "cell_type": "markdown",
   "id": "79ac232c-e695-4a5e-b019-19d9bdac746e",
   "metadata": {},
   "source": [
    "# Ques - 2"
   ]
  },
  {
   "cell_type": "code",
   "execution_count": null,
   "id": "4308e521-1887-4f29-ab49-9b754efcead8",
   "metadata": {},
   "outputs": [],
   "source": [
    "\"\"\" The main difference between one tail and two tail test is :\n",
    "    one tail test results from an alternative hypothesis which specifies a direction.\n",
    "    which means there is only one region where we can reject the null hypothesis.\n",
    "                                                                    and two tail test \n",
    "    results from an alternative hypothesis which does not specify a direction.\n",
    "    which means there is two region in both the directions where we can reject the null \n",
    "    hypothesis.\n",
    "    \n",
    "    the main difference between one-tailed and two-tailed tests is that one-tailed tests will only\n",
    "    have one critical region whereas two-tailed tests will have two critical regions.\n",
    "    If we require a 100(1−α)% confidence interval we have to make some adjustments \n",
    "    when using a two-tailed test.\n",
    "\"\"\""
   ]
  },
  {
   "cell_type": "markdown",
   "id": "ace6e167-97e2-40b9-ad53-17ef014113ff",
   "metadata": {},
   "source": [
    "# Ques - 3"
   ]
  },
  {
   "cell_type": "code",
   "execution_count": null,
   "id": "6d3bcfaa-47ec-4a5c-a64a-856bfb0b5501",
   "metadata": {},
   "outputs": [],
   "source": [
    "\"\"\" Type(I) Error : \n",
    "    A type I error (false-positive) occurs if an investigator rejects a null hypothesis that\n",
    "    is actually true in the population.\n",
    "    Example scenario : A type I error appears when the null hypothesis (H0) of an experiment\n",
    "    is true, but still, it is rejected.\n",
    "    It is stating something which is not present or a false hit.\n",
    "    In words of community tales, a person may see the bear when there is none (raising a false alarm)\n",
    "    where the null hypothesis (H0) contains the statement: “There is no bear”.\n",
    "    \n",
    "    Type(II) Error : \n",
    "    A type II error (false-negative) occurs if the investigator fails to reject a null hypothesis\n",
    "    that is actually false in the population.\n",
    "    Example scenario : an examiner may miss discovering the bear when in fact a bear is present\n",
    "    (hence fails in raising the alarm). Again, H0, the null hypothesis, consists of the statement\n",
    "    that, “There is no bear”, wherein, if a wolf is indeed present, is a type II error on the part\n",
    "    of the investigator.\n",
    "\"\"\""
   ]
  },
  {
   "cell_type": "markdown",
   "id": "f29ce029-1cc4-4910-ad44-559c983e4691",
   "metadata": {},
   "source": [
    "# Ques - 4"
   ]
  },
  {
   "cell_type": "code",
   "execution_count": null,
   "id": "8a1e70ae-017a-405f-8aef-58dce96b21e0",
   "metadata": {},
   "outputs": [],
   "source": [
    "\"\"\" Baye's theorem : It is a very important theorem in mathematics that is used to find the probability\n",
    "    of an event, based on prior knowledge of conditions that might be related to that event. It is a \n",
    "    further case of conditional probability.\n",
    "    It is used where the probability of occurrence of a particular event is calculated based on other \n",
    "    conditions which are also called conditional probability.\n",
    "    \n",
    "    Formula : P(A/B) = (P(A) * P(B/A)) / P(B)\n",
    "    \n",
    "    Example :  There are 3 bags, each containing some white marble and some black marble in each bag.\n",
    "    If a white marble is drawn at random. What is the probability to find that this white marble is \n",
    "    from the first bag? In cases like such, we use Bayes’ Theorem. \n",
    "\"\"\""
   ]
  },
  {
   "cell_type": "markdown",
   "id": "7e293d2f-5883-4b29-baa4-de5ec93ec595",
   "metadata": {},
   "source": [
    "# Ques - 5"
   ]
  },
  {
   "cell_type": "code",
   "execution_count": null,
   "id": "e25af983-a5d5-4b0b-83f1-8a6f3f00de9a",
   "metadata": {},
   "outputs": [],
   "source": [
    "\"\"\" The confidence interval is the region(between two points where the probability of the population\n",
    "    parameter lies.\n",
    "    the confidence interval often lies at 99%,95%, or 90% as basic in comparison\n",
    "    to standard deviation for the population.\n",
    "    The confidence interval is calculated using the standard deviation of the sampl population \n",
    "    mean and by using the z-test or t-test.\n",
    "    \n",
    "    the confidence interval is calculated by :\n",
    "    confidence interval = sample mean (+-) margin of error.\n",
    "    it is calculated by adding or subtracting margin of error in sample mean of the sample population.\n",
    "    Example : step 1. -Find the number of samples (n).\n",
    "              step 2. -Calculate the mean of the sample.\n",
    "              step 3. -find the standard deviation of the sample.\n",
    "              step 4. -decide the  test(Z , T) to be used on the sample.\n",
    "              step 5. -find the point estimate form the z-table or t-table.\n",
    "              step 6. -Calculate the confidence interval using the formula.\n",
    "              step 7. -Draw the conclusion for the sample over the population.\n",
    "\"\"\""
   ]
  },
  {
   "cell_type": "markdown",
   "id": "fbf308b0-4193-4d51-b391-0f9881f7302f",
   "metadata": {},
   "source": [
    "# Ques - 6"
   ]
  },
  {
   "cell_type": "code",
   "execution_count": null,
   "id": "08934e68-1ed2-4b74-aa42-0e7065da91ee",
   "metadata": {},
   "outputs": [],
   "source": [
    "\"\"\" Bay's theorem :\n",
    "    \n",
    "    problem : A bag I contains 4 white and 6 black balls while another Bag II contains 4 white and\n",
    "    3 black balls. One ball is drawn at random from one of the bags, and it is found to be black.\n",
    "    Find the probability that it was drawn from Bag I.\n",
    "    \n",
    "    Solution : Let E1 be the event of choosing bag I, E2 the event of choosing bag II, and A be \n",
    "    the event of drawing a black ball.\n",
    "    Then,\n",
    "    P(E1) = P(E2) = 1/2\n",
    "    Also, P(A|E1) = P(drawing a black ball from Bag I) = 6/10 = 3/5\n",
    "    P(A|E2) = P(drawing a black ball from Bag II) = 3/7\n",
    "    By using Bayes’ theorem, the probability of drawing a black ball from bag I out of two bags,\n",
    "    \n",
    "    P(E1/A) = ( P(E1) P(A/E1) )/ P(E1) P(A/E1) + P(E2) P(A/E2) \n",
    "    \n",
    "            = (1/2 * 3/5) / (1/2 * 3/5) + (1/2 * 3/7)\n",
    "            \n",
    "            = 7/12.\n",
    "\"\"\""
   ]
  },
  {
   "cell_type": "markdown",
   "id": "848bb5a4-2f14-4bbb-b41e-f4fe3ab0755f",
   "metadata": {},
   "source": [
    "# Ques - 7"
   ]
  },
  {
   "cell_type": "code",
   "execution_count": null,
   "id": "300ea302-0b14-4b48-95d1-567d13fa4012",
   "metadata": {},
   "outputs": [],
   "source": [
    "\"\"\" mean of sample data = 50\n",
    "    standard deviation = 5\n",
    "    confidence interval = 95%\n",
    "    \n",
    "    so sample size will be 16.( n = (1.960 * 5) / 2.5 )\n",
    "    then,\n",
    "        CI = X +- Z*(S/√n)\n",
    "           = 50 +- 1.9600 * (5 / 4 ) \n",
    "           = (50 +- 2.45)\n",
    "\"\"\""
   ]
  },
  {
   "cell_type": "markdown",
   "id": "7a0eaa44-bc24-4b5b-b244-3d3df564d740",
   "metadata": {},
   "source": [
    "# Ques - 8"
   ]
  },
  {
   "cell_type": "code",
   "execution_count": null,
   "id": "a914e14f-4997-41bf-89ff-07d66fd587bd",
   "metadata": {},
   "outputs": [],
   "source": [
    "\"\"\" Margin of error tails about the precision of th e result. if there a given margin of error\n",
    "    in a result (+-3%) then it shows that the result lies between result - margin of error to \n",
    "    result + margin of error.\n",
    "    The relation between the sample size and the margin of error is that :\n",
    "    1. CI = p  ±  z*√p(1-p) / n\n",
    "    2. CI = x̄  ± z*(s/√n)\n",
    "    \n",
    "    In both the formulas, the relation of size of sample and margin of error is inversaly proportional.\n",
    "    which means when the sample size is large then the margin of error is small, and vice versa.\n",
    "    \n",
    "    Example : \n",
    "    Suppose that the Gallup Organization’s latest poll sampled 1,000 people from the United States,\n",
    "    and the results show that 520 people (52%) think the president is doing a good job, compared to\n",
    "    48% who don’t think so. First, assume you want a 95% level of confidence,\n",
    "    z = 1.9600\n",
    "    The number of Americans in the sample who said they approve of the president was found to be 520.\n",
    "    This means that the sample proportion, is 520 / 1,000 = 0.52. (The sample size, n, was 1,000.) \n",
    "    so margin of error will be = 0.03100\n",
    "    which means (+/-)3.1%.\n",
    "    but when we take sample size = 500(instead of 1000)\n",
    "    Now the margin of error for 95% confidence is 0.0438\n",
    "    which means (+/-)4.3%\n",
    "    and again we increase the size of the sample from 500 to 1500\n",
    "    now the margin of error for 95% confidence is 0.0253\n",
    "    which means (+/-)2.5%\n",
    "    \n",
    "    so this stats  that the statement given about the relation with sample size is true.\n",
    "\"\"\""
   ]
  },
  {
   "cell_type": "markdown",
   "id": "17d2923e-79d6-45d4-bc33-6ee4ab35910d",
   "metadata": {},
   "source": [
    "# Ques - 9"
   ]
  },
  {
   "cell_type": "code",
   "execution_count": null,
   "id": "130c7f54-8ec4-46b2-841b-5f5cd2193bcc",
   "metadata": {},
   "outputs": [],
   "source": [
    "\"\"\" sample size(n) = 75\n",
    "    mean(X) = 70\n",
    "    std(s) = 5\n",
    "    so Z  = (row score - mean) / std\n",
    "          = (75-70)/5\n",
    "          = 1\n",
    "    so from the z-table the probability will be 70<X<75 = 0.34134\n",
    "    this represents that an element, which is 1 standard deviation greater than the mean.\n",
    "\"\"\""
   ]
  },
  {
   "cell_type": "markdown",
   "id": "5c6d3214-c713-4b5e-b45c-cbb067b1a17f",
   "metadata": {},
   "source": [
    "# Ques - 10"
   ]
  },
  {
   "cell_type": "code",
   "execution_count": null,
   "id": "79b19613-d7c4-4d9f-9fd4-cbc06dd8a0ff",
   "metadata": {},
   "outputs": [],
   "source": [
    "\"\"\" n = 50 \n",
    "    X = 6\n",
    "    S = 2.5\n",
    "    CI = 95% \n",
    "    df = 49\n",
    "    t value = 1.6766\n",
    "    \n",
    "    Null hypothesis = the drug is effective\n",
    "    Alternate hpothesis = the drug is not effective\n",
    "    \n",
    "    t = X - U / S/√n\n",
    "    U = X` +- t* s/√n\n",
    "        = 6 +- 1.6766(2.5/√50)\n",
    "        = 6.591 to 5.404\n",
    "        \n",
    "    t = 6 - 6.591 / 2.5/7.07 = -1.67\n",
    "    \n",
    "    from significance level 0.05 area under the curve = 1.96 to -1.96\n",
    "    conclusion : we fail to reject the null hypothesis because the t value is less than the area under the curve\n",
    "    so the newly made drug is effective.\n",
    "\"\"\""
   ]
  },
  {
   "cell_type": "markdown",
   "id": "8f1e6581-22ab-4045-8b65-1f4da65456a5",
   "metadata": {},
   "source": [
    "# Ques - 11"
   ]
  },
  {
   "cell_type": "code",
   "execution_count": null,
   "id": "d8063d20-133c-404e-86f9-3cd36f1a4d59",
   "metadata": {},
   "outputs": [],
   "source": [
    "\"\"\" n = 500\n",
    "    x = 65% = 0.65\n",
    "    CI = 95% = 0.95\n",
    "    signficane level = 1- 0.95 = 0.05 \n",
    "    z = 1.96 (standard critical value)\n",
    "    therefore,\n",
    "    lower limit of confidence interval = \n",
    "       = x - z( √(x(1-x))/n )\n",
    "       = 0.65  - 1.96 (√0.65(1-0.65) / 500 \n",
    "       = 0.609\n",
    "       \n",
    "    Upper limit of confidence interval = \n",
    "       = x + z( √(x(1-x))/n )\n",
    "       = 0.65 + 1.96 (√0.65(1-0.65) / 500\n",
    "       = 0.691\n",
    "       \n",
    "    So the confidence interval at 95% is (0.609,0.691)\n",
    "\"\"\""
   ]
  },
  {
   "cell_type": "markdown",
   "id": "6f7c121f-c84b-447b-8a61-fe4b9fb14aeb",
   "metadata": {},
   "source": [
    "# Ques - 12"
   ]
  },
  {
   "cell_type": "code",
   "execution_count": null,
   "id": "685568ce-e7c3-430e-8b88-4e2e83716d7c",
   "metadata": {},
   "outputs": [],
   "source": [
    "\"\"\" x1 = 85            x2 = 82\n",
    "    s1 = 6             s2 = 5\n",
    "    Error = 4.25       Error = 4.1\n",
    "    significance level = 0.01 == 99% CI.\n",
    "    \n",
    "    Null hypothesis : there is difference between both the methods. x1 != x2\n",
    "    Alternate hypothesis : there is no difference between both the methods.x1 == x2\n",
    "   \n",
    "    critical value = 2.575 \n",
    "    first we have to find the estimate sample size = 2.575 * 6 / 4.25  = 13.17 ~ 14\n",
    "            another sample size  = 2.575 * 5 / 4.1 = 9.79 ~ 10\n",
    "    know for t-test = x1 - x2 / √((s1)'2/n1 + (s2)'2)/n2 = 85 - 82 / √ (36/14 + 25/10) = 1.33\n",
    "    conclusion : \n",
    "    So for the confidence interval 99% the t-value is less than critical value so,\n",
    "    we fail to reject the null hypothesis.\n",
    "    and there is difference between both the teaching methods.\n",
    "\"\"\""
   ]
  },
  {
   "cell_type": "markdown",
   "id": "18b5fd4c-69e4-4d9e-92da-e82a1589fa78",
   "metadata": {},
   "source": [
    "# Ques - 13"
   ]
  },
  {
   "cell_type": "code",
   "execution_count": null,
   "id": "9d6d371b-97f6-40ac-9c47-5a337e7554d2",
   "metadata": {},
   "outputs": [],
   "source": [
    "\"\"\" X = 60                    S = 8\n",
    "    sample size(n) = 50      x = 65\n",
    "    CI = 90%                 significance = 0.1\n",
    "    population error = 3     sample error = 1.95\n",
    "    z value = -1.65 to +1.65\n",
    "    Z = X - U / (S / √n)\n",
    "      = 65 - 60 / (8 / √50)\n",
    "      = 5 / 8/7.07\n",
    "      = 4.42\n",
    "    lower limit of confidence interval :\n",
    "    = x - z( √(x(1-x))/n )\n",
    "    = 65 -1.65(√(65(-64))/50\n",
    "    = 49.952\n",
    "    \n",
    "    Upper limit of confidence interval : \n",
    "    = x + z( √(x(1-x))/n )\n",
    "    = 65 + 1.65( √(65(-64))/50)\n",
    "    = 65 + 15.48\n",
    "    = 80.48\n",
    "    \n",
    "    so the cofidence inteval at 90 is (49.925 , 80.48)\n",
    "\"\"\""
   ]
  },
  {
   "cell_type": "markdown",
   "id": "04d1927d-531c-48af-9ccf-e220f6854e93",
   "metadata": {},
   "source": [
    "# Ques - 14"
   ]
  },
  {
   "cell_type": "code",
   "execution_count": null,
   "id": "63cc7037-39d1-4030-ae09-e47be7a17c83",
   "metadata": {},
   "outputs": [],
   "source": [
    "\"\"\" n = 30\n",
    "    x = 0.25\n",
    "    s = 0.05\n",
    "    CI = 90% = significance level = 0.01\n",
    "    df = 29\n",
    "    \n",
    "    Null hypothesis = caffeine has an effect on reaction time\n",
    "    Alternate hypthesis = Caffeine has no effect on reaction time\n",
    "    \n",
    "    t_value = 2.462\n",
    "    T = (m - u) / (s/√n)\n",
    "    standard error of mean = 0.05/√30 = 0.0091\n",
    "    = 0.2500 - 0.0100 / 0.0091\n",
    "    = 26.37\n",
    "    \n",
    "    Conclusion : \n",
    "    As the t statistics value 26.37 > 2.462 , therefore we reject the null hypothesis and\n",
    "    cafffeine has no effect on the reaction time.\n",
    "\"\"\"    "
   ]
  }
 ],
 "metadata": {
  "kernelspec": {
   "display_name": "Python 3 (ipykernel)",
   "language": "python",
   "name": "python3"
  },
  "language_info": {
   "codemirror_mode": {
    "name": "ipython",
    "version": 3
   },
   "file_extension": ".py",
   "mimetype": "text/x-python",
   "name": "python",
   "nbconvert_exporter": "python",
   "pygments_lexer": "ipython3",
   "version": "3.10.8"
  }
 },
 "nbformat": 4,
 "nbformat_minor": 5
}
