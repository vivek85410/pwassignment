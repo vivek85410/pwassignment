{
 "cells": [
  {
   "cell_type": "markdown",
   "id": "bbb06733-84c3-482f-b9a7-a97de61539d1",
   "metadata": {},
   "source": [
    "# Ques - 1"
   ]
  },
  {
   "cell_type": "code",
   "execution_count": 3,
   "id": "e07bc620-f7c2-43cf-9fe7-e9c6cd82b688",
   "metadata": {},
   "outputs": [
    {
     "data": {
      "text/plain": [
       "(40.200180077299734, 59.799819922700266)"
      ]
     },
     "execution_count": 3,
     "metadata": {},
     "output_type": "execute_result"
    }
   ],
   "source": [
    "from scipy import stats as st\n",
    "mean = 50\n",
    "sigma = 5\n",
    "CI = 0.95\n",
    "conf_int = st.norm.interval(0.95, loc=mean, scale=sigma)\n",
    "conf_int\n",
    "\n",
    "\"\"\" from the function scipy we have imported stats iin which there is a function that uses \n",
    "    percentage of confidence interval and mean as well as standard deviation that in return\n",
    "    it gives the upper bound and lower bound of the confidence interval.\n",
    "    so Lower bound = 40.2000180077299734\n",
    "    and Upper bound = 59.799819922700266\n",
    "\"\"\""
   ]
  },
  {
   "cell_type": "markdown",
   "id": "0bbfd580-2153-4b85-bf1e-724342e25217",
   "metadata": {},
   "source": [
    "# Ques - 2"
   ]
  },
  {
   "cell_type": "code",
   "execution_count": 14,
   "id": "f2ae0c77-61e5-4882-876b-83c017b8cd98",
   "metadata": {},
   "outputs": [
    {
     "name": "stdout",
     "output_type": "stream",
     "text": [
      "Reject the null hypothesis\n"
     ]
    }
   ],
   "source": [
    "\"\"\" Blue = 20%\n",
    "    Orange = 20%\n",
    "    Green = 20%\n",
    "    Yellow = 10%\n",
    "    Red = 10%\n",
    "    Brown = 20%\n",
    "    let select a random sample (n) = 300\n",
    "\"\"\"\n",
    "from scipy import stats\n",
    "import numpy as np\n",
    "    \n",
    "expected_data = [60,60,60,30,30,60]\n",
    "observed_data = [38,53,62,47,44,56]\n",
    "    \n",
    "chi_test,p_value = stats.chisquare(observed_data,expected_data)\n",
    "significance_value = 0.05\n",
    "df = 5\n",
    "critical_value = stats.chi2.ppf(significance_value,df)\n",
    "if chi_test > critical_value:\n",
    "    print(\"Reject the null hypothesis\")\n",
    "else:\n",
    "    print(\"we fail to reject the null Hypothesis\")"
   ]
  },
  {
   "cell_type": "markdown",
   "id": "a89f0dd0-bd60-4553-8812-c753958faafa",
   "metadata": {},
   "source": [
    "# Ques - 3"
   ]
  },
  {
   "cell_type": "code",
   "execution_count": 24,
   "id": "86279e2a-fd8f-4385-a129-70d4cc49c4ae",
   "metadata": {},
   "outputs": [
    {
     "data": {
      "text/plain": [
       "(5.833333333333334,\n",
       " 0.05411376622282158,\n",
       " 2,\n",
       " array([[15., 15., 15.],\n",
       "        [20., 20., 20.]]))"
      ]
     },
     "execution_count": 24,
     "metadata": {},
     "output_type": "execute_result"
    }
   ],
   "source": [
    "\"\"\" Group A = [20,10,15]\n",
    "    Group B = [15,25,20]\n",
    "\"\"\"\n",
    "import numpy as np\n",
    "from scipy.stats import chi2_contingency\n",
    "\n",
    "data = np.array([[20,10,15],[15,25,20]])\n",
    "test = chi2_contingency(data)\n",
    "test"
   ]
  },
  {
   "cell_type": "markdown",
   "id": "ce5593d8-0033-4c17-8217-fb7e1fee9f7c",
   "metadata": {},
   "source": [
    "# Ques - 4"
   ]
  },
  {
   "cell_type": "code",
   "execution_count": 28,
   "id": "c4f4e841-908e-4cf8-9078-a931fa90195a",
   "metadata": {},
   "outputs": [
    {
     "data": {
      "text/plain": [
       "(0.09151586546865079, 0.1484841345313492)"
      ]
     },
     "execution_count": 28,
     "metadata": {},
     "output_type": "execute_result"
    }
   ],
   "source": [
    "import math\n",
    "n = 500\n",
    "smoker_pop= 60\n",
    "sample = 60/500\n",
    "ci = 0.95 \n",
    "critical_value = 1.96\n",
    "CI_lower = sample - critical_value*math.sqrt(sample*(1-sample)/500)\n",
    "CI_Upper = sample + critical_value*math.sqrt(sample*(1-sample)/500)\n",
    "CI_lower,CI_Upper"
   ]
  },
  {
   "cell_type": "markdown",
   "id": "c1bd53fb-54d2-4dc1-99ce-edcdc64878f8",
   "metadata": {},
   "source": [
    "# Ques - 5"
   ]
  },
  {
   "cell_type": "code",
   "execution_count": 3,
   "id": "706c2b26-6b28-416d-87d7-75c2761eb584",
   "metadata": {},
   "outputs": [
    {
     "data": {
      "text/plain": [
       "(55.26175647658233, 94.73824352341767)"
      ]
     },
     "execution_count": 3,
     "metadata": {},
     "output_type": "execute_result"
    }
   ],
   "source": [
    "from scipy import stats as st\n",
    "mean = 75\n",
    "std = 12\n",
    "CI = 0.90\n",
    "conf_int = st.norm.interval(0.90, loc=mean, scale=std)\n",
    "conf_int\n",
    "\"\"\" for 90% confidence level the lower bound of the confidence interval is 55.26175647658233\n",
    "    and the upper bound of the confidence interval is 94.738243552341767.\n",
    "\"\"\" "
   ]
  },
  {
   "cell_type": "markdown",
   "id": "d361f997-782d-4bc0-91fd-3be71d37c0c4",
   "metadata": {},
   "source": [
    "# Ques - 6"
   ]
  },
  {
   "cell_type": "code",
   "execution_count": 34,
   "id": "1c58f90a-7f7c-4ace-b7c3-9dd8a9995452",
   "metadata": {},
   "outputs": [
    {
     "data": {
      "image/png": "[encoded data removed]",
      "text/plain": [
       "<Figure size 640x480 with 1 Axes>"
      ]
     },
     "metadata": {},
     "output_type": "display_data"
    }
   ],
   "source": [
    "import numpy as np\n",
    "import matplotlib.pyplot as plt\n",
    "from scipy.stats import chi2\n",
    "\n",
    "x = np.arange(0,15,0.001)\n",
    "plt.fill_between(x, chi2.pdf(x,df=10), label='df: 10' , color = 'blue')\n",
    "plt.xlabel(\"area\")\n",
    "plt.ylabel(\"Degree of freedom\")\n",
    "plt.show()"
   ]
  },
  {
   "cell_type": "markdown",
   "id": "65929c4f-446e-4bbf-a51a-e6298c3bc2ea",
   "metadata": {},
   "source": [
    "# Ques - 7"
   ]
  },
  {
   "cell_type": "code",
   "execution_count": 36,
   "id": "6bec9293-9c48-427a-bf27-f5a801c6669c",
   "metadata": {},
   "outputs": [
    {
     "data": {
      "text/plain": [
       "(0.4793182596242491, 0.5606817403757509)"
      ]
     },
     "execution_count": 36,
     "metadata": {},
     "output_type": "execute_result"
    }
   ],
   "source": [
    "import math\n",
    "n = 1000\n",
    "coke = 520\n",
    "sample = 520/1000\n",
    "ci = 0.99\n",
    "critical_value = 2.575\n",
    "CI_lower = sample - critical_value*math.sqrt(sample*(1-sample)/1000)\n",
    "CI_Upper = sample + critical_value*math.sqrt(sample*(1-sample)/1000)\n",
    "CI_lower,CI_Upper"
   ]
  },
  {
   "cell_type": "markdown",
   "id": "08e7afe1-d127-4133-8813-fb6d5e1de9a5",
   "metadata": {},
   "source": [
    "# Ques - 8"
   ]
  },
  {
   "cell_type": "code",
   "execution_count": 43,
   "id": "4b4c387c-cc7c-4f33-8c3f-d4bda5c6de45",
   "metadata": {},
   "outputs": [
    {
     "name": "stdout",
     "output_type": "stream",
     "text": [
      "Reject the null hypothesis ,so the coin is not fair\n"
     ]
    }
   ],
   "source": [
    "from scipy import stats as st\n",
    "import numpy as np\n",
    "\n",
    "n = 100\n",
    "tail = 45\n",
    "observed_value = [45,55]\n",
    "expected_value = [50,50]\n",
    "chi_test,p_value = st.chisquare(observed_value,expected_value)\n",
    "significance_value = 0.05\n",
    "df = 1\n",
    "critical_value = st.chi2.ppf(significance_value,df)\n",
    "if chi_test > critical_value:\n",
    "    print(\"Reject the null hypothesis ,so the coin is not fair\")\n",
    "else:\n",
    "    print(\"we fail to reject the null Hypothesis ,so the coin is fair\")"
   ]
  },
  {
   "cell_type": "markdown",
   "id": "e2193da8-9240-4e4c-815f-1de96cf580e2",
   "metadata": {},
   "source": [
    "# Ques - 9"
   ]
  },
  {
   "cell_type": "code",
   "execution_count": 54,
   "id": "6b6fe6c0-2a99-4ea6-aa34-4364c88ae62b",
   "metadata": {},
   "outputs": [
    {
     "name": "stdout",
     "output_type": "stream",
     "text": [
      "Reject the null hypothesis ,so there is no association between smokers and non-smokers\n"
     ]
    }
   ],
   "source": [
    "significance_value = 0.05\n",
    "import numpy as np\n",
    "from scipy import stats as st\n",
    "from scipy.stats import chi2_contingency\n",
    "data = np.array([[60,30],[140,170]])\n",
    "test = chi2_contingency(data)\n",
    "test_value = 12.057347670250895\n",
    "p_value = 0.005158863863703744\n",
    "df = 1\n",
    "critical_value = st.chi2.ppf(significance_value,df)\n",
    "if test_value > critical_value:\n",
    "    print(\"Reject the null hypothesis , so there is no association between smokers and non-smokers\")\n",
    "else:\n",
    "    print(\"we fail to reject the null Hypothesis ,so there is association between smokers and non smokers\")"
   ]
  },
  {
   "cell_type": "markdown",
   "id": "d7cc4455-75e1-4501-a0ef-9ed19e74130f",
   "metadata": {},
   "source": [
    "# Ques - 10"
   ]
  },
  {
   "cell_type": "code",
   "execution_count": 59,
   "id": "d9628cf0-e437-423e-9490-76eee7cc8a97",
   "metadata": {},
   "outputs": [
    {
     "name": "stdout",
     "output_type": "stream",
     "text": [
      "Reject the null hypothesis , so there is no any significance association between chocolate prefence and country origin.\n"
     ]
    }
   ],
   "source": [
    "import numpy as np\n",
    "from scipy import stats as st\n",
    "from scipy.stats import chi2_contingency\n",
    "significance_value = 0.01\n",
    "data = np.array([[200,150,150],[225,175,100]])\n",
    "test = chi2_contingency(data)\n",
    "test_value = 13.393665158371041\n",
    "p_value = 0.0012348168997745918\n",
    "df = 2\n",
    "critical_value = st.chi2.ppf(significance_value,df)\n",
    "if test_value > critical_value:\n",
    "    print(\"Reject the null hypothesis , so there is no any significance association between chocolate prefence and country origin.\")\n",
    "else:\n",
    "    print(\"we fail to Reject the null hypothesis , so there is significant association between chocolate prefence and country origin.\")"
   ]
  },
  {
   "cell_type": "markdown",
   "id": "36156f97-b5fb-40d0-b2b6-937e431372be",
   "metadata": {},
   "source": [
    "# Ques - 11"
   ]
  },
  {
   "cell_type": "code",
   "execution_count": 61,
   "id": "40c6e902-5aaa-4eff-85a1-b5d64517d9eb",
   "metadata": {},
   "outputs": [
    {
     "name": "stdout",
     "output_type": "stream",
     "text": [
      "We fail to reject the null hypothesis , So there is no enough evidence to reject the null hypothesis.\n"
     ]
    }
   ],
   "source": [
    "n = 30\n",
    "mean = 72\n",
    "std = 10\n",
    "significance_level = 0.05\n",
    "# Null hypothesis : U = 70\n",
    "# Alternate hypothesis : U != 70\n",
    "\"\"\" test = (sample mean - hypothesized mean) / sample standard deviation / sqrt(sample size)\n",
    "    t = 72 - 70 / (10 / sqrt(30))\n",
    "    t = 0.60\n",
    "    p_value = 0.5532\n",
    "\"\"\"\n",
    "p_value = 0.5532\n",
    "if p_value < significance_level :\n",
    "    print(\"We reject the null hypothesis , So mean is not equal as given.\")\n",
    "else:\n",
    "    print(\"We fail to reject the null hypothesis , So there is no enough evidence to reject the null hypothesis.\")\n",
    "    "
   ]
  },
  {
   "cell_type": "code",
   "execution_count": null,
   "id": "9e58e46e-61aa-43d9-88d1-f44cff37d9f3",
   "metadata": {},
   "outputs": [],
   "source": []
  }
 ],
 "metadata": {
  "kernelspec": {
   "display_name": "Python 3 (ipykernel)",
   "language": "python",
   "name": "python3"
  },
  "language_info": {
   "codemirror_mode": {
    "name": "ipython",
    "version": 3
   },
   "file_extension": ".py",
   "mimetype": "text/x-python",
   "name": "python",
   "nbconvert_exporter": "python",
   "pygments_lexer": "ipython3",
   "version": "3.10.8"
  }
 },
 "nbformat": 4,
 "nbformat_minor": 5
}
