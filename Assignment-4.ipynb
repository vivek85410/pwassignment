{
 "cells": [
  {
   "cell_type": "code",
   "execution_count": 1,
   "id": "9fb42582-60af-4559-b4cf-a29f3645b733",
   "metadata": {},
   "outputs": [],
   "source": [
    "#                                                                ques - 1"
   ]
  },
  {
   "cell_type": "code",
   "execution_count": 2,
   "id": "74d3a0c1-2be7-4c02-a006-46a836665ba3",
   "metadata": {},
   "outputs": [
    {
     "name": "stdout",
     "output_type": "stream",
     "text": [
      "[('Virat Kohli', 24936), ('Jack Kallis', 25534), ('Ricky Ponting', 27483), ('Sachin Tendulkar', 34357)]\n"
     ]
    }
   ],
   "source": [
    "l = [('Sachin Tendulkar', 34357), ('Ricky Ponting', 27483), ('Jack Kallis', 25534), ('Virat Kohli', 24936)]\n",
    "l.sort(key =lambda x:x[1]) \n",
    "print(l)"
   ]
  },
  {
   "cell_type": "code",
   "execution_count": 3,
   "id": "cdcd9221-4ea2-418b-b436-7f144ee871fb",
   "metadata": {},
   "outputs": [],
   "source": [
    "#                                                                ques - 2"
   ]
  },
  {
   "cell_type": "code",
   "execution_count": 4,
   "id": "b6c46545-efd6-4ef8-9ed5-684111e17950",
   "metadata": {},
   "outputs": [
    {
     "data": {
      "text/plain": [
       "[1, 4, 9, 16, 25, 36, 49, 64, 81, 100]"
      ]
     },
     "execution_count": 4,
     "metadata": {},
     "output_type": "execute_result"
    }
   ],
   "source": [
    "l1 = [1, 2, 3, 4, 5, 6, 7, 8, 9, 10]\n",
    "list(map(lambda x : x**2 , l1))"
   ]
  },
  {
   "cell_type": "code",
   "execution_count": 5,
   "id": "739a0560-e08e-42d1-9957-5e7b400a4352",
   "metadata": {},
   "outputs": [],
   "source": [
    "#                                                                ques - 3"
   ]
  },
  {
   "cell_type": "code",
   "execution_count": 1,
   "id": "474a51ac-03ad-4ef6-938b-1b0a911734cc",
   "metadata": {},
   "outputs": [
    {
     "name": "stdout",
     "output_type": "stream",
     "text": [
      "('1', '2', '3', '4', '5', '6', '7', '8', '9', '10')\n"
     ]
    }
   ],
   "source": [
    "l2 = [1, 2, 3, 4, 5, 6, 7, 8, 9, 10]\n",
    "result = map(lambda x:x,l2)\n",
    "new_result = tuple(map(str,result))\n",
    "print(new_result)"
   ]
  },
  {
   "cell_type": "code",
   "execution_count": null,
   "id": "d362f44e-cbca-40ea-99f2-3fc37462166b",
   "metadata": {},
   "outputs": [],
   "source": [
    "#                                                                ques - 4"
   ]
  },
  {
   "cell_type": "code",
   "execution_count": 4,
   "id": "9dad678c-6500-4cb3-b358-29d82e6ab958",
   "metadata": {},
   "outputs": [
    {
     "data": {
      "text/plain": [
       "15511210043330985984000000"
      ]
     },
     "execution_count": 4,
     "metadata": {},
     "output_type": "execute_result"
    }
   ],
   "source": [
    "from functools import reduce\n",
    "l3 = []\n",
    "for i in range(1,26):\n",
    "    l3.append(i)\n",
    "reduce (lambda x,y:x*y,l3)"
   ]
  },
  {
   "cell_type": "code",
   "execution_count": null,
   "id": "6f3e3e75-8b41-4aff-99ef-69db8c75ce5c",
   "metadata": {},
   "outputs": [],
   "source": [
    "#                                                               ques - 5"
   ]
  },
  {
   "cell_type": "code",
   "execution_count": 6,
   "id": "ebef61aa-aa1e-4afd-9890-375cd07b96b7",
   "metadata": {},
   "outputs": [
    {
     "data": {
      "text/plain": [
       "[6, 60, 90, 120]"
      ]
     },
     "execution_count": 6,
     "metadata": {},
     "output_type": "execute_result"
    }
   ],
   "source": [
    "l4 = [2, 3, 6, 9, 27, 60, 90, 120, 55, 46]\n",
    "list(filter(lambda x : x%2==0 and x%3==0,l4))"
   ]
  },
  {
   "cell_type": "code",
   "execution_count": null,
   "id": "ab87c3a2-4cc9-4ae4-8eb8-be56f12fea63",
   "metadata": {},
   "outputs": [],
   "source": [
    "#                                                               ques - 6"
   ]
  },
  {
   "cell_type": "code",
   "execution_count": 8,
   "id": "eb5d1e4b-8655-4b77-ada0-701663916c80",
   "metadata": {},
   "outputs": [
    {
     "data": {
      "text/plain": [
       "['php', 'aba', 'radar', 'level']"
      ]
     },
     "execution_count": 8,
     "metadata": {},
     "output_type": "execute_result"
    }
   ],
   "source": [
    "l5 = ['python', 'php', 'aba', 'radar', 'level']\n",
    "list(filter(lambda x : x[::-1]==x[::1],l5))"
   ]
  }
 ],
 "metadata": {
  "kernelspec": {
   "display_name": "Python 3 (ipykernel)",
   "language": "python",
   "name": "python3"
  },
  "language_info": {
   "codemirror_mode": {
    "name": "ipython",
    "version": 3
   },
   "file_extension": ".py",
   "mimetype": "text/x-python",
   "name": "python",
   "nbconvert_exporter": "python",
   "pygments_lexer": "ipython3",
   "version": "3.10.8"
  }
 },
 "nbformat": 4,
 "nbformat_minor": 5
}
